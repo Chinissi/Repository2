{
 "cells": [
  {
   "cell_type": "code",
   "execution_count": 51,
   "metadata": {},
   "outputs": [],
   "source": [
    "\"\"\"Example: How to create an Expectation Suite with the Missingness Data Assistant\n",
    "\n",
    "--documentation--\n",
    "    https://docs.greatexpectations.io/docs/guides/expectations/data_assistants/how_to_create_an_expectation_suite_with_the_missingness_data_assistant\n",
    "\"\"\"\n",
    "import great_expectations as gx\n",
    "\n",
    "context = gx.get_context()"
   ]
  },
  {
   "cell_type": "code",
   "execution_count": 52,
   "metadata": {},
   "outputs": [],
   "source": [
    "datasource = context.sources.add_pandas_filesystem(\n",
    "    name=\"my_custom_datasource_name\",  # custom name to assign to new datasource, can be used to retrieve datasource later\n",
    "    base_directory=\"../../tests/test_sets/taxi_yellow_tripdata_samples/\",  # replace with your data directory\n",
    ")"
   ]
  },
  {
   "cell_type": "code",
   "execution_count": 53,
   "metadata": {},
   "outputs": [],
   "source": [
    "asset = datasource.add_csv_asset(\n",
    "    \"my_custom_asset_name\",  # custom name to assign to the asset, can be used to retrieve asset later\n",
    "    batching_regex=r\"yellow_tripdata_sample_(?P<year>\\d{4})-(?P<month>\\d{2})\\.csv\",\n",
    ")"
   ]
  },
  {
   "cell_type": "code",
   "execution_count": 54,
   "metadata": {},
   "outputs": [],
   "source": [
    "batch_request = asset.build_batch_request()"
   ]
  },
  {
   "cell_type": "code",
   "execution_count": 55,
   "metadata": {},
   "outputs": [
    {
     "name": "stdout",
     "output_type": "stream",
     "text": [
      "\n"
     ]
    },
    {
     "data": {
      "application/vnd.jupyter.widget-view+json": {
       "model_id": "2df4b93c738c473d868c1be7de67d51e",
       "version_major": 2,
       "version_minor": 0
      },
      "text/plain": [
       "Generating Expectations:   0%|          | 0/1 [00:00<?, ?it/s]"
      ]
     },
     "metadata": {},
     "output_type": "display_data"
    },
    {
     "data": {
      "application/vnd.jupyter.widget-view+json": {
       "model_id": "dd47d941bd684f81adb588652ca99191",
       "version_major": 2,
       "version_minor": 0
      },
      "text/plain": [
       "Calculating Metrics:   0%|          | 0/2 [00:00<?, ?it/s]"
      ]
     },
     "metadata": {},
     "output_type": "display_data"
    },
    {
     "data": {
      "application/vnd.jupyter.widget-view+json": {
       "model_id": "bb848ad251c4479a86816361e2bf9383",
       "version_major": 2,
       "version_minor": 0
      },
      "text/plain": [
       "Calculating Metrics:   0%|          | 0/1 [00:00<?, ?it/s]"
      ]
     },
     "metadata": {},
     "output_type": "display_data"
    },
    {
     "data": {
      "application/vnd.jupyter.widget-view+json": {
       "model_id": "eb95f2d98406422db602f321ec6041a7",
       "version_major": 2,
       "version_minor": 0
      },
      "text/plain": [
       "Profiling Dataset:         0%|          | 0/8 [00:00<?, ?it/s]"
      ]
     },
     "metadata": {},
     "output_type": "display_data"
    },
    {
     "data": {
      "application/vnd.jupyter.widget-view+json": {
       "model_id": "9beefb7eba874e9fa1752b2c27f70e2a",
       "version_major": 2,
       "version_minor": 0
      },
      "text/plain": [
       "Calculating Metrics:   0%|          | 0/180 [00:00<?, ?it/s]"
      ]
     },
     "metadata": {},
     "output_type": "display_data"
    },
    {
     "data": {
      "application/vnd.jupyter.widget-view+json": {
       "model_id": "39f1c979ffb6428f9efd90275cd79521",
       "version_major": 2,
       "version_minor": 0
      },
      "text/plain": [
       "Calculating Metrics:   0%|          | 0/36 [00:00<?, ?it/s]"
      ]
     },
     "metadata": {},
     "output_type": "display_data"
    },
    {
     "data": {
      "application/vnd.jupyter.widget-view+json": {
       "model_id": "f247279fce6e4ecdb87d34f01125e37b",
       "version_major": 2,
       "version_minor": 0
      },
      "text/plain": [
       "Calculating Metrics:   0%|          | 0/180 [00:00<?, ?it/s]"
      ]
     },
     "metadata": {},
     "output_type": "display_data"
    },
    {
     "data": {
      "application/vnd.jupyter.widget-view+json": {
       "model_id": "1c3e2c45fe5c4c48a59f8686800d9280",
       "version_major": 2,
       "version_minor": 0
      },
      "text/plain": [
       "Calculating Metrics:   0%|          | 0/180 [00:00<?, ?it/s]"
      ]
     },
     "metadata": {},
     "output_type": "display_data"
    },
    {
     "data": {
      "application/vnd.jupyter.widget-view+json": {
       "model_id": "f1a959ef924144dbaa7b3c5322d6ae8b",
       "version_major": 2,
       "version_minor": 0
      },
      "text/plain": [
       "Calculating Metrics:   0%|          | 0/36 [00:00<?, ?it/s]"
      ]
     },
     "metadata": {},
     "output_type": "display_data"
    },
    {
     "data": {
      "application/vnd.jupyter.widget-view+json": {
       "model_id": "045a823b05fe4b5cb48a5a5bc7756c15",
       "version_major": 2,
       "version_minor": 0
      },
      "text/plain": [
       "Calculating Metrics:   0%|          | 0/180 [00:00<?, ?it/s]"
      ]
     },
     "metadata": {},
     "output_type": "display_data"
    },
    {
     "data": {
      "application/vnd.jupyter.widget-view+json": {
       "model_id": "73ba85e355214627b2bc8014a22cd7dd",
       "version_major": 2,
       "version_minor": 0
      },
      "text/plain": [
       "Calculating Metrics:   0%|          | 0/180 [00:00<?, ?it/s]"
      ]
     },
     "metadata": {},
     "output_type": "display_data"
    },
    {
     "data": {
      "application/vnd.jupyter.widget-view+json": {
       "model_id": "2bd51426a12f42d2b5c1a8682ca2ba38",
       "version_major": 2,
       "version_minor": 0
      },
      "text/plain": [
       "Calculating Metrics:   0%|          | 0/36 [00:00<?, ?it/s]"
      ]
     },
     "metadata": {},
     "output_type": "display_data"
    },
    {
     "data": {
      "application/vnd.jupyter.widget-view+json": {
       "model_id": "824aa88be31a453d9cebe7964e1c0dfe",
       "version_major": 2,
       "version_minor": 0
      },
      "text/plain": [
       "Calculating Metrics:   0%|          | 0/180 [00:00<?, ?it/s]"
      ]
     },
     "metadata": {},
     "output_type": "display_data"
    },
    {
     "data": {
      "application/vnd.jupyter.widget-view+json": {
       "model_id": "7af779c8037a4fc9a349069b853c3390",
       "version_major": 2,
       "version_minor": 0
      },
      "text/plain": [
       "Calculating Metrics:   0%|          | 0/180 [00:00<?, ?it/s]"
      ]
     },
     "metadata": {},
     "output_type": "display_data"
    },
    {
     "data": {
      "application/vnd.jupyter.widget-view+json": {
       "model_id": "907fc0664a5f4d9abd62bbe4451cf900",
       "version_major": 2,
       "version_minor": 0
      },
      "text/plain": [
       "Calculating Metrics:   0%|          | 0/36 [00:00<?, ?it/s]"
      ]
     },
     "metadata": {},
     "output_type": "display_data"
    },
    {
     "data": {
      "application/vnd.jupyter.widget-view+json": {
       "model_id": "c5adae7db9ea4c04bf9b67efc008420e",
       "version_major": 2,
       "version_minor": 0
      },
      "text/plain": [
       "Calculating Metrics:   0%|          | 0/180 [00:00<?, ?it/s]"
      ]
     },
     "metadata": {},
     "output_type": "display_data"
    },
    {
     "data": {
      "application/vnd.jupyter.widget-view+json": {
       "model_id": "038af914d1ce419dad9a4922b3f50a40",
       "version_major": 2,
       "version_minor": 0
      },
      "text/plain": [
       "Calculating Metrics:   0%|          | 0/180 [00:00<?, ?it/s]"
      ]
     },
     "metadata": {},
     "output_type": "display_data"
    },
    {
     "data": {
      "application/vnd.jupyter.widget-view+json": {
       "model_id": "5d2133f018624975844b69fb991b30d1",
       "version_major": 2,
       "version_minor": 0
      },
      "text/plain": [
       "Calculating Metrics:   0%|          | 0/36 [00:00<?, ?it/s]"
      ]
     },
     "metadata": {},
     "output_type": "display_data"
    },
    {
     "data": {
      "application/vnd.jupyter.widget-view+json": {
       "model_id": "6c910932b8134c87bdee7778b4cae9e8",
       "version_major": 2,
       "version_minor": 0
      },
      "text/plain": [
       "Calculating Metrics:   0%|          | 0/180 [00:00<?, ?it/s]"
      ]
     },
     "metadata": {},
     "output_type": "display_data"
    },
    {
     "data": {
      "application/vnd.jupyter.widget-view+json": {
       "model_id": "8a1b82ccad034b3a85630ab55259327e",
       "version_major": 2,
       "version_minor": 0
      },
      "text/plain": [
       "Calculating Metrics:   0%|          | 0/180 [00:00<?, ?it/s]"
      ]
     },
     "metadata": {},
     "output_type": "display_data"
    },
    {
     "data": {
      "application/vnd.jupyter.widget-view+json": {
       "model_id": "90a59e27880c44309be46d23ab09a495",
       "version_major": 2,
       "version_minor": 0
      },
      "text/plain": [
       "Calculating Metrics:   0%|          | 0/36 [00:00<?, ?it/s]"
      ]
     },
     "metadata": {},
     "output_type": "display_data"
    },
    {
     "data": {
      "application/vnd.jupyter.widget-view+json": {
       "model_id": "375946c27616420bb54b1f74d80caf51",
       "version_major": 2,
       "version_minor": 0
      },
      "text/plain": [
       "Calculating Metrics:   0%|          | 0/180 [00:00<?, ?it/s]"
      ]
     },
     "metadata": {},
     "output_type": "display_data"
    },
    {
     "data": {
      "application/vnd.jupyter.widget-view+json": {
       "model_id": "138909fd9d094fd6a1f02d82b4f5a98b",
       "version_major": 2,
       "version_minor": 0
      },
      "text/plain": [
       "Calculating Metrics:   0%|          | 0/180 [00:00<?, ?it/s]"
      ]
     },
     "metadata": {},
     "output_type": "display_data"
    },
    {
     "data": {
      "application/vnd.jupyter.widget-view+json": {
       "model_id": "87b5d081ef694ead8f9d55ed812258c0",
       "version_major": 2,
       "version_minor": 0
      },
      "text/plain": [
       "Calculating Metrics:   0%|          | 0/36 [00:00<?, ?it/s]"
      ]
     },
     "metadata": {},
     "output_type": "display_data"
    },
    {
     "data": {
      "application/vnd.jupyter.widget-view+json": {
       "model_id": "6e72c054abcd4ac7b3608f6235e78dc3",
       "version_major": 2,
       "version_minor": 0
      },
      "text/plain": [
       "Calculating Metrics:   0%|          | 0/180 [00:00<?, ?it/s]"
      ]
     },
     "metadata": {},
     "output_type": "display_data"
    },
    {
     "data": {
      "application/vnd.jupyter.widget-view+json": {
       "model_id": "b39bf43133224078bf48084657628ace",
       "version_major": 2,
       "version_minor": 0
      },
      "text/plain": [
       "Calculating Metrics:   0%|          | 0/180 [00:00<?, ?it/s]"
      ]
     },
     "metadata": {},
     "output_type": "display_data"
    },
    {
     "data": {
      "application/vnd.jupyter.widget-view+json": {
       "model_id": "a285c7e7bb144d489db54762acb8dcf3",
       "version_major": 2,
       "version_minor": 0
      },
      "text/plain": [
       "Calculating Metrics:   0%|          | 0/36 [00:00<?, ?it/s]"
      ]
     },
     "metadata": {},
     "output_type": "display_data"
    },
    {
     "data": {
      "application/vnd.jupyter.widget-view+json": {
       "model_id": "350929a4da944cb18934c45160bb00ed",
       "version_major": 2,
       "version_minor": 0
      },
      "text/plain": [
       "Calculating Metrics:   0%|          | 0/180 [00:00<?, ?it/s]"
      ]
     },
     "metadata": {},
     "output_type": "display_data"
    }
   ],
   "source": [
    "# Run the Missingness Assistant\n",
    "\n",
    "exclude_column_names = [\n",
    "    \"VendorID\",\n",
    "    \"store_and_fwd_flag\",\n",
    "    \"pickup_datetime\",\n",
    "    \"dropoff_datetime\",\n",
    "    \"RatecodeID\",\n",
    "    \"PULocationID\",\n",
    "    \"DOLocationID\",\n",
    "    \"payment_type\",\n",
    "    \"fare_amount\",\n",
    "    \"extra\",\n",
    "    \"mta_tax\",\n",
    "    \"tip_amount\",\n",
    "    \"tolls_amount\",\n",
    "    \"improvement_surcharge\",\n",
    "]\n",
    "\n",
    "data_assistant_result = context.assistants.missingness.run(\n",
    "    batch_request=batch_request,\n",
    "    exclude_column_names=exclude_column_names,\n",
    ")"
   ]
  },
  {
   "cell_type": "code",
   "execution_count": 56,
   "metadata": {},
   "outputs": [
    {
     "name": "stdout",
     "output_type": "stream",
     "text": [
      "[ { 'expect_column_values_to_not_be_null': { 'column': 'trip_distance',\n",
      "                                             'domain': 'column',\n",
      "                                             'mostly': 1.0}},\n",
      "  { 'expect_column_values_to_not_be_null': { 'column': 'pickup_location_id',\n",
      "                                             'domain': 'column',\n",
      "                                             'mostly': 1.0}},\n",
      "  { 'expect_column_values_to_not_be_null': { 'column': 'dropoff_location_id',\n",
      "                                             'domain': 'column',\n",
      "                                             'mostly': 1.0}},\n",
      "  { 'expect_column_values_to_not_be_null': { 'column': 'total_amount',\n",
      "                                             'domain': 'column',\n",
      "                                             'mostly': 1.0}}]\n"
     ]
    }
   ],
   "source": [
    "# View generated expectations\n",
    "\n",
    "data_assistant_result.show_expectations_by_expectation_type()"
   ]
  },
  {
   "cell_type": "code",
   "execution_count": 57,
   "metadata": {},
   "outputs": [
    {
     "name": "stdout",
     "output_type": "stream",
     "text": [
      "64 Metrics calculated, 16 Metric plots implemented\n",
      "Use DataAssistantResult.metrics_by_domain to show all calculated Metrics\n"
     ]
    },
    {
     "data": {
      "text/html": [
       "\n",
       "                <style>\n",
       "                @import url('https://fonts.googleapis.com/css2?family=Montserrat:wght@500;600&display=swap');\n",
       "                </style>\n",
       "                "
      ],
      "text/plain": [
       "<IPython.core.display.HTML object>"
      ]
     },
     "metadata": {},
     "output_type": "display_data"
    },
    {
     "data": {
      "text/html": [
       "\n",
       "                <style>\n",
       "                span.vega-bind-name {\n",
       "                    color: #404041;\n",
       "                    font-family: Montserrat;\n",
       "                    font-size: 14px;\n",
       "                    font-weight: 500;\n",
       "                }\n",
       "                form.vega-bindings {\n",
       "                    color: #404041;\n",
       "                    font-family: Montserrat;\n",
       "                    font-size: 14px;\n",
       "                    font-weight: 500;\n",
       "                    position: absolute;\n",
       "                    left: 75px;\n",
       "                    top: 28px;\n",
       "                }\n",
       "                </style>\n",
       "            "
      ],
      "text/plain": [
       "<IPython.core.display.HTML object>"
      ]
     },
     "metadata": {},
     "output_type": "display_data"
    },
    {
     "data": {
      "text/html": [
       "\n",
       "                <style>\n",
       "                .widget-inline-hbox .widget-label {\n",
       "                    color: #404041;\n",
       "                    font-family: Montserrat;\n",
       "                    font-size: 14px;\n",
       "                    font-weight: 500;\n",
       "                }\n",
       "                .widget-dropdown > select {\n",
       "                    padding-right: 21px;\n",
       "                    padding-left: 3px;\n",
       "                    color: #404041;\n",
       "                    font-family: Montserrat;\n",
       "                    font-size: 14px;\n",
       "                    font-weight: 500;\n",
       "                    height: 20px;\n",
       "                    line-height: 14px;\n",
       "                    background-size: 20px;\n",
       "                    border-radius: 2px;\n",
       "                }\n",
       "                </style>\n",
       "            "
      ],
      "text/plain": [
       "<IPython.core.display.HTML object>"
      ]
     },
     "metadata": {},
     "output_type": "display_data"
    },
    {
     "data": {
      "application/vnd.jupyter.widget-view+json": {
       "model_id": "944a5725f3b44e07915439eb7185582d",
       "version_major": 2,
       "version_minor": 0
      },
      "text/plain": [
       "interactive(children=(Dropdown(description='Select Plot Type: ', layout=Layout(margin='0px', width='max-conten…"
      ]
     },
     "metadata": {},
     "output_type": "display_data"
    },
    {
     "data": {
      "text/plain": []
     },
     "execution_count": 57,
     "metadata": {},
     "output_type": "execute_result"
    }
   ],
   "source": [
    "# To view the metrics that were computed and used to generate expectations, you can use the `plot_metrics` method:\n",
    "\n",
    "data_assistant_result.plot_metrics()"
   ]
  },
  {
   "cell_type": "code",
   "execution_count": 58,
   "metadata": {},
   "outputs": [
    {
     "data": {
      "text/plain": [
       "{\n",
       "  \"meta\": {\n",
       "    \"great_expectations_version\": \"0.17.8+17.ga089d703d.dirty\",\n",
       "    \"citations\": [\n",
       "      {\n",
       "        \"citation_date\": \"2023-08-14T19:31:23.819074Z\",\n",
       "        \"comment\": \"Created by effective Rule-Based Profiler of ColumnValueMissingDataAssistant with the configuration included.\\n\"\n",
       "      }\n",
       "    ]\n",
       "  },\n",
       "  \"expectation_suite_name\": \"my_custom_expectation_suite_name\",\n",
       "  \"data_asset_type\": null,\n",
       "  \"expectations\": [\n",
       "    {\n",
       "      \"meta\": {\n",
       "        \"profiler_details\": {\n",
       "          \"metric_configuration\": {\n",
       "            \"metric_name\": \"column_values.nonnull.unexpected_count\",\n",
       "            \"domain_kwargs\": {\n",
       "              \"column\": \"trip_distance\"\n",
       "            },\n",
       "            \"metric_value_kwargs\": null\n",
       "          },\n",
       "          \"num_batches\": 36,\n",
       "          \"mode\": \"multi_batch\"\n",
       "        }\n",
       "      },\n",
       "      \"expectation_type\": \"expect_column_values_to_not_be_null\",\n",
       "      \"kwargs\": {\n",
       "        \"column\": \"trip_distance\",\n",
       "        \"mostly\": 1.0\n",
       "      }\n",
       "    },\n",
       "    {\n",
       "      \"meta\": {\n",
       "        \"profiler_details\": {\n",
       "          \"metric_configuration\": {\n",
       "            \"metric_name\": \"column_values.nonnull.unexpected_count\",\n",
       "            \"domain_kwargs\": {\n",
       "              \"column\": \"pickup_location_id\"\n",
       "            },\n",
       "            \"metric_value_kwargs\": null\n",
       "          },\n",
       "          \"num_batches\": 36,\n",
       "          \"mode\": \"multi_batch\"\n",
       "        }\n",
       "      },\n",
       "      \"expectation_type\": \"expect_column_values_to_not_be_null\",\n",
       "      \"kwargs\": {\n",
       "        \"column\": \"pickup_location_id\",\n",
       "        \"mostly\": 1.0\n",
       "      }\n",
       "    },\n",
       "    {\n",
       "      \"meta\": {\n",
       "        \"profiler_details\": {\n",
       "          \"metric_configuration\": {\n",
       "            \"metric_name\": \"column_values.nonnull.unexpected_count\",\n",
       "            \"domain_kwargs\": {\n",
       "              \"column\": \"dropoff_location_id\"\n",
       "            },\n",
       "            \"metric_value_kwargs\": null\n",
       "          },\n",
       "          \"num_batches\": 36,\n",
       "          \"mode\": \"multi_batch\"\n",
       "        }\n",
       "      },\n",
       "      \"expectation_type\": \"expect_column_values_to_not_be_null\",\n",
       "      \"kwargs\": {\n",
       "        \"column\": \"dropoff_location_id\",\n",
       "        \"mostly\": 1.0\n",
       "      }\n",
       "    },\n",
       "    {\n",
       "      \"meta\": {\n",
       "        \"profiler_details\": {\n",
       "          \"metric_configuration\": {\n",
       "            \"metric_name\": \"column_values.nonnull.unexpected_count\",\n",
       "            \"domain_kwargs\": {\n",
       "              \"column\": \"total_amount\"\n",
       "            },\n",
       "            \"metric_value_kwargs\": null\n",
       "          },\n",
       "          \"num_batches\": 36,\n",
       "          \"mode\": \"multi_batch\"\n",
       "        }\n",
       "      },\n",
       "      \"expectation_type\": \"expect_column_values_to_not_be_null\",\n",
       "      \"kwargs\": {\n",
       "        \"column\": \"total_amount\",\n",
       "        \"mostly\": 1.0\n",
       "      }\n",
       "    }\n",
       "  ],\n",
       "  \"ge_cloud_id\": null\n",
       "}"
      ]
     },
     "execution_count": 58,
     "metadata": {},
     "output_type": "execute_result"
    }
   ],
   "source": [
    "validator.expectation_suite = data_assistant_result.get_expectation_suite(\n",
    "    expectation_suite_name=\"my_custom_expectation_suite_name\"  # Your custom name here\n",
    ")\n",
    "validator.save_expectation_suite(discard_failed_expectations=False)"
   ]
  },
  {
   "cell_type": "code",
   "execution_count": 59,
   "metadata": {},
   "outputs": [
    {
     "data": {
      "application/vnd.jupyter.widget-view+json": {
       "model_id": "0cc33d117fa24b7cafcf45bbfcadf0e5",
       "version_major": 2,
       "version_minor": 0
      },
      "text/plain": [
       "Calculating Metrics:   0%|          | 0/23 [00:00<?, ?it/s]"
      ]
     },
     "metadata": {},
     "output_type": "display_data"
    }
   ],
   "source": [
    "# Use a Checkpoint to verify that your new Expectation Suite works.\n",
    "checkpoint = context.add_or_update_checkpoint(\n",
    "    name=\"yellow_tripdata_sample_all_years_checkpoint\",\n",
    "    batch_request=batch_request,\n",
    "    expectation_suite_name=\"my_custom_expectation_suite_name\",\n",
    ")\n",
    "checkpoint_result = checkpoint.run(run_name=\"my_run_name\")\n",
    "\n",
    "assert checkpoint_result[\"success\"] is True"
   ]
  },
  {
   "cell_type": "code",
   "execution_count": 60,
   "metadata": {},
   "outputs": [
    {
     "data": {
      "text/plain": [
       "{'local_site': 'file:///var/folders/9w/qsyh30616nq8frx877b3pyzm0000gn/T/tmpggxduc_n/index.html'}"
      ]
     },
     "execution_count": 60,
     "metadata": {},
     "output_type": "execute_result"
    }
   ],
   "source": [
    "context.build_data_docs()"
   ]
  },
  {
   "cell_type": "code",
   "execution_count": 61,
   "metadata": {},
   "outputs": [],
   "source": [
    "context.open_data_docs()"
   ]
  }
 ],
 "metadata": {
  "kernelspec": {
   "display_name": "gx_dev",
   "language": "python",
   "name": "python3"
  },
  "language_info": {
   "codemirror_mode": {
    "name": "ipython",
    "version": 3
   },
   "file_extension": ".py",
   "mimetype": "text/x-python",
   "name": "python",
   "nbconvert_exporter": "python",
   "pygments_lexer": "ipython3",
   "version": "3.9.6"
  },
  "orig_nbformat": 4
 },
 "nbformat": 4,
 "nbformat_minor": 2
}
