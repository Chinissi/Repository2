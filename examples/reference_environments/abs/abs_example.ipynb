{
 "cells": [
  {
   "cell_type": "code",
   "execution_count": 29,
   "outputs": [],
   "source": [
    "import great_expectations as gx\n",
    "import os\n",
    "\n",
    "context = gx.get_context()"
   ],
   "metadata": {
    "collapsed": false,
    "ExecuteTime": {
     "end_time": "2023-06-28T21:26:50.015517Z",
     "start_time": "2023-06-28T21:26:49.992960Z"
    }
   }
  },
  {
   "cell_type": "markdown",
   "source": [
    "This notebook requires the setup of two environment variables:\n",
    "- `AZURE_STORAGE_ACCOUNT_URL`: Which refers to the Storage Account that contains your data. More information can be found in the (Azure Documentation)[https://learn.microsoft.com/en-us/azure/storage/common/storage-account-overview]\n",
    "- `AZURE_CREDENTIAL`: which contains the credential string."
   ],
   "metadata": {
    "collapsed": false
   }
  },
  {
   "cell_type": "code",
   "execution_count": 46,
   "outputs": [
    {
     "ename": "DataContextError",
     "evalue": "Can not write the fluent datasource pandas_abs_example because a datasource of that name already exists in the data context.",
     "output_type": "error",
     "traceback": [
      "\u001B[0;31m---------------------------------------------------------------------------\u001B[0m",
      "\u001B[0;31mDataContextError\u001B[0m                          Traceback (most recent call last)",
      "Cell \u001B[0;32mIn[46], line 6\u001B[0m\n\u001B[1;32m      1\u001B[0m datasource_name \u001B[38;5;241m=\u001B[39m \u001B[38;5;124m\"\u001B[39m\u001B[38;5;124mpandas_abs_example\u001B[39m\u001B[38;5;124m\"\u001B[39m\n\u001B[1;32m      2\u001B[0m azure_options \u001B[38;5;241m=\u001B[39m {\n\u001B[1;32m      3\u001B[0m     \u001B[38;5;124m\"\u001B[39m\u001B[38;5;124maccount_url\u001B[39m\u001B[38;5;124m\"\u001B[39m: \u001B[38;5;124m\"\u001B[39m\u001B[38;5;124m$\u001B[39m\u001B[38;5;132;01m{AZURE_STORAGE_ACCOUNT_URL}\u001B[39;00m\u001B[38;5;124m\"\u001B[39m,\n\u001B[1;32m      4\u001B[0m     \u001B[38;5;124m\"\u001B[39m\u001B[38;5;124mcredential\u001B[39m\u001B[38;5;124m\"\u001B[39m: \u001B[38;5;124m\"\u001B[39m\u001B[38;5;124m$\u001B[39m\u001B[38;5;132;01m{AZURE_CREDENTIAL}\u001B[39;00m\u001B[38;5;124m\"\u001B[39m,\n\u001B[1;32m      5\u001B[0m }\n\u001B[0;32m----> 6\u001B[0m datasource \u001B[38;5;241m=\u001B[39m \u001B[43mcontext\u001B[49m\u001B[38;5;241;43m.\u001B[39;49m\u001B[43msources\u001B[49m\u001B[38;5;241;43m.\u001B[39;49m\u001B[43madd_pandas_abs\u001B[49m\u001B[43m(\u001B[49m\n\u001B[1;32m      7\u001B[0m \u001B[43m    \u001B[49m\u001B[43mname\u001B[49m\u001B[38;5;241;43m=\u001B[39;49m\u001B[43mdatasource_name\u001B[49m\u001B[43m,\u001B[49m\u001B[43m \u001B[49m\u001B[43mazure_options\u001B[49m\u001B[38;5;241;43m=\u001B[39;49m\u001B[43mazure_options\u001B[49m\n\u001B[1;32m      8\u001B[0m \u001B[43m)\u001B[49m\n",
      "File \u001B[0;32m~/Development/great_expectations/great_expectations/datasource/fluent/sources.py:477\u001B[0m, in \u001B[0;36m_SourceFactories.create_add_crud_method.<locals>.add_datasource\u001B[0;34m(name_or_datasource, **kwargs)\u001B[0m\n\u001B[1;32m    475\u001B[0m datasource\u001B[38;5;241m.\u001B[39m_data_context \u001B[38;5;241m=\u001B[39m \u001B[38;5;28mself\u001B[39m\u001B[38;5;241m.\u001B[39m_data_context\n\u001B[1;32m    476\u001B[0m datasource\u001B[38;5;241m.\u001B[39mtest_connection()\n\u001B[0;32m--> 477\u001B[0m \u001B[38;5;28;43mself\u001B[39;49m\u001B[38;5;241;43m.\u001B[39;49m\u001B[43m_data_context\u001B[49m\u001B[38;5;241;43m.\u001B[39;49m\u001B[43m_add_fluent_datasource\u001B[49m\u001B[43m(\u001B[49m\u001B[43mdatasource\u001B[49m\u001B[43m)\u001B[49m\n\u001B[1;32m    478\u001B[0m \u001B[38;5;28mself\u001B[39m\u001B[38;5;241m.\u001B[39m_data_context\u001B[38;5;241m.\u001B[39m_save_project_config()\n\u001B[1;32m    479\u001B[0m \u001B[38;5;28;01mreturn\u001B[39;00m datasource\n",
      "File \u001B[0;32m~/Development/great_expectations/great_expectations/data_context/data_context/abstract_data_context.py:731\u001B[0m, in \u001B[0;36mAbstractDataContext._add_fluent_datasource\u001B[0;34m(self, datasource, **kwargs)\u001B[0m\n\u001B[1;32m    729\u001B[0m \u001B[38;5;66;03m# We currently don't allow one to overwrite a datasource with this internal method\u001B[39;00m\n\u001B[1;32m    730\u001B[0m \u001B[38;5;28;01mif\u001B[39;00m datasource_name \u001B[38;5;129;01min\u001B[39;00m \u001B[38;5;28mself\u001B[39m\u001B[38;5;241m.\u001B[39mdatasources:\n\u001B[0;32m--> 731\u001B[0m     \u001B[38;5;28;01mraise\u001B[39;00m gx_exceptions\u001B[38;5;241m.\u001B[39mDataContextError(\n\u001B[1;32m    732\u001B[0m         \u001B[38;5;124mf\u001B[39m\u001B[38;5;124m\"\u001B[39m\u001B[38;5;124mCan not write the fluent datasource \u001B[39m\u001B[38;5;132;01m{\u001B[39;00mdatasource_name\u001B[38;5;132;01m}\u001B[39;00m\u001B[38;5;124m because a datasource of that \u001B[39m\u001B[38;5;124m\"\u001B[39m\n\u001B[1;32m    733\u001B[0m         \u001B[38;5;124m\"\u001B[39m\u001B[38;5;124mname already exists in the data context.\u001B[39m\u001B[38;5;124m\"\u001B[39m\n\u001B[1;32m    734\u001B[0m     )\n\u001B[1;32m    736\u001B[0m \u001B[38;5;28;01mif\u001B[39;00m \u001B[38;5;129;01mnot\u001B[39;00m datasource:\n\u001B[1;32m    737\u001B[0m     ds_type \u001B[38;5;241m=\u001B[39m _SourceFactories\u001B[38;5;241m.\u001B[39mtype_lookup[kwargs[\u001B[38;5;124m\"\u001B[39m\u001B[38;5;124mtype\u001B[39m\u001B[38;5;124m\"\u001B[39m]]\n",
      "\u001B[0;31mDataContextError\u001B[0m: Can not write the fluent datasource pandas_abs_example because a datasource of that name already exists in the data context."
     ]
    }
   ],
   "source": [
    "datasource_name = \"pandas_abs_example\"\n",
    "azure_options = {\n",
    "    \"account_url\": \"${AZURE_STORAGE_ACCOUNT_URL}\",\n",
    "    \"credential\": \"${AZURE_CREDENTIAL}\",\n",
    "}\n",
    "datasource = context.sources.add_pandas_abs(\n",
    "    name=datasource_name, azure_options=azure_options\n",
    ")"
   ],
   "metadata": {
    "collapsed": false,
    "ExecuteTime": {
     "end_time": "2023-06-28T21:47:33.402545Z",
     "start_time": "2023-06-28T21:47:32.877754Z"
    }
   }
  },
  {
   "cell_type": "code",
   "execution_count": 32,
   "id": "29b4ba0b",
   "metadata": {
    "ExecuteTime": {
     "end_time": "2023-06-28T21:26:51.266136Z",
     "start_time": "2023-06-28T21:26:51.260904Z"
    }
   },
   "outputs": [],
   "source": [
    "assert datasource_name in context.datasources"
   ]
  },
  {
   "cell_type": "code",
   "execution_count": 33,
   "outputs": [],
   "source": [
    "asset_name = \"my_taxi_data_asset\"\n",
    "abs_container = \"superconductive-public\"\n",
    "abs_name_starts_with = \"data/taxi_yellow_tripdata_samples/\"\n",
    "batching_regex = r\"yellow_tripdata_sample_(?P<year>\\d{4})-(?P<month>\\d{2})\\.csv\""
   ],
   "metadata": {
    "collapsed": false,
    "ExecuteTime": {
     "end_time": "2023-06-28T21:26:51.640508Z",
     "start_time": "2023-06-28T21:26:51.635380Z"
    }
   }
  },
  {
   "cell_type": "code",
   "execution_count": 34,
   "outputs": [],
   "source": [
    "data_asset = datasource.add_csv_asset(\n",
    "    name=asset_name,\n",
    "    batching_regex=batching_regex,\n",
    "    abs_container=abs_container,\n",
    "    abs_name_starts_with=abs_name_starts_with,\n",
    ")\n"
   ],
   "metadata": {
    "collapsed": false,
    "ExecuteTime": {
     "end_time": "2023-06-28T21:26:52.511060Z",
     "start_time": "2023-06-28T21:26:52.047747Z"
    }
   }
  },
  {
   "cell_type": "code",
   "execution_count": null,
   "outputs": [],
   "source": [
    "print(\"data_asset.batch_request_options:\", data_asset.batch_request_options)"
   ],
   "metadata": {
    "collapsed": false
   }
  },
  {
   "cell_type": "code",
   "execution_count": 35,
   "id": "795951b9",
   "metadata": {
    "ExecuteTime": {
     "end_time": "2023-06-28T21:26:52.514445Z",
     "start_time": "2023-06-28T21:26:52.512724Z"
    }
   },
   "outputs": [],
   "source": [
    "batch_request = data_asset.build_batch_request({\"year\": \"2019\", \"month\": \"03\"})"
   ]
  },
  {
   "cell_type": "code",
   "execution_count": 36,
   "outputs": [
    {
     "name": "stdout",
     "output_type": "stream",
     "text": [
      "len(batches): 1\n"
     ]
    }
   ],
   "source": [
    "batches = data_asset.get_batch_list_from_batch_request(batch_request)\n",
    "print(\"len(batches):\", len(batches))"
   ],
   "metadata": {
    "collapsed": false,
    "ExecuteTime": {
     "end_time": "2023-06-28T21:26:53.697239Z",
     "start_time": "2023-06-28T21:26:52.764544Z"
    }
   }
  },
  {
   "cell_type": "code",
   "execution_count": 38,
   "id": "653a6e2f",
   "metadata": {
    "ExecuteTime": {
     "end_time": "2023-06-28T21:26:53.705366Z",
     "start_time": "2023-06-28T21:26:53.703238Z"
    }
   },
   "outputs": [
    {
     "data": {
      "text/plain": "{\n  \"data_asset_type\": null,\n  \"ge_cloud_id\": null,\n  \"expectations\": [],\n  \"meta\": {\n    \"great_expectations_version\": \"0.17.1+20.ge5c83f641.dirty\"\n  },\n  \"expectation_suite_name\": \"my_expectation_suite\"\n}"
     },
     "execution_count": 38,
     "metadata": {},
     "output_type": "execute_result"
    }
   ],
   "source": [
    "expectation_suite_name = \"my_expectation_suite\"\n",
    "context.add_or_update_expectation_suite(expectation_suite_name=expectation_suite_name)"
   ]
  },
  {
   "cell_type": "code",
   "execution_count": 39,
   "id": "91234c8d",
   "metadata": {
    "ExecuteTime": {
     "end_time": "2023-06-28T21:26:53.991372Z",
     "start_time": "2023-06-28T21:26:53.708426Z"
    }
   },
   "outputs": [
    {
     "data": {
      "text/plain": "Calculating Metrics:   0%|          | 0/1 [00:00<?, ?it/s]",
      "application/vnd.jupyter.widget-view+json": {
       "version_major": 2,
       "version_minor": 0,
       "model_id": "86238e5e85ec47b28d7544b5371fe9e0"
      }
     },
     "metadata": {},
     "output_type": "display_data"
    },
    {
     "data": {
      "text/plain": "   vendor_id      pickup_datetime     dropoff_datetime  passenger_count  \\\n0          1  2019-03-01 18:43:31  2019-03-01 18:48:42                2   \n1          2  2019-03-20 16:30:11  2019-03-20 16:44:49                1   \n2          1  2019-03-07 19:01:51  2019-03-07 19:04:36                1   \n3          1  2019-03-02 16:33:01  2019-03-02 16:37:41                1   \n4          2  2019-03-28 14:10:47  2019-03-28 14:49:37                1   \n\n   trip_distance  rate_code_id store_and_fwd_flag  pickup_location_id  \\\n0           1.10             1                  N                 143   \n1           2.63             1                  N                 231   \n2           0.30             1                  N                 237   \n3           0.90             1                  N                  42   \n4          15.68             3                  N                 231   \n\n   dropoff_location_id  payment_type  fare_amount  extra  mta_tax  tip_amount  \\\n0                  238             1          6.0    3.5      0.5        1.55   \n1                   88             1         12.5    1.0      0.5        3.36   \n2                  237             1          4.0    3.5      0.5        1.66   \n3                   41             1          5.5    0.0      0.5        0.00   \n4                    1             1         63.0    0.0      0.0       14.76   \n\n   tolls_amount  improvement_surcharge  total_amount  congestion_surcharge  \n0           0.0                    0.3         11.85                   2.5  \n1           0.0                    0.3         20.16                   2.5  \n2           0.0                    0.3          9.96                   2.5  \n3           0.0                    0.3          6.30                   0.0  \n4          10.5                    0.3         88.56                   0.0  ",
      "text/html": "<div>\n<style scoped>\n    .dataframe tbody tr th:only-of-type {\n        vertical-align: middle;\n    }\n\n    .dataframe tbody tr th {\n        vertical-align: top;\n    }\n\n    .dataframe thead th {\n        text-align: right;\n    }\n</style>\n<table border=\"1\" class=\"dataframe\">\n  <thead>\n    <tr style=\"text-align: right;\">\n      <th></th>\n      <th>vendor_id</th>\n      <th>pickup_datetime</th>\n      <th>dropoff_datetime</th>\n      <th>passenger_count</th>\n      <th>trip_distance</th>\n      <th>rate_code_id</th>\n      <th>store_and_fwd_flag</th>\n      <th>pickup_location_id</th>\n      <th>dropoff_location_id</th>\n      <th>payment_type</th>\n      <th>fare_amount</th>\n      <th>extra</th>\n      <th>mta_tax</th>\n      <th>tip_amount</th>\n      <th>tolls_amount</th>\n      <th>improvement_surcharge</th>\n      <th>total_amount</th>\n      <th>congestion_surcharge</th>\n    </tr>\n  </thead>\n  <tbody>\n    <tr>\n      <th>0</th>\n      <td>1</td>\n      <td>2019-03-01 18:43:31</td>\n      <td>2019-03-01 18:48:42</td>\n      <td>2</td>\n      <td>1.10</td>\n      <td>1</td>\n      <td>N</td>\n      <td>143</td>\n      <td>238</td>\n      <td>1</td>\n      <td>6.0</td>\n      <td>3.5</td>\n      <td>0.5</td>\n      <td>1.55</td>\n      <td>0.0</td>\n      <td>0.3</td>\n      <td>11.85</td>\n      <td>2.5</td>\n    </tr>\n    <tr>\n      <th>1</th>\n      <td>2</td>\n      <td>2019-03-20 16:30:11</td>\n      <td>2019-03-20 16:44:49</td>\n      <td>1</td>\n      <td>2.63</td>\n      <td>1</td>\n      <td>N</td>\n      <td>231</td>\n      <td>88</td>\n      <td>1</td>\n      <td>12.5</td>\n      <td>1.0</td>\n      <td>0.5</td>\n      <td>3.36</td>\n      <td>0.0</td>\n      <td>0.3</td>\n      <td>20.16</td>\n      <td>2.5</td>\n    </tr>\n    <tr>\n      <th>2</th>\n      <td>1</td>\n      <td>2019-03-07 19:01:51</td>\n      <td>2019-03-07 19:04:36</td>\n      <td>1</td>\n      <td>0.30</td>\n      <td>1</td>\n      <td>N</td>\n      <td>237</td>\n      <td>237</td>\n      <td>1</td>\n      <td>4.0</td>\n      <td>3.5</td>\n      <td>0.5</td>\n      <td>1.66</td>\n      <td>0.0</td>\n      <td>0.3</td>\n      <td>9.96</td>\n      <td>2.5</td>\n    </tr>\n    <tr>\n      <th>3</th>\n      <td>1</td>\n      <td>2019-03-02 16:33:01</td>\n      <td>2019-03-02 16:37:41</td>\n      <td>1</td>\n      <td>0.90</td>\n      <td>1</td>\n      <td>N</td>\n      <td>42</td>\n      <td>41</td>\n      <td>1</td>\n      <td>5.5</td>\n      <td>0.0</td>\n      <td>0.5</td>\n      <td>0.00</td>\n      <td>0.0</td>\n      <td>0.3</td>\n      <td>6.30</td>\n      <td>0.0</td>\n    </tr>\n    <tr>\n      <th>4</th>\n      <td>2</td>\n      <td>2019-03-28 14:10:47</td>\n      <td>2019-03-28 14:49:37</td>\n      <td>1</td>\n      <td>15.68</td>\n      <td>3</td>\n      <td>N</td>\n      <td>231</td>\n      <td>1</td>\n      <td>1</td>\n      <td>63.0</td>\n      <td>0.0</td>\n      <td>0.0</td>\n      <td>14.76</td>\n      <td>10.5</td>\n      <td>0.3</td>\n      <td>88.56</td>\n      <td>0.0</td>\n    </tr>\n  </tbody>\n</table>\n</div>"
     },
     "execution_count": 39,
     "metadata": {},
     "output_type": "execute_result"
    }
   ],
   "source": [
    "validator = context.get_validator(\n",
    "    batch_request=batch_request,\n",
    "    expectation_suite_name=expectation_suite_name,\n",
    ")\n",
    "validator.head()"
   ]
  },
  {
   "cell_type": "code",
   "execution_count": 40,
   "outputs": [
    {
     "name": "stdout",
     "output_type": "stream",
     "text": [
      "columns: Index(['vendor_id', 'pickup_datetime', 'dropoff_datetime', 'passenger_count',\n",
      "       'trip_distance', 'rate_code_id', 'store_and_fwd_flag',\n",
      "       'pickup_location_id', 'dropoff_location_id', 'payment_type',\n",
      "       'fare_amount', 'extra', 'mta_tax', 'tip_amount', 'tolls_amount',\n",
      "       'improvement_surcharge', 'total_amount', 'congestion_surcharge'],\n",
      "      dtype='object')\n"
     ]
    }
   ],
   "source": [
    "print(\"columns:\", validator.active_batch.data.dataframe.columns)"
   ],
   "metadata": {
    "collapsed": false,
    "ExecuteTime": {
     "end_time": "2023-06-28T21:26:53.994970Z",
     "start_time": "2023-06-28T21:26:53.992423Z"
    }
   }
  },
  {
   "cell_type": "code",
   "execution_count": 41,
   "id": "f46b4a5e",
   "metadata": {
    "ExecuteTime": {
     "end_time": "2023-06-28T21:26:54.103196Z",
     "start_time": "2023-06-28T21:26:54.001564Z"
    }
   },
   "outputs": [
    {
     "data": {
      "text/plain": "Calculating Metrics:   0%|          | 0/6 [00:00<?, ?it/s]",
      "application/vnd.jupyter.widget-view+json": {
       "version_major": 2,
       "version_minor": 0,
       "model_id": "60ca8d1decb3477eb2b5d1e46e3c472a"
      }
     },
     "metadata": {},
     "output_type": "display_data"
    },
    {
     "name": "stdout",
     "output_type": "stream",
     "text": [
      "\n"
     ]
    },
    {
     "data": {
      "text/plain": "Generating Expectations:   0%|          | 0/1 [00:00<?, ?it/s]",
      "application/vnd.jupyter.widget-view+json": {
       "version_major": 2,
       "version_minor": 0,
       "model_id": "26ba101bf5604ad49db3684f89de684d"
      }
     },
     "metadata": {},
     "output_type": "display_data"
    },
    {
     "data": {
      "text/plain": "Calculating Metrics:   0%|          | 0/2 [00:00<?, ?it/s]",
      "application/vnd.jupyter.widget-view+json": {
       "version_major": 2,
       "version_minor": 0,
       "model_id": "3e03c303494d4196ae595e46f0a223dd"
      }
     },
     "metadata": {},
     "output_type": "display_data"
    },
    {
     "data": {
      "text/plain": "Calculating Metrics:   0%|          | 0/1 [00:00<?, ?it/s]",
      "application/vnd.jupyter.widget-view+json": {
       "version_major": 2,
       "version_minor": 0,
       "model_id": "df94aa4ad2874d05a47bdb2d264efd16"
      }
     },
     "metadata": {},
     "output_type": "display_data"
    },
    {
     "data": {
      "text/plain": "Profiling Dataset:         0%|          | 0/1 [00:00<?, ?it/s]",
      "application/vnd.jupyter.widget-view+json": {
       "version_major": 2,
       "version_minor": 0,
       "model_id": "ac9fe3916c5447e295d800e3433cc2d6"
      }
     },
     "metadata": {},
     "output_type": "display_data"
    },
    {
     "data": {
      "text/plain": "Calculating Metrics:   0%|          | 0/4 [00:00<?, ?it/s]",
      "application/vnd.jupyter.widget-view+json": {
       "version_major": 2,
       "version_minor": 0,
       "model_id": "768587c9db6a4d73877cbbd5f5dd79d0"
      }
     },
     "metadata": {},
     "output_type": "display_data"
    },
    {
     "data": {
      "text/plain": "Calculating Metrics:   0%|          | 0/4 [00:00<?, ?it/s]",
      "application/vnd.jupyter.widget-view+json": {
       "version_major": 2,
       "version_minor": 0,
       "model_id": "48eed19e37b54fe7adca8e05cb012873"
      }
     },
     "metadata": {},
     "output_type": "display_data"
    },
    {
     "data": {
      "text/plain": "Calculating Metrics:   0%|          | 0/8 [00:00<?, ?it/s]",
      "application/vnd.jupyter.widget-view+json": {
       "version_major": 2,
       "version_minor": 0,
       "model_id": "d87bb56834b148cdacc60d0a3daa5d0d"
      }
     },
     "metadata": {},
     "output_type": "display_data"
    },
    {
     "data": {
      "text/plain": "{\n  \"success\": true,\n  \"meta\": {},\n  \"result\": {\n    \"element_count\": 10000,\n    \"unexpected_count\": 0,\n    \"unexpected_percent\": 0.0,\n    \"partial_unexpected_list\": [],\n    \"missing_count\": 0,\n    \"missing_percent\": 0.0,\n    \"unexpected_percent_total\": 0.0,\n    \"unexpected_percent_nonmissing\": 0.0\n  },\n  \"exception_info\": {\n    \"raised_exception\": false,\n    \"exception_traceback\": null,\n    \"exception_message\": null\n  },\n  \"expectation_config\": {\n    \"expectation_type\": \"expect_column_values_to_be_between\",\n    \"kwargs\": {\n      \"max_value\": 6,\n      \"min_value\": 0,\n      \"mostly\": 1.0,\n      \"strict_max\": false,\n      \"strict_min\": false,\n      \"column\": \"passenger_count\"\n    },\n    \"meta\": {\n      \"auto_generated_at\": \"20230628T212654.060408Z\",\n      \"great_expectations_version\": \"0.17.1+20.ge5c83f641.dirty\"\n    }\n  }\n}"
     },
     "execution_count": 41,
     "metadata": {},
     "output_type": "execute_result"
    }
   ],
   "source": [
    "validator.expect_column_values_to_not_be_null(\"pickup_datetime\")\n",
    "validator.expect_column_values_to_be_between(\"passenger_count\", auto=True)"
   ]
  },
  {
   "cell_type": "code",
   "execution_count": 42,
   "id": "88d4c39a",
   "metadata": {
    "ExecuteTime": {
     "end_time": "2023-06-28T21:26:54.104989Z",
     "start_time": "2023-06-28T21:26:54.076153Z"
    }
   },
   "outputs": [],
   "source": [
    "validator.save_expectation_suite(discard_failed_expectations=False)"
   ]
  },
  {
   "cell_type": "code",
   "execution_count": 43,
   "id": "ef6f54d3",
   "metadata": {
    "ExecuteTime": {
     "end_time": "2023-06-28T21:26:54.225556Z",
     "start_time": "2023-06-28T21:26:54.222259Z"
    }
   },
   "outputs": [],
   "source": [
    "checkpoint = gx.checkpoint.SimpleCheckpoint(\n",
    "    name=\"my_quickstart_checkpoint\",\n",
    "    data_context=context,\n",
    "    validator=validator,\n",
    ")"
   ]
  },
  {
   "cell_type": "code",
   "execution_count": 44,
   "id": "51543201",
   "metadata": {
    "ExecuteTime": {
     "end_time": "2023-06-28T21:26:54.629644Z",
     "start_time": "2023-06-28T21:26:54.409874Z"
    }
   },
   "outputs": [
    {
     "data": {
      "text/plain": "Calculating Metrics:   0%|          | 0/15 [00:00<?, ?it/s]",
      "application/vnd.jupyter.widget-view+json": {
       "version_major": 2,
       "version_minor": 0,
       "model_id": "13d993bf76bb48d4a6b6ed2752eb6414"
      }
     },
     "metadata": {},
     "output_type": "display_data"
    }
   ],
   "source": [
    "checkpoint_result = checkpoint.run()"
   ]
  },
  {
   "cell_type": "code",
   "execution_count": 45,
   "id": "f9fc8516",
   "metadata": {
    "ExecuteTime": {
     "end_time": "2023-06-28T21:26:54.634106Z",
     "start_time": "2023-06-28T21:26:54.630957Z"
    }
   },
   "outputs": [
    {
     "data": {
      "text/plain": "True"
     },
     "execution_count": 45,
     "metadata": {},
     "output_type": "execute_result"
    }
   ],
   "source": [
    "checkpoint_result.success"
   ]
  }
 ],
 "metadata": {
  "kernelspec": {
   "display_name": "Python 3 (ipykernel)",
   "language": "python",
   "name": "python3"
  },
  "language_info": {
   "codemirror_mode": {
    "name": "ipython",
    "version": 3
   },
   "file_extension": ".py",
   "mimetype": "text/x-python",
   "name": "python",
   "nbconvert_exporter": "python",
   "pygments_lexer": "ipython3",
   "version": "3.8.16"
  }
 },
 "nbformat": 4,
 "nbformat_minor": 5
}
