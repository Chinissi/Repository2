{
 "cells": [
  {
   "cell_type": "code",
   "execution_count": 21,
   "id": "1e988c39",
   "metadata": {},
   "outputs": [],
   "source": [
    "import great_expectations as gx"
   ]
  },
  {
   "cell_type": "code",
   "execution_count": 22,
   "id": "72f26a87",
   "metadata": {},
   "outputs": [],
   "source": [
    "from great_expectations.checkpoint import Checkpoint, LegacyCheckpoint\n",
    "from great_expectations.checkpoint.types.checkpoint_result import CheckpointResult\n",
    "from great_expectations.core import ExpectationSuiteValidationResult\n",
    "from great_expectations.core.batch import BatchRequest, RuntimeBatchRequest"
   ]
  },
  {
   "cell_type": "code",
   "execution_count": 23,
   "id": "7b0efad8",
   "metadata": {},
   "outputs": [],
   "source": [
    "context = gx.get_context()"
   ]
  },
  {
   "cell_type": "markdown",
   "id": "9f9ab26c",
   "metadata": {},
   "source": [
    "`batch_request` for retrieving `event_names` table"
   ]
  },
  {
   "cell_type": "code",
   "execution_count": 24,
   "id": "54940668",
   "metadata": {},
   "outputs": [],
   "source": [
    "batch_request: BatchRequest = BatchRequest(\n",
    "    **{\n",
    "        \"datasource_name\": \"my_datasource\",\n",
    "        \"data_connector_name\": \"my_sql_data_connector\",\n",
    "        \"data_asset_name\": \"event_names\",\n",
    "    }\n",
    ")\n"
   ]
  },
  {
   "cell_type": "markdown",
   "id": "8bfa05b0",
   "metadata": {},
   "source": [
    "`checkpoint` configuration "
   ]
  },
  {
   "cell_type": "code",
   "execution_count": 25,
   "id": "423abecb",
   "metadata": {},
   "outputs": [],
   "source": [
    "checkpoint_config: dict = {\n",
    "    \"class_name\": \"Checkpoint\",\n",
    "    \"name\": \"my_checkpoint\",\n",
    "    \"config_version\": 1,\n",
    "    \"module_name\": \"great_expectations.checkpoint\",\n",
    "    \"run_name_template\": \"%Y-%M-foo-bar-template\",\n",
    "    \"expectation_suite_name\": \"visitors_exp\",\n",
    "    \"action_list\": [\n",
    "        {\n",
    "            \"name\": \"store_validation_result\",\n",
    "            \"action\": {\n",
    "                \"class_name\": \"StoreValidationResultAction\",\n",
    "            },\n",
    "        },\n",
    "        {\n",
    "            \"name\": \"store_evaluation_params\",\n",
    "            \"action\": {\n",
    "                \"class_name\": \"StoreEvaluationParametersAction\",\n",
    "            },\n",
    "        },\n",
    "        {\n",
    "            \"name\": \"update_data_docs\",\n",
    "            \"action\": {\n",
    "                \"class_name\": \"UpdateDataDocsAction\",\n",
    "            },\n",
    "        },\n",
    "    ],\n",
    "    \"validations\": [\n",
    "        {\n",
    "            \"batch_request\": batch_request,\n",
    "        }\n",
    "    ],\n",
    "}"
   ]
  },
  {
   "cell_type": "code",
   "execution_count": 26,
   "id": "74e188c7",
   "metadata": {},
   "outputs": [
    {
     "data": {
      "text/plain": [
       "{\n",
       "  \"action_list\": [\n",
       "    {\n",
       "      \"name\": \"store_validation_result\",\n",
       "      \"action\": {\n",
       "        \"class_name\": \"StoreValidationResultAction\"\n",
       "      }\n",
       "    },\n",
       "    {\n",
       "      \"name\": \"store_evaluation_params\",\n",
       "      \"action\": {\n",
       "        \"class_name\": \"StoreEvaluationParametersAction\"\n",
       "      }\n",
       "    },\n",
       "    {\n",
       "      \"name\": \"update_data_docs\",\n",
       "      \"action\": {\n",
       "        \"class_name\": \"UpdateDataDocsAction\"\n",
       "      }\n",
       "    }\n",
       "  ],\n",
       "  \"batch_request\": {},\n",
       "  \"class_name\": \"Checkpoint\",\n",
       "  \"config_version\": 1,\n",
       "  \"evaluation_parameters\": {},\n",
       "  \"expectation_suite_name\": \"visitors_exp\",\n",
       "  \"module_name\": \"great_expectations.checkpoint\",\n",
       "  \"name\": \"my_checkpoint\",\n",
       "  \"profilers\": [],\n",
       "  \"run_name_template\": \"%Y-%M-foo-bar-template\",\n",
       "  \"runtime_configuration\": {},\n",
       "  \"validations\": [\n",
       "    {\n",
       "      \"batch_request\": {\n",
       "        \"datasource_name\": \"my_datasource\",\n",
       "        \"data_connector_name\": \"my_sql_data_connector\",\n",
       "        \"data_asset_name\": \"event_names\"\n",
       "      }\n",
       "    }\n",
       "  ]\n",
       "}"
      ]
     },
     "execution_count": 26,
     "metadata": {},
     "output_type": "execute_result"
    }
   ],
   "source": [
    "context.add_checkpoint(**checkpoint_config)"
   ]
  },
  {
   "cell_type": "markdown",
   "id": "5e16ecdc",
   "metadata": {},
   "source": [
    "# Example 1: \n",
    "* `unexpected_index_column_names` not configured."
   ]
  },
  {
   "cell_type": "code",
   "execution_count": 7,
   "id": "28b3140f",
   "metadata": {},
   "outputs": [
    {
     "data": {
      "application/vnd.jupyter.widget-view+json": {
       "model_id": "ff001251460941a5aae76838afe22a21",
       "version_major": 2,
       "version_minor": 0
      },
      "text/plain": [
       "Calculating Metrics:   0%|          | 0/11 [00:00<?, ?it/s]"
      ]
     },
     "metadata": {},
     "output_type": "display_data"
    }
   ],
   "source": [
    "results = context.run_checkpoint(checkpoint_name=\"my_checkpoint\")"
   ]
  },
  {
   "cell_type": "code",
   "execution_count": 8,
   "id": "5deb7e49",
   "metadata": {},
   "outputs": [],
   "source": [
    "evrs = results.list_validation_results()"
   ]
  },
  {
   "cell_type": "code",
   "execution_count": 9,
   "id": "069ae58d",
   "metadata": {},
   "outputs": [
    {
     "data": {
      "text/plain": [
       "{'element_count': 6,\n",
       " 'unexpected_count': 3,\n",
       " 'unexpected_percent': 50.0,\n",
       " 'partial_unexpected_list': ['user_signup', 'purchase', 'download'],\n",
       " 'missing_count': 0,\n",
       " 'missing_percent': 0.0,\n",
       " 'unexpected_percent_total': 50.0,\n",
       " 'unexpected_percent_nonmissing': 50.0,\n",
       " 'partial_unexpected_counts': [{'value': 'download', 'count': 1},\n",
       "  {'value': 'purchase', 'count': 1},\n",
       "  {'value': 'user_signup', 'count': 1}]}"
      ]
     },
     "execution_count": 9,
     "metadata": {},
     "output_type": "execute_result"
    }
   ],
   "source": [
    "evrs[0][\"results\"][0][\"result\"]"
   ]
  },
  {
   "cell_type": "code",
   "execution_count": 10,
   "id": "adcb41ca",
   "metadata": {},
   "outputs": [],
   "source": [
    "context.open_data_docs()"
   ]
  },
  {
   "cell_type": "markdown",
   "id": "22056143",
   "metadata": {},
   "source": [
    "# Example 2:\n",
    "* Single `unexpected_index_column_names` configured."
   ]
  },
  {
   "cell_type": "code",
   "execution_count": 11,
   "id": "0b165b44",
   "metadata": {},
   "outputs": [],
   "source": [
    "result_format: dict = {\n",
    "    \"result_format\": \"COMPLETE\",\n",
    "    \"unexpected_index_column_names\": [\"event_id\"],\n",
    "}\n"
   ]
  },
  {
   "cell_type": "code",
   "execution_count": 12,
   "id": "a156aa51",
   "metadata": {},
   "outputs": [
    {
     "data": {
      "application/vnd.jupyter.widget-view+json": {
       "model_id": "5b524965099b47898e52c02bfcb8440a",
       "version_major": 2,
       "version_minor": 0
      },
      "text/plain": [
       "Calculating Metrics:   0%|          | 0/13 [00:00<?, ?it/s]"
      ]
     },
     "metadata": {},
     "output_type": "display_data"
    }
   ],
   "source": [
    "results: CheckpointResult = context.run_checkpoint(\n",
    "    checkpoint_name=\"my_checkpoint\", result_format=result_format\n",
    ")"
   ]
  },
  {
   "cell_type": "code",
   "execution_count": 13,
   "id": "792fc1b9",
   "metadata": {},
   "outputs": [],
   "source": [
    "evrs = results.list_validation_results()"
   ]
  },
  {
   "cell_type": "code",
   "execution_count": 14,
   "id": "7b08cbad",
   "metadata": {},
   "outputs": [
    {
     "data": {
      "text/plain": [
       "{'element_count': 6,\n",
       " 'unexpected_count': 3,\n",
       " 'unexpected_percent': 50.0,\n",
       " 'partial_unexpected_list': ['user_signup', 'purchase', 'download'],\n",
       " 'unexpected_index_column_names': ['event_id'],\n",
       " 'missing_count': 0,\n",
       " 'missing_percent': 0.0,\n",
       " 'unexpected_percent_total': 50.0,\n",
       " 'unexpected_percent_nonmissing': 50.0,\n",
       " 'partial_unexpected_index_list': [{'event_type': 'user_signup',\n",
       "   'event_id': 3},\n",
       "  {'event_type': 'purchase', 'event_id': 4},\n",
       "  {'event_type': 'download', 'event_id': 5}],\n",
       " 'partial_unexpected_counts': [{'value': 'download', 'count': 1},\n",
       "  {'value': 'purchase', 'count': 1},\n",
       "  {'value': 'user_signup', 'count': 1}],\n",
       " 'unexpected_list': ['user_signup', 'purchase', 'download'],\n",
       " 'unexpected_index_list': [{'event_type': 'user_signup', 'event_id': 3},\n",
       "  {'event_type': 'purchase', 'event_id': 4},\n",
       "  {'event_type': 'download', 'event_id': 5}],\n",
       " 'unexpected_index_query': \"SELECT event_type, event_id \\nFROM event_names \\nWHERE event_type IS NOT NULL AND (event_type NOT IN ('page_load', 'page_view'));\"}"
      ]
     },
     "execution_count": 14,
     "metadata": {},
     "output_type": "execute_result"
    }
   ],
   "source": [
    "evrs[0][\"results\"][0][\"result\"]"
   ]
  },
  {
   "cell_type": "code",
   "execution_count": 15,
   "id": "683abbf9",
   "metadata": {},
   "outputs": [],
   "source": [
    "context.open_data_docs()"
   ]
  },
  {
   "cell_type": "markdown",
   "id": "cc280c63",
   "metadata": {},
   "source": [
    "# Example 3:\n",
    "* Multiple `unexpected_index_column_names` configured."
   ]
  },
  {
   "cell_type": "code",
   "execution_count": 16,
   "id": "9092944e",
   "metadata": {},
   "outputs": [],
   "source": [
    "result_format: dict = {\n",
    "    \"result_format\": \"COMPLETE\",\n",
    "    \"unexpected_index_column_names\": [\"event_id\", \"visit_id\"],\n",
    "}\n"
   ]
  },
  {
   "cell_type": "code",
   "execution_count": 17,
   "id": "eb2c1f53",
   "metadata": {},
   "outputs": [
    {
     "data": {
      "application/vnd.jupyter.widget-view+json": {
       "model_id": "017462d321a540ef955c001f8b2c15d2",
       "version_major": 2,
       "version_minor": 0
      },
      "text/plain": [
       "Calculating Metrics:   0%|          | 0/13 [00:00<?, ?it/s]"
      ]
     },
     "metadata": {},
     "output_type": "display_data"
    }
   ],
   "source": [
    "results: CheckpointResult = context.run_checkpoint(\n",
    "    checkpoint_name=\"my_checkpoint\", result_format=result_format\n",
    ")"
   ]
  },
  {
   "cell_type": "code",
   "execution_count": 18,
   "id": "cf1be4a3",
   "metadata": {},
   "outputs": [],
   "source": [
    "evrs = results.list_validation_results()"
   ]
  },
  {
   "cell_type": "code",
   "execution_count": 19,
   "id": "f2d84ac3",
   "metadata": {},
   "outputs": [
    {
     "data": {
      "text/plain": [
       "{'element_count': 6,\n",
       " 'unexpected_count': 3,\n",
       " 'unexpected_percent': 50.0,\n",
       " 'partial_unexpected_list': ['user_signup', 'purchase', 'download'],\n",
       " 'unexpected_index_column_names': ['event_id', 'visit_id'],\n",
       " 'missing_count': 0,\n",
       " 'missing_percent': 0.0,\n",
       " 'unexpected_percent_total': 50.0,\n",
       " 'unexpected_percent_nonmissing': 50.0,\n",
       " 'partial_unexpected_index_list': [{'event_type': 'user_signup',\n",
       "   'event_id': 3,\n",
       "   'visit_id': 1470387700},\n",
       "  {'event_type': 'purchase', 'event_id': 4, 'visit_id': 1470438716},\n",
       "  {'event_type': 'download', 'event_id': 5, 'visit_id': 1470420524}],\n",
       " 'partial_unexpected_counts': [{'value': 'download', 'count': 1},\n",
       "  {'value': 'purchase', 'count': 1},\n",
       "  {'value': 'user_signup', 'count': 1}],\n",
       " 'unexpected_list': ['user_signup', 'purchase', 'download'],\n",
       " 'unexpected_index_list': [{'event_type': 'user_signup',\n",
       "   'event_id': 3,\n",
       "   'visit_id': 1470387700},\n",
       "  {'event_type': 'purchase', 'event_id': 4, 'visit_id': 1470438716},\n",
       "  {'event_type': 'download', 'event_id': 5, 'visit_id': 1470420524}],\n",
       " 'unexpected_index_query': \"SELECT event_type, event_id, visit_id \\nFROM event_names \\nWHERE event_type IS NOT NULL AND (event_type NOT IN ('page_load', 'page_view'));\"}"
      ]
     },
     "execution_count": 19,
     "metadata": {},
     "output_type": "execute_result"
    }
   ],
   "source": [
    "evrs[0][\"results\"][0][\"result\"]"
   ]
  },
  {
   "cell_type": "code",
   "execution_count": 20,
   "id": "79196aeb",
   "metadata": {},
   "outputs": [],
   "source": [
    "context.open_data_docs()"
   ]
  }
 ],
 "metadata": {
  "kernelspec": {
   "display_name": "Python 3 (ipykernel)",
   "language": "python",
   "name": "python3"
  },
  "language_info": {
   "codemirror_mode": {
    "name": "ipython",
    "version": 3
   },
   "file_extension": ".py",
   "mimetype": "text/x-python",
   "name": "python",
   "nbconvert_exporter": "python",
   "pygments_lexer": "ipython3",
   "version": "3.9.13"
  }
 },
 "nbformat": 4,
 "nbformat_minor": 5
}
