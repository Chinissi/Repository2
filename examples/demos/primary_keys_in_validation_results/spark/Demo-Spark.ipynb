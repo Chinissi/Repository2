{
 "cells": [
  {
   "cell_type": "code",
   "execution_count": null,
   "id": "1e988c39",
   "metadata": {},
   "outputs": [],
   "source": [
    "import great_expectations as gx"
   ]
  },
  {
   "cell_type": "code",
   "execution_count": null,
   "id": "72f26a87",
   "metadata": {},
   "outputs": [],
   "source": [
    "from great_expectations.checkpoint import Checkpoint, LegacyCheckpoint\n",
    "from great_expectations.checkpoint.types.checkpoint_result import CheckpointResult\n",
    "from great_expectations.core import ExpectationSuiteValidationResult\n",
    "from great_expectations.core.batch import BatchRequest, RuntimeBatchRequest"
   ]
  },
  {
   "cell_type": "code",
   "execution_count": null,
   "id": "7b0efad8",
   "metadata": {},
   "outputs": [],
   "source": [
    "context = gx.get_context()"
   ]
  },
  {
   "cell_type": "code",
   "execution_count": null,
   "id": "54940668",
   "metadata": {},
   "outputs": [],
   "source": [
    "batch_request: BatchRequest = BatchRequest(\n",
    "    **{\n",
    "        \"datasource_name\": \"my_datasource\",\n",
    "        \"data_connector_name\": \"my_spark_data_connector\",\n",
    "        \"data_asset_name\": \"visits.csv\",\n",
    "    }\n",
    ")\n"
   ]
  },
  {
   "cell_type": "code",
   "execution_count": null,
   "id": "aa926889",
   "metadata": {},
   "outputs": [],
   "source": [
    "context.create_expectation_suite(expectation_suite_name=\"temp\", overwrite_existing=True)\n"
   ]
  },
  {
   "cell_type": "code",
   "execution_count": null,
   "id": "c60a9a1c",
   "metadata": {},
   "outputs": [],
   "source": [
    "validator = context.get_validator(batch_request=batch_request, expectation_suite_name=\"temp\")"
   ]
  },
  {
   "cell_type": "code",
   "execution_count": null,
   "id": "3ec9ee63",
   "metadata": {},
   "outputs": [],
   "source": [
    "validator.head()"
   ]
  },
  {
   "cell_type": "code",
   "execution_count": null,
   "id": "423abecb",
   "metadata": {},
   "outputs": [],
   "source": [
    "checkpoint_config: dict = {\n",
    "    \"class_name\": \"Checkpoint\",\n",
    "    \"name\": \"my_checkpoint\",\n",
    "    \"config_version\": 1,\n",
    "    \"module_name\": \"great_expectations.checkpoint\",\n",
    "    \"run_name_template\": \"%Y-%M-foo-bar-template\",\n",
    "    \"expectation_suite_name\": \"visitors_exp\",\n",
    "    \"action_list\": [\n",
    "        {\n",
    "            \"name\": \"store_validation_result\",\n",
    "            \"action\": {\n",
    "                \"class_name\": \"StoreValidationResultAction\",\n",
    "            },\n",
    "        },\n",
    "        {\n",
    "            \"name\": \"store_evaluation_params\",\n",
    "            \"action\": {\n",
    "                \"class_name\": \"StoreEvaluationParametersAction\",\n",
    "            },\n",
    "        },\n",
    "        {\n",
    "            \"name\": \"update_data_docs\",\n",
    "            \"action\": {\n",
    "                \"class_name\": \"UpdateDataDocsAction\",\n",
    "            },\n",
    "        },\n",
    "    ],\n",
    "    \"validations\": [\n",
    "        {\n",
    "            \"batch_request\": batch_request,\n",
    "        }\n",
    "    ],\n",
    "}\n",
    "context.add_checkpoint(**checkpoint_config)"
   ]
  },
  {
   "cell_type": "code",
   "execution_count": null,
   "id": "28b3140f",
   "metadata": {},
   "outputs": [],
   "source": [
    "results = context.run_checkpoint(checkpoint_name=\"my_checkpoint\")"
   ]
  },
  {
   "cell_type": "code",
   "execution_count": null,
   "id": "5deb7e49",
   "metadata": {},
   "outputs": [],
   "source": [
    "evrs = results.list_validation_results()"
   ]
  },
  {
   "cell_type": "code",
   "execution_count": null,
   "id": "069ae58d",
   "metadata": {},
   "outputs": [],
   "source": [
    "evrs[0][\"results\"][0][\"result\"]"
   ]
  },
  {
   "cell_type": "code",
   "execution_count": null,
   "id": "0b165b44",
   "metadata": {},
   "outputs": [],
   "source": [
    "result_format: dict = {\n",
    "    \"result_format\": \"COMPLETE\",\n",
    "    \"unexpected_index_column_names\": [\"event_id\"],\n",
    "}\n"
   ]
  },
  {
   "cell_type": "code",
   "execution_count": null,
   "id": "a156aa51",
   "metadata": {},
   "outputs": [],
   "source": [
    "results: CheckpointResult = context.run_checkpoint(\n",
    "    checkpoint_name=\"my_checkpoint\", result_format=result_format\n",
    ")"
   ]
  },
  {
   "cell_type": "code",
   "execution_count": null,
   "id": "792fc1b9",
   "metadata": {},
   "outputs": [],
   "source": [
    "evrs = results.list_validation_results()"
   ]
  },
  {
   "cell_type": "code",
   "execution_count": null,
   "id": "7b08cbad",
   "metadata": {},
   "outputs": [],
   "source": [
    "evrs[0][\"results\"][0][\"result\"]"
   ]
  },
  {
   "cell_type": "code",
   "execution_count": null,
   "id": "34bec4de",
   "metadata": {},
   "outputs": [],
   "source": []
  },
  {
   "cell_type": "code",
   "execution_count": null,
   "id": "9092944e",
   "metadata": {},
   "outputs": [],
   "source": [
    "result_format: dict = {\n",
    "    \"result_format\": \"COMPLETE\",\n",
    "    \"unexpected_index_column_names\": [\"event_id\", \"visit_id\"],\n",
    "}\n"
   ]
  },
  {
   "cell_type": "code",
   "execution_count": null,
   "id": "cf1be4a3",
   "metadata": {},
   "outputs": [],
   "source": [
    "evrs = results.list_validation_results()"
   ]
  },
  {
   "cell_type": "code",
   "execution_count": null,
   "id": "f2d84ac3",
   "metadata": {},
   "outputs": [],
   "source": [
    "evrs[0][\"results\"][0][\"result\"]"
   ]
  }
 ],
 "metadata": {
  "kernelspec": {
   "display_name": "Python 3 (ipykernel)",
   "language": "python",
   "name": "python3"
  },
  "language_info": {
   "codemirror_mode": {
    "name": "ipython",
    "version": 3
   },
   "file_extension": ".py",
   "mimetype": "text/x-python",
   "name": "python",
   "nbconvert_exporter": "python",
   "pygments_lexer": "ipython3",
   "version": "3.9.13"
  }
 },
 "nbformat": 4,
 "nbformat_minor": 5
}
