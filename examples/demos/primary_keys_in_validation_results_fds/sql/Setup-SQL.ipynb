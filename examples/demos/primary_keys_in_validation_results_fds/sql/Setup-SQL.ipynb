{
 "cells": [
  {
   "cell_type": "code",
   "execution_count": null,
   "id": "041bd443",
   "metadata": {},
   "outputs": [],
   "source": [
    "import great_expectations as gx\n",
    "from great_expectations.checkpoint import SimpleCheckpoint\n",
    "from great_expectations.core.batch import BatchRequest\n",
    "from great_expectations.core.yaml_handler import YAMLHandler\n",
    "from great_expectations.datasource.fluent.interfaces import DataAsset\n",
    "from great_expectations.core.expectation_configuration import ExpectationConfiguration\n",
    "from great_expectations.datasource.fluent import SqliteDatasource"
   ]
  },
  {
   "cell_type": "code",
   "execution_count": null,
   "id": "2efbb2cd",
   "metadata": {},
   "outputs": [],
   "source": [
    "yaml = YAMLHandler()"
   ]
  },
  {
   "cell_type": "code",
   "execution_count": null,
   "id": "ce3c2e66",
   "metadata": {},
   "outputs": [],
   "source": [
    "context = gx.get_context(context_root_dir=\"./great_expectations/\", cloud_mode=False)"
   ]
  },
  {
   "cell_type": "code",
   "execution_count": null,
   "id": "edffc21b",
   "metadata": {},
   "outputs": [],
   "source": [
    "sqlite_database_path = \"../../../data/visits.db\""
   ]
  },
  {
   "cell_type": "code",
   "execution_count": null,
   "id": "3c4b9117",
   "metadata": {},
   "outputs": [],
   "source": [
    "datasource: SqliteDatasource = context.sources.add_or_update_sqlite(\n",
    "    name=\"visits_datasource\", connection_string=f\"sqlite:///{sqlite_database_path}\"\n",
    ")"
   ]
  },
  {
   "cell_type": "code",
   "execution_count": null,
   "id": "70dd2ef0",
   "metadata": {},
   "outputs": [],
   "source": [
    "# validator\n",
    "table_asset = datasource.add_table_asset(name=\"visits_asset\", table_name=\"event_names\")"
   ]
  },
  {
   "cell_type": "code",
   "execution_count": null,
   "id": "27ce4810",
   "metadata": {},
   "outputs": [],
   "source": [
    "batch_request: BatchRequest = table_asset.build_batch_request()"
   ]
  },
  {
   "cell_type": "code",
   "execution_count": null,
   "id": "d6a30cee",
   "metadata": {},
   "outputs": [],
   "source": [
    "expectation_suite_name = \"visitors_exp\""
   ]
  },
  {
   "cell_type": "code",
   "execution_count": null,
   "id": "600f3183",
   "metadata": {},
   "outputs": [],
   "source": [
    "expectation_suite = context.add_or_update_expectation_suite(\n",
    "    expectation_suite_name=expectation_suite_name\n",
    ")"
   ]
  },
  {
   "cell_type": "code",
   "execution_count": null,
   "id": "f889948c",
   "metadata": {},
   "outputs": [],
   "source": [
    "new_config = ExpectationConfiguration(\n",
    "    expectation_type=\"expect_column_values_to_be_in_set\",\n",
    "    kwargs={\"column\": \"event_type\", \"value_set\": [\"page_load\", \"page_view\"]},\n",
    ")"
   ]
  },
  {
   "cell_type": "code",
   "execution_count": null,
   "id": "56ff4803",
   "metadata": {},
   "outputs": [],
   "source": [
    "expectation_suite.add_expectation(new_config)"
   ]
  },
  {
   "cell_type": "code",
   "execution_count": null,
   "id": "9693af77",
   "metadata": {},
   "outputs": [],
   "source": [
    "expectation_suite = context.add_or_update_expectation_suite(\n",
    "    expectation_suite=expectation_suite\n",
    ")"
   ]
  },
  {
   "cell_type": "code",
   "execution_count": null,
   "id": "c16ed05d",
   "metadata": {},
   "outputs": [],
   "source": [
    "expectation_suite"
   ]
  },
  {
   "cell_type": "code",
   "execution_count": null,
   "id": "8ae5a11f",
   "metadata": {},
   "outputs": [],
   "source": [
    "checkpoint_config: dict = {\n",
    "    \"class_name\": \"Checkpoint\",\n",
    "    \"name\": \"my_checkpoint\",\n",
    "    \"config_version\": 1,\n",
    "    \"module_name\": \"great_expectations.checkpoint\",\n",
    "    \"run_name_template\": \"%Y-%M-foo-bar-template\",\n",
    "    \"action_list\": [\n",
    "        {\n",
    "            \"name\": \"store_validation_result\",\n",
    "            \"action\": {\n",
    "                \"class_name\": \"StoreValidationResultAction\",\n",
    "            },\n",
    "        },\n",
    "        {\n",
    "            \"name\": \"store_evaluation_params\",\n",
    "            \"action\": {\n",
    "                \"class_name\": \"StoreEvaluationParametersAction\",\n",
    "            },\n",
    "        },\n",
    "        {\n",
    "            \"name\": \"update_data_docs\",\n",
    "            \"action\": {\n",
    "                \"class_name\": \"UpdateDataDocsAction\",\n",
    "            },\n",
    "        },\n",
    "    ],\n",
    "    \"validations\": [\n",
    "        {\n",
    "            \"batch_request\": batch_request,\n",
    "            \"expectation_suite_name\": \"visitors_exp\",\n",
    "        }\n",
    "    ],\n",
    "    \"runtime_configuration\": {},\n",
    "}\n",
    "context.add_or_update_checkpoint(**checkpoint_config)"
   ]
  },
  {
   "cell_type": "code",
   "execution_count": null,
   "id": "8528dd9c",
   "metadata": {},
   "outputs": [],
   "source": [
    "result_format: dict = {\n",
    "    \"result_format\": \"COMPLETE\",\n",
    "    \"unexpected_index_column_names\": [\"event_id\"],\n",
    "}"
   ]
  },
  {
   "cell_type": "code",
   "execution_count": null,
   "id": "842836fc",
   "metadata": {},
   "outputs": [],
   "source": [
    "results = context.run_checkpoint(\n",
    "    checkpoint_name=\"my_checkpoint\", result_format=result_format\n",
    ")"
   ]
  },
  {
   "cell_type": "code",
   "execution_count": null,
   "id": "e41b96da",
   "metadata": {},
   "outputs": [],
   "source": [
    "evrs = results.list_validation_results()"
   ]
  },
  {
   "cell_type": "code",
   "execution_count": null,
   "id": "dbd9d9de",
   "metadata": {},
   "outputs": [],
   "source": [
    "evrs[0][\"results\"][0][\"result\"]"
   ]
  },
  {
   "cell_type": "code",
   "execution_count": null,
   "id": "5136f681",
   "metadata": {},
   "outputs": [],
   "source": [
    "context.open_data_docs()"
   ]
  },
  {
   "cell_type": "code",
   "execution_count": null,
   "id": "1439af94",
   "metadata": {},
   "outputs": [],
   "source": []
  }
 ],
 "metadata": {
  "kernelspec": {
   "display_name": "Python 3 (ipykernel)",
   "language": "python",
   "name": "python3"
  },
  "language_info": {
   "codemirror_mode": {
    "name": "ipython",
    "version": 3
   },
   "file_extension": ".py",
   "mimetype": "text/x-python",
   "name": "python",
   "nbconvert_exporter": "python",
   "pygments_lexer": "ipython3",
   "version": "3.9.6"
  }
 },
 "nbformat": 4,
 "nbformat_minor": 5
}
