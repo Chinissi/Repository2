{
 "cells": [
  {
   "cell_type": "markdown",
   "id": "c6c66d0d",
   "metadata": {},
   "source": [
    "# ID/Primary Key"
   ]
  },
  {
   "cell_type": "code",
   "execution_count": 1,
   "id": "274dd3a9",
   "metadata": {},
   "outputs": [],
   "source": [
    "import pandas as pd"
   ]
  },
  {
   "cell_type": "code",
   "execution_count": 7,
   "id": "f6e4a083",
   "metadata": {},
   "outputs": [],
   "source": [
    "import great_expectations as ge\n",
    "from great_expectations.core import (\n",
    "    ExpectationConfiguration,\n",
    "    ExpectationValidationResult,\n",
    ")\n",
    "from great_expectations.core.batch import Batch, BatchRequest\n",
    "from great_expectations.core.batch_spec import SqlAlchemyDatasourceBatchSpec\n",
    "from great_expectations.core.util import convert_to_json_serializable\n",
    "from great_expectations.data_context.util import file_relative_path\n",
    "from great_expectations.datasource.data_connector import ConfiguredAssetSqlDataConnector\n",
    "from great_expectations.execution_engine import (\n",
    "    PandasExecutionEngine,\n",
    "    SparkDFExecutionEngine,\n",
    "    SqlAlchemyExecutionEngine,\n",
    ")\n",
    "from great_expectations.expectations.core import ExpectColumnValuesToBeInSet\n",
    "from great_expectations.expectations.metrics import (\n",
    "    ColumnMax,\n",
    "    ColumnValuesNonNull,\n",
    "    CompoundColumnsUnique,\n",
    ")\n",
    "from great_expectations.expectations.metrics.map_metric_provider import (\n",
    "    ColumnMapMetricProvider,\n",
    "    MapMetricProvider,\n",
    ")\n",
    "from great_expectations.validator.validation_graph import MetricConfiguration\n",
    "from great_expectations.validator.validator import Validator\n"
   ]
  },
  {
   "cell_type": "markdown",
   "id": "9cd5b8a3",
   "metadata": {},
   "source": [
    "# Dataframe with 3 columns"
   ]
  },
  {
   "cell_type": "markdown",
   "id": "89c55fff",
   "metadata": {},
   "source": [
    "`animals` column contains 6 animals names, 3 of which are domestic animals (`cat`, `fish`, `dog`) and 3 that are not (`giraffe`, `lion`, `zebra`). It also has 2 columns that can be used as primary key columns (`pk_1` and `pk_2`)"
   ]
  },
  {
   "cell_type": "code",
   "execution_count": 31,
   "id": "ec93fc3a",
   "metadata": {},
   "outputs": [],
   "source": [
    "my_df: pd.DataFrame = pd.DataFrame(\n",
    "        {\n",
    "            \"pk_1\": [0, 1, 2, 3, 4, 5],\n",
    "            \"pk_2\": [\"zero\", \"one\", \"two\", \"three\", \"four\", \"five\"],\n",
    "            \"animals\": [\n",
    "                \"cat\",\n",
    "                \"fish\",\n",
    "                \"dog\",\n",
    "                \"giraffe\",\n",
    "                \"lion\",\n",
    "                \"zebra\",\n",
    "            ],\n",
    "        }\n",
    "    )"
   ]
  },
  {
   "cell_type": "code",
   "execution_count": 32,
   "id": "490a2fd1",
   "metadata": {},
   "outputs": [
    {
     "data": {
      "text/html": [
       "<div>\n",
       "<style scoped>\n",
       "    .dataframe tbody tr th:only-of-type {\n",
       "        vertical-align: middle;\n",
       "    }\n",
       "\n",
       "    .dataframe tbody tr th {\n",
       "        vertical-align: top;\n",
       "    }\n",
       "\n",
       "    .dataframe thead th {\n",
       "        text-align: right;\n",
       "    }\n",
       "</style>\n",
       "<table border=\"1\" class=\"dataframe\">\n",
       "  <thead>\n",
       "    <tr style=\"text-align: right;\">\n",
       "      <th></th>\n",
       "      <th>pk_1</th>\n",
       "      <th>pk_2</th>\n",
       "      <th>animals</th>\n",
       "    </tr>\n",
       "  </thead>\n",
       "  <tbody>\n",
       "    <tr>\n",
       "      <th>0</th>\n",
       "      <td>0</td>\n",
       "      <td>zero</td>\n",
       "      <td>cat</td>\n",
       "    </tr>\n",
       "    <tr>\n",
       "      <th>1</th>\n",
       "      <td>1</td>\n",
       "      <td>one</td>\n",
       "      <td>fish</td>\n",
       "    </tr>\n",
       "    <tr>\n",
       "      <th>2</th>\n",
       "      <td>2</td>\n",
       "      <td>two</td>\n",
       "      <td>dog</td>\n",
       "    </tr>\n",
       "    <tr>\n",
       "      <th>3</th>\n",
       "      <td>3</td>\n",
       "      <td>three</td>\n",
       "      <td>giraffe</td>\n",
       "    </tr>\n",
       "    <tr>\n",
       "      <th>4</th>\n",
       "      <td>4</td>\n",
       "      <td>four</td>\n",
       "      <td>lion</td>\n",
       "    </tr>\n",
       "    <tr>\n",
       "      <th>5</th>\n",
       "      <td>5</td>\n",
       "      <td>five</td>\n",
       "      <td>zebra</td>\n",
       "    </tr>\n",
       "  </tbody>\n",
       "</table>\n",
       "</div>"
      ],
      "text/plain": [
       "   pk_1   pk_2  animals\n",
       "0     0   zero      cat\n",
       "1     1    one     fish\n",
       "2     2    two      dog\n",
       "3     3  three  giraffe\n",
       "4     4   four     lion\n",
       "5     5   five    zebra"
      ]
     },
     "execution_count": 32,
     "metadata": {},
     "output_type": "execute_result"
    }
   ],
   "source": [
    "my_df"
   ]
  },
  {
   "cell_type": "markdown",
   "id": "2767afa8",
   "metadata": {},
   "source": [
    "### Configurations"
   ]
  },
  {
   "cell_type": "code",
   "execution_count": 39,
   "id": "20fb2a31",
   "metadata": {},
   "outputs": [],
   "source": [
    "expectation_configuration = ExpectationConfiguration(\n",
    "        expectation_type=\"expect_column_values_to_be_in_set\",\n",
    "        kwargs={\n",
    "            \"column\": \"animals\",\n",
    "            \"value_set\": [\"cat\", \"fish\", \"dog\"],\n",
    "            \"result_format\": {\n",
    "                \"result_format\": \"COMPLETE\",\n",
    "                 #\"include_unexpected_rows\": True,  # for all the rows\n",
    "            },\n",
    "        },\n",
    "    )\n"
   ]
  },
  {
   "cell_type": "markdown",
   "id": "4cc99808",
   "metadata": {},
   "source": [
    "* `result_format`: `COMPLETE`\n",
    "* This will output `partial_unexpected_index_list` and `unexpected_index_list`"
   ]
  },
  {
   "cell_type": "code",
   "execution_count": 24,
   "id": "0abd6d5f",
   "metadata": {},
   "outputs": [],
   "source": [
    "expectation_configuration = ExpectationConfiguration(\n",
    "        expectation_type=\"expect_column_values_to_be_in_set\",\n",
    "        kwargs={\n",
    "            \"column\": \"animals\",\n",
    "            \"value_set\": [\"cat\", \"fish\", \"dog\"],\n",
    "            \"result_format\": {\n",
    "                \"result_format\": \"SUMMARY\",\n",
    "                #\"include_unexpected_rows\": True,  # for all the rows\n",
    "            },\n",
    "        },\n",
    "    )"
   ]
  },
  {
   "cell_type": "markdown",
   "id": "8ebdb58a",
   "metadata": {},
   "source": [
    "* `result_format`: `SUMMARY`\n",
    "* This will output `partial_unexpected_index_list`"
   ]
  },
  {
   "cell_type": "code",
   "execution_count": 34,
   "id": "fe53c8a0",
   "metadata": {},
   "outputs": [],
   "source": [
    "expectation_configuration = ExpectationConfiguration(\n",
    "        expectation_type=\"expect_column_values_to_be_in_set\",\n",
    "        kwargs={\n",
    "            \"column\": \"animals\",\n",
    "            \"value_set\": [\"cat\", \"fish\", \"dog\"],\n",
    "            \"result_format\": {\n",
    "                \"result_format\": \"COMPLETE\",\n",
    "                 \"unexpected_index_column_names\": [\"pk_1\", \"pk_2\"],  # Single column\n",
    "            },\n",
    "        },\n",
    "    )"
   ]
  },
  {
   "cell_type": "markdown",
   "id": "03f8ee24",
   "metadata": {},
   "source": [
    "* `result_format`: `COMPLETE`\n",
    "* `unexpected_index_column_names` : `pk_1`"
   ]
  },
  {
   "cell_type": "markdown",
   "id": "6a0c39ca",
   "metadata": {},
   "source": [
    "### Validation Code"
   ]
  },
  {
   "cell_type": "code",
   "execution_count": 40,
   "id": "9b68083b",
   "metadata": {},
   "outputs": [
    {
     "data": {
      "application/vnd.jupyter.widget-view+json": {
       "model_id": "5cba175e500545cba6c842b1c9cff763",
       "version_major": 2,
       "version_minor": 0
      },
      "text/plain": [
       "Calculating Metrics:   0%|          | 0/9 [00:00<?, ?it/s]"
      ]
     },
     "metadata": {},
     "output_type": "display_data"
    }
   ],
   "source": [
    "expectation = ExpectColumnValuesToBeInSet(expectation_configuration)\n",
    "batch: Batch = Batch(data=my_df)\n",
    "engine = PandasExecutionEngine()\n",
    "validator = Validator(\n",
    "    execution_engine=engine,\n",
    "    batches=[\n",
    "        batch,\n",
    "    ],\n",
    ")\n",
    "result = expectation.validate(validator)"
   ]
  },
  {
   "cell_type": "code",
   "execution_count": 41,
   "id": "c3f4ac49",
   "metadata": {},
   "outputs": [
    {
     "data": {
      "text/plain": [
       "{'element_count': 6,\n",
       " 'unexpected_count': 3,\n",
       " 'unexpected_percent': 50.0,\n",
       " 'partial_unexpected_list': ['giraffe', 'lion', 'zebra'],\n",
       " 'missing_count': 0,\n",
       " 'missing_percent': 0.0,\n",
       " 'unexpected_percent_total': 50.0,\n",
       " 'unexpected_percent_nonmissing': 50.0,\n",
       " 'partial_unexpected_index_list': [3, 4, 5],\n",
       " 'partial_unexpected_counts': [{'value': 'giraffe', 'count': 1},\n",
       "  {'value': 'lion', 'count': 1},\n",
       "  {'value': 'zebra', 'count': 1}],\n",
       " 'unexpected_list': ['giraffe', 'lion', 'zebra'],\n",
       " 'unexpected_index_list': [3, 4, 5]}"
      ]
     },
     "execution_count": 41,
     "metadata": {},
     "output_type": "execute_result"
    }
   ],
   "source": [
    "result.result"
   ]
  },
  {
   "cell_type": "markdown",
   "id": "466ab464",
   "metadata": {},
   "source": [
    "# Relevant PRs\n"
   ]
  },
  {
   "cell_type": "markdown",
   "id": "accd91be",
   "metadata": {},
   "source": [
    "* [SQL - under review](https://github.com/great-expectations/great_expectations/pull/6448)\n",
    "* [Pandas - merged](https://github.com/great-expectations/great_expectations/pull/6329)"
   ]
  },
  {
   "cell_type": "code",
   "execution_count": null,
   "id": "3abe8520",
   "metadata": {},
   "outputs": [],
   "source": [
    "df[df[pk1]==[3,4,5]]"
   ]
  }
 ],
 "metadata": {
  "kernelspec": {
   "display_name": "Python 3 (ipykernel)",
   "language": "python",
   "name": "python3"
  },
  "language_info": {
   "codemirror_mode": {
    "name": "ipython",
    "version": 3
   },
   "file_extension": ".py",
   "mimetype": "text/x-python",
   "name": "python",
   "nbconvert_exporter": "python",
   "pygments_lexer": "ipython3",
   "version": "3.9.13"
  }
 },
 "nbformat": 4,
 "nbformat_minor": 5
}
