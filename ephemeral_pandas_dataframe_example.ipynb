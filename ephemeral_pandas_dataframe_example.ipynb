{
 "cells": [
  {
   "cell_type": "code",
   "execution_count": 1,
   "id": "3d2f7143",
   "metadata": {},
   "outputs": [],
   "source": [
    "import pandas as pd\n",
    "import great_expectations as gx"
   ]
  },
  {
   "cell_type": "code",
   "execution_count": 2,
   "id": "3c300f69",
   "metadata": {},
   "outputs": [],
   "source": [
    "context = gx.get_context(cloud_mode=False)"
   ]
  },
  {
   "cell_type": "code",
   "execution_count": 3,
   "id": "c670fd4a",
   "metadata": {},
   "outputs": [],
   "source": [
    "df = pd.read_csv(\n",
    "    \"/Users/nathanfarmer/datasets/taxi_data/yellow_tripdata/samples/yellow_tripdata_2021-06.csv\"\n",
    ")"
   ]
  },
  {
   "cell_type": "code",
   "execution_count": 4,
   "id": "7ff2c11e",
   "metadata": {},
   "outputs": [
    {
     "data": {
      "text/html": [
       "<div>\n",
       "<style scoped>\n",
       "    .dataframe tbody tr th:only-of-type {\n",
       "        vertical-align: middle;\n",
       "    }\n",
       "\n",
       "    .dataframe tbody tr th {\n",
       "        vertical-align: top;\n",
       "    }\n",
       "\n",
       "    .dataframe thead th {\n",
       "        text-align: right;\n",
       "    }\n",
       "</style>\n",
       "<table border=\"1\" class=\"dataframe\">\n",
       "  <thead>\n",
       "    <tr style=\"text-align: right;\">\n",
       "      <th></th>\n",
       "      <th>VendorID</th>\n",
       "      <th>tpep_pickup_datetime</th>\n",
       "      <th>tpep_dropoff_datetime</th>\n",
       "      <th>passenger_count</th>\n",
       "      <th>trip_distance</th>\n",
       "      <th>RatecodeID</th>\n",
       "      <th>store_and_fwd_flag</th>\n",
       "      <th>PULocationID</th>\n",
       "      <th>DOLocationID</th>\n",
       "      <th>payment_type</th>\n",
       "      <th>fare_amount</th>\n",
       "      <th>extra</th>\n",
       "      <th>mta_tax</th>\n",
       "      <th>tip_amount</th>\n",
       "      <th>tolls_amount</th>\n",
       "      <th>improvement_surcharge</th>\n",
       "      <th>total_amount</th>\n",
       "      <th>congestion_surcharge</th>\n",
       "    </tr>\n",
       "  </thead>\n",
       "  <tbody>\n",
       "    <tr>\n",
       "      <th>0</th>\n",
       "      <td>2.0</td>\n",
       "      <td>2021-06-27 11:57:37</td>\n",
       "      <td>2021-06-27 12:19:16</td>\n",
       "      <td>1.0</td>\n",
       "      <td>6.14</td>\n",
       "      <td>1.0</td>\n",
       "      <td>N</td>\n",
       "      <td>262</td>\n",
       "      <td>211</td>\n",
       "      <td>1.0</td>\n",
       "      <td>22.0</td>\n",
       "      <td>0.0</td>\n",
       "      <td>0.5</td>\n",
       "      <td>3.00</td>\n",
       "      <td>0.0</td>\n",
       "      <td>0.3</td>\n",
       "      <td>28.30</td>\n",
       "      <td>2.5</td>\n",
       "    </tr>\n",
       "    <tr>\n",
       "      <th>1</th>\n",
       "      <td>2.0</td>\n",
       "      <td>2021-06-02 17:03:55</td>\n",
       "      <td>2021-06-02 17:24:29</td>\n",
       "      <td>5.0</td>\n",
       "      <td>1.97</td>\n",
       "      <td>1.0</td>\n",
       "      <td>N</td>\n",
       "      <td>107</td>\n",
       "      <td>68</td>\n",
       "      <td>1.0</td>\n",
       "      <td>13.5</td>\n",
       "      <td>1.0</td>\n",
       "      <td>0.5</td>\n",
       "      <td>3.56</td>\n",
       "      <td>0.0</td>\n",
       "      <td>0.3</td>\n",
       "      <td>21.36</td>\n",
       "      <td>2.5</td>\n",
       "    </tr>\n",
       "    <tr>\n",
       "      <th>2</th>\n",
       "      <td>2.0</td>\n",
       "      <td>2021-06-13 10:39:28</td>\n",
       "      <td>2021-06-13 10:51:38</td>\n",
       "      <td>2.0</td>\n",
       "      <td>2.79</td>\n",
       "      <td>1.0</td>\n",
       "      <td>N</td>\n",
       "      <td>48</td>\n",
       "      <td>263</td>\n",
       "      <td>2.0</td>\n",
       "      <td>11.0</td>\n",
       "      <td>0.0</td>\n",
       "      <td>0.5</td>\n",
       "      <td>0.00</td>\n",
       "      <td>0.0</td>\n",
       "      <td>0.3</td>\n",
       "      <td>14.30</td>\n",
       "      <td>2.5</td>\n",
       "    </tr>\n",
       "    <tr>\n",
       "      <th>3</th>\n",
       "      <td>2.0</td>\n",
       "      <td>2021-06-11 01:26:19</td>\n",
       "      <td>2021-06-11 01:32:37</td>\n",
       "      <td>5.0</td>\n",
       "      <td>2.05</td>\n",
       "      <td>1.0</td>\n",
       "      <td>N</td>\n",
       "      <td>79</td>\n",
       "      <td>233</td>\n",
       "      <td>1.0</td>\n",
       "      <td>8.0</td>\n",
       "      <td>0.5</td>\n",
       "      <td>0.5</td>\n",
       "      <td>2.95</td>\n",
       "      <td>0.0</td>\n",
       "      <td>0.3</td>\n",
       "      <td>14.75</td>\n",
       "      <td>2.5</td>\n",
       "    </tr>\n",
       "    <tr>\n",
       "      <th>4</th>\n",
       "      <td>2.0</td>\n",
       "      <td>2021-06-25 13:56:45</td>\n",
       "      <td>2021-06-25 14:05:27</td>\n",
       "      <td>1.0</td>\n",
       "      <td>1.65</td>\n",
       "      <td>1.0</td>\n",
       "      <td>N</td>\n",
       "      <td>163</td>\n",
       "      <td>186</td>\n",
       "      <td>1.0</td>\n",
       "      <td>8.0</td>\n",
       "      <td>0.0</td>\n",
       "      <td>0.5</td>\n",
       "      <td>2.82</td>\n",
       "      <td>0.0</td>\n",
       "      <td>0.3</td>\n",
       "      <td>14.12</td>\n",
       "      <td>2.5</td>\n",
       "    </tr>\n",
       "  </tbody>\n",
       "</table>\n",
       "</div>"
      ],
      "text/plain": [
       "   VendorID tpep_pickup_datetime tpep_dropoff_datetime  passenger_count  \\\n",
       "0       2.0  2021-06-27 11:57:37   2021-06-27 12:19:16              1.0   \n",
       "1       2.0  2021-06-02 17:03:55   2021-06-02 17:24:29              5.0   \n",
       "2       2.0  2021-06-13 10:39:28   2021-06-13 10:51:38              2.0   \n",
       "3       2.0  2021-06-11 01:26:19   2021-06-11 01:32:37              5.0   \n",
       "4       2.0  2021-06-25 13:56:45   2021-06-25 14:05:27              1.0   \n",
       "\n",
       "   trip_distance  RatecodeID store_and_fwd_flag  PULocationID  DOLocationID  \\\n",
       "0           6.14         1.0                  N           262           211   \n",
       "1           1.97         1.0                  N           107            68   \n",
       "2           2.79         1.0                  N            48           263   \n",
       "3           2.05         1.0                  N            79           233   \n",
       "4           1.65         1.0                  N           163           186   \n",
       "\n",
       "   payment_type  fare_amount  extra  mta_tax  tip_amount  tolls_amount  \\\n",
       "0           1.0         22.0    0.0      0.5        3.00           0.0   \n",
       "1           1.0         13.5    1.0      0.5        3.56           0.0   \n",
       "2           2.0         11.0    0.0      0.5        0.00           0.0   \n",
       "3           1.0          8.0    0.5      0.5        2.95           0.0   \n",
       "4           1.0          8.0    0.0      0.5        2.82           0.0   \n",
       "\n",
       "   improvement_surcharge  total_amount  congestion_surcharge  \n",
       "0                    0.3         28.30                   2.5  \n",
       "1                    0.3         21.36                   2.5  \n",
       "2                    0.3         14.30                   2.5  \n",
       "3                    0.3         14.75                   2.5  \n",
       "4                    0.3         14.12                   2.5  "
      ]
     },
     "execution_count": 4,
     "metadata": {},
     "output_type": "execute_result"
    }
   ],
   "source": [
    "df.head()"
   ]
  },
  {
   "cell_type": "code",
   "execution_count": 5,
   "id": "b89f1462",
   "metadata": {},
   "outputs": [],
   "source": [
    "before_columns = df.columns"
   ]
  },
  {
   "cell_type": "code",
   "execution_count": 6,
   "id": "ca84fa6f",
   "metadata": {},
   "outputs": [],
   "source": [
    "datasource = context.sources.pandas_default"
   ]
  },
  {
   "cell_type": "code",
   "execution_count": 7,
   "id": "c1c902f9",
   "metadata": {},
   "outputs": [
    {
     "name": "stderr",
     "output_type": "stream",
     "text": [
      "Batch objects provided to BatchManager must be formal Great Expectations Batch typed objects.\n"
     ]
    }
   ],
   "source": [
    "validator = datasource.read_dataframe(dataframe=df)"
   ]
  },
  {
   "cell_type": "code",
   "execution_count": 8,
   "id": "8541cf3b",
   "metadata": {},
   "outputs": [
    {
     "name": "stdout",
     "output_type": "stream",
     "text": [
      "assets:\n",
      "  '#ephemeral_pandas_asset':\n",
      "    name: '#ephemeral_pandas_asset'\n",
      "    type: dataframe\n",
      "name: default_pandas_datasource\n",
      "type: pandas\n",
      "\n"
     ]
    }
   ],
   "source": [
    "print(datasource)"
   ]
  },
  {
   "cell_type": "code",
   "execution_count": 9,
   "id": "fd6d3d15",
   "metadata": {},
   "outputs": [
    {
     "data": {
      "application/vnd.jupyter.widget-view+json": {
       "model_id": "ebb3a6a7816e49b5a86d8d4e805899ac",
       "version_major": 2,
       "version_minor": 0
      },
      "text/plain": [
       "Calculating Metrics:   0%|          | 0/2 [00:00<?, ?it/s]"
      ]
     },
     "metadata": {},
     "output_type": "display_data"
    },
    {
     "data": {
      "text/plain": [
       "{\n",
       "  \"meta\": {},\n",
       "  \"exception_info\": {\n",
       "    \"raised_exception\": false,\n",
       "    \"exception_traceback\": null,\n",
       "    \"exception_message\": null\n",
       "  },\n",
       "  \"success\": true,\n",
       "  \"result\": {\n",
       "    \"observed_value\": [\n",
       "      \"VendorID\",\n",
       "      \"tpep_pickup_datetime\",\n",
       "      \"tpep_dropoff_datetime\",\n",
       "      \"passenger_count\",\n",
       "      \"trip_distance\",\n",
       "      \"RatecodeID\",\n",
       "      \"store_and_fwd_flag\",\n",
       "      \"PULocationID\",\n",
       "      \"DOLocationID\",\n",
       "      \"payment_type\",\n",
       "      \"fare_amount\",\n",
       "      \"extra\",\n",
       "      \"mta_tax\",\n",
       "      \"tip_amount\",\n",
       "      \"tolls_amount\",\n",
       "      \"improvement_surcharge\",\n",
       "      \"total_amount\",\n",
       "      \"congestion_surcharge\"\n",
       "    ]\n",
       "  }\n",
       "}"
      ]
     },
     "execution_count": 9,
     "metadata": {},
     "output_type": "execute_result"
    }
   ],
   "source": [
    "validator.expect_table_columns_to_match_set(column_set=before_columns)"
   ]
  },
  {
   "cell_type": "code",
   "execution_count": 10,
   "id": "c7bfbb27",
   "metadata": {},
   "outputs": [],
   "source": [
    "df = df.drop(columns=[\"VendorID\"])"
   ]
  },
  {
   "cell_type": "code",
   "execution_count": 11,
   "id": "e3875a26",
   "metadata": {},
   "outputs": [
    {
     "name": "stderr",
     "output_type": "stream",
     "text": [
      "Batch objects provided to BatchManager must be formal Great Expectations Batch typed objects.\n"
     ]
    }
   ],
   "source": [
    "validator = datasource.read_dataframe(dataframe=df)"
   ]
  },
  {
   "cell_type": "code",
   "execution_count": 12,
   "id": "2427e1e2",
   "metadata": {},
   "outputs": [
    {
     "name": "stdout",
     "output_type": "stream",
     "text": [
      "assets:\n",
      "  '#ephemeral_pandas_asset':\n",
      "    name: '#ephemeral_pandas_asset'\n",
      "    type: dataframe\n",
      "name: default_pandas_datasource\n",
      "type: pandas\n",
      "\n"
     ]
    }
   ],
   "source": [
    "print(datasource)"
   ]
  },
  {
   "cell_type": "code",
   "execution_count": 13,
   "id": "e1a1c4e7",
   "metadata": {},
   "outputs": [
    {
     "data": {
      "application/vnd.jupyter.widget-view+json": {
       "model_id": "b861b882d0ff43b98d5acb1cd62999fa",
       "version_major": 2,
       "version_minor": 0
      },
      "text/plain": [
       "Calculating Metrics:   0%|          | 0/2 [00:00<?, ?it/s]"
      ]
     },
     "metadata": {},
     "output_type": "display_data"
    },
    {
     "data": {
      "text/plain": [
       "{\n",
       "  \"meta\": {},\n",
       "  \"exception_info\": {\n",
       "    \"raised_exception\": false,\n",
       "    \"exception_traceback\": null,\n",
       "    \"exception_message\": null\n",
       "  },\n",
       "  \"success\": false,\n",
       "  \"result\": {\n",
       "    \"observed_value\": [\n",
       "      \"DOLocationID\",\n",
       "      \"PULocationID\",\n",
       "      \"RatecodeID\",\n",
       "      \"congestion_surcharge\",\n",
       "      \"extra\",\n",
       "      \"fare_amount\",\n",
       "      \"improvement_surcharge\",\n",
       "      \"mta_tax\",\n",
       "      \"passenger_count\",\n",
       "      \"payment_type\",\n",
       "      \"store_and_fwd_flag\",\n",
       "      \"tip_amount\",\n",
       "      \"tolls_amount\",\n",
       "      \"total_amount\",\n",
       "      \"tpep_dropoff_datetime\",\n",
       "      \"tpep_pickup_datetime\",\n",
       "      \"trip_distance\"\n",
       "    ],\n",
       "    \"details\": {\n",
       "      \"mismatched\": {\n",
       "        \"missing\": [\n",
       "          \"VendorID\"\n",
       "        ]\n",
       "      }\n",
       "    }\n",
       "  }\n",
       "}"
      ]
     },
     "execution_count": 13,
     "metadata": {},
     "output_type": "execute_result"
    }
   ],
   "source": [
    "validator.expect_table_columns_to_match_set(column_set=before_columns)"
   ]
  }
 ],
 "metadata": {
  "kernelspec": {
   "display_name": "Python 3 (ipykernel)",
   "language": "python",
   "name": "python3"
  },
  "language_info": {
   "codemirror_mode": {
    "name": "ipython",
    "version": 3
   },
   "file_extension": ".py",
   "mimetype": "text/x-python",
   "name": "python",
   "nbconvert_exporter": "python",
   "pygments_lexer": "ipython3",
   "version": "3.9.16"
  }
 },
 "nbformat": 4,
 "nbformat_minor": 5
}
