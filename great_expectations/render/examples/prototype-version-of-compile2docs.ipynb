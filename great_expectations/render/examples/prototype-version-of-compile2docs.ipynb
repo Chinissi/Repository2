{
 "cells": [
  {
   "cell_type": "code",
   "execution_count": null,
   "metadata": {},
   "outputs": [],
   "source": [
    "import json\n",
    "import tempfile\n",
    "\n",
    "import great_expectations as ge\n",
    "import great_expectations.render\n",
    "\n",
    "from IPython.core.display import display, HTML"
   ]
  },
  {
   "cell_type": "code",
   "execution_count": null,
   "metadata": {},
   "outputs": [],
   "source": [
    "df = ge.read_csv(\"./Sacramentorealestatetransactions.csv\")\n",
    "# df = ge.read_csv(\"../../../examples/data/Meteorite_Landings.csv\")\n",
    "df.head()"
   ]
  },
  {
   "cell_type": "code",
   "execution_count": null,
   "metadata": {},
   "outputs": [],
   "source": [
    "df.autoinspect(ge.dataset.autoinspect.pseudo_pandas_profiling)"
   ]
  },
  {
   "cell_type": "code",
   "execution_count": null,
   "metadata": {},
   "outputs": [],
   "source": [
    "expectations_config = df.get_expectations_config(suppress_warnings=True)\n",
    "print(len(expectations_config[\"expectations\"]))\n",
    "# print(json.dumps(expectations_config, indent=2)[:1000])"
   ]
  },
  {
   "cell_type": "code",
   "execution_count": null,
   "metadata": {},
   "outputs": [],
   "source": [
    "evrs = df.validate()[\"results\"]\n",
    "print(json.dumps(evrs, indent=2)[:1000])"
   ]
  },
  {
   "cell_type": "code",
   "execution_count": null,
   "metadata": {},
   "outputs": [],
   "source": [
    "# Render all EVRs for this dataframe to HTML\n",
    "R = great_expectations.render.DescriptiveEvrPageRenderer(evrs)\n",
    "rendered_page = R.render()\n",
    "\n",
    "# Store to a temp file\n",
    "temp = tempfile.NamedTemporaryFile(mode=\"w+t\", suffix=\".html\")\n",
    "temp.writelines(rendered_page)\n",
    "temp.seek(0)"
   ]
  },
  {
   "cell_type": "code",
   "execution_count": null,
   "metadata": {},
   "outputs": [],
   "source": [
    "%%bash -s \"$temp.name\"\n",
    "open $1"
   ]
  },
  {
   "cell_type": "code",
   "execution_count": null,
   "metadata": {},
   "outputs": [],
   "source": [
    "temp.close()"
   ]
  },
  {
   "cell_type": "code",
   "execution_count": null,
   "metadata": {},
   "outputs": [],
   "source": [
    "# Render prescriptive expectations for a single column to a notebook cell\n",
    "\n",
    "R = great_expectations.render.PrescriptiveExpectationColumnSectionRenderer(\n",
    "    column_name=\"name\",\n",
    "    expectations_list=expectations_config[\"expectations\"][:6]\n",
    ")\n",
    "rendered_page = R.render(mode=\"html\")\n",
    "display(HTML(rendered_page))"
   ]
  },
  {
   "cell_type": "code",
   "execution_count": null,
   "metadata": {},
   "outputs": [],
   "source": [
    "#Render descriptive EVRs for a single column to a notebook cell\n",
    "\n",
    "R = great_expectations.render.DescriptiveEvrColumnSectionRenderer(\n",
    "    column_name=\"name\",\n",
    "    evrs=evrs[:6]\n",
    ")\n",
    "rendered_page = R.render(mode=\"html\")\n",
    "display(HTML(rendered_page))"
   ]
  }
 ],
 "metadata": {
  "kernelspec": {
   "display_name": "Python 3",
   "language": "python",
   "name": "python3"
  },
  "language_info": {
   "codemirror_mode": {
    "name": "ipython",
    "version": 3
   },
   "file_extension": ".py",
   "mimetype": "text/x-python",
   "name": "python",
   "nbconvert_exporter": "python",
   "pygments_lexer": "ipython3",
   "version": "3.6.4"
  }
 },
 "nbformat": 4,
 "nbformat_minor": 2
}
