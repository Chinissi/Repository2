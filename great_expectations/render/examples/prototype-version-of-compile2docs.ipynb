{
 "cells": [
  {
   "cell_type": "code",
   "execution_count": 1,
   "metadata": {},
   "outputs": [],
   "source": [
    "import json\n",
    "import tempfile\n",
    "\n",
    "import great_expectations as ge\n",
    "import great_expectations.render\n",
    "\n",
    "from IPython.core.display import display, HTML"
   ]
  },
  {
   "cell_type": "code",
   "execution_count": 3,
   "metadata": {},
   "outputs": [
    {
     "data": {
      "text/html": [
       "<div>\n",
       "<style scoped>\n",
       "    .dataframe tbody tr th:only-of-type {\n",
       "        vertical-align: middle;\n",
       "    }\n",
       "\n",
       "    .dataframe tbody tr th {\n",
       "        vertical-align: top;\n",
       "    }\n",
       "\n",
       "    .dataframe thead th {\n",
       "        text-align: right;\n",
       "    }\n",
       "</style>\n",
       "<table border=\"1\" class=\"dataframe\">\n",
       "  <thead>\n",
       "    <tr style=\"text-align: right;\">\n",
       "      <th></th>\n",
       "      <th>street</th>\n",
       "      <th>city</th>\n",
       "      <th>zip</th>\n",
       "      <th>state</th>\n",
       "      <th>beds</th>\n",
       "      <th>baths</th>\n",
       "      <th>sq__ft</th>\n",
       "      <th>type</th>\n",
       "      <th>sale_date</th>\n",
       "      <th>price</th>\n",
       "      <th>latitude</th>\n",
       "      <th>longitude</th>\n",
       "    </tr>\n",
       "  </thead>\n",
       "  <tbody>\n",
       "    <tr>\n",
       "      <th>0</th>\n",
       "      <td>3526 HIGH ST</td>\n",
       "      <td>SACRAMENTO</td>\n",
       "      <td>95838</td>\n",
       "      <td>CA</td>\n",
       "      <td>2</td>\n",
       "      <td>1</td>\n",
       "      <td>836</td>\n",
       "      <td>Residential</td>\n",
       "      <td>Wed May 21 00:00:00 EDT 2008</td>\n",
       "      <td>59222</td>\n",
       "      <td>38.631913</td>\n",
       "      <td>-121.434879</td>\n",
       "    </tr>\n",
       "    <tr>\n",
       "      <th>1</th>\n",
       "      <td>51 OMAHA CT</td>\n",
       "      <td>SACRAMENTO</td>\n",
       "      <td>95823</td>\n",
       "      <td>CA</td>\n",
       "      <td>3</td>\n",
       "      <td>1</td>\n",
       "      <td>1167</td>\n",
       "      <td>Residential</td>\n",
       "      <td>Wed May 21 00:00:00 EDT 2008</td>\n",
       "      <td>68212</td>\n",
       "      <td>38.478902</td>\n",
       "      <td>-121.431028</td>\n",
       "    </tr>\n",
       "    <tr>\n",
       "      <th>2</th>\n",
       "      <td>2796 BRANCH ST</td>\n",
       "      <td>SACRAMENTO</td>\n",
       "      <td>95815</td>\n",
       "      <td>CA</td>\n",
       "      <td>2</td>\n",
       "      <td>1</td>\n",
       "      <td>796</td>\n",
       "      <td>Residential</td>\n",
       "      <td>Wed May 21 00:00:00 EDT 2008</td>\n",
       "      <td>68880</td>\n",
       "      <td>38.618305</td>\n",
       "      <td>-121.443839</td>\n",
       "    </tr>\n",
       "    <tr>\n",
       "      <th>3</th>\n",
       "      <td>2805 JANETTE WAY</td>\n",
       "      <td>SACRAMENTO</td>\n",
       "      <td>95815</td>\n",
       "      <td>CA</td>\n",
       "      <td>2</td>\n",
       "      <td>1</td>\n",
       "      <td>852</td>\n",
       "      <td>Residential</td>\n",
       "      <td>Wed May 21 00:00:00 EDT 2008</td>\n",
       "      <td>69307</td>\n",
       "      <td>38.616835</td>\n",
       "      <td>-121.439146</td>\n",
       "    </tr>\n",
       "    <tr>\n",
       "      <th>4</th>\n",
       "      <td>6001 MCMAHON DR</td>\n",
       "      <td>SACRAMENTO</td>\n",
       "      <td>95824</td>\n",
       "      <td>CA</td>\n",
       "      <td>2</td>\n",
       "      <td>1</td>\n",
       "      <td>797</td>\n",
       "      <td>Residential</td>\n",
       "      <td>Wed May 21 00:00:00 EDT 2008</td>\n",
       "      <td>81900</td>\n",
       "      <td>38.519470</td>\n",
       "      <td>-121.435768</td>\n",
       "    </tr>\n",
       "  </tbody>\n",
       "</table>\n",
       "</div>"
      ],
      "text/plain": [
       "             street        city    zip state  beds  baths  sq__ft  \\\n",
       "0      3526 HIGH ST  SACRAMENTO  95838    CA     2      1     836   \n",
       "1       51 OMAHA CT  SACRAMENTO  95823    CA     3      1    1167   \n",
       "2    2796 BRANCH ST  SACRAMENTO  95815    CA     2      1     796   \n",
       "3  2805 JANETTE WAY  SACRAMENTO  95815    CA     2      1     852   \n",
       "4   6001 MCMAHON DR  SACRAMENTO  95824    CA     2      1     797   \n",
       "\n",
       "          type                     sale_date  price   latitude   longitude  \n",
       "0  Residential  Wed May 21 00:00:00 EDT 2008  59222  38.631913 -121.434879  \n",
       "1  Residential  Wed May 21 00:00:00 EDT 2008  68212  38.478902 -121.431028  \n",
       "2  Residential  Wed May 21 00:00:00 EDT 2008  68880  38.618305 -121.443839  \n",
       "3  Residential  Wed May 21 00:00:00 EDT 2008  69307  38.616835 -121.439146  \n",
       "4  Residential  Wed May 21 00:00:00 EDT 2008  81900  38.519470 -121.435768  "
      ]
     },
     "execution_count": 3,
     "metadata": {},
     "output_type": "execute_result"
    }
   ],
   "source": [
    "df = ge.read_csv(\"./Sacramentorealestatetransactions.csv\")\n",
    "# df = ge.read_csv(\"../../../examples/data/Meteorite_Landings.csv\")\n",
    "df.head()"
   ]
  },
  {
   "cell_type": "code",
   "execution_count": 4,
   "metadata": {},
   "outputs": [],
   "source": [
    "df.autoinspect(ge.dataset.autoinspect.pseudo_pandas_profiling)"
   ]
  },
  {
   "cell_type": "code",
   "execution_count": 5,
   "metadata": {},
   "outputs": [
    {
     "name": "stdout",
     "output_type": "stream",
     "text": [
      "67\n"
     ]
    }
   ],
   "source": [
    "expectations_config = df.get_expectations_config(suppress_warnings=True)\n",
    "print(len(expectations_config[\"expectations\"]))\n",
    "# print(json.dumps(expectations_config, indent=2)[:1000])"
   ]
  },
  {
   "cell_type": "code",
   "execution_count": 6,
   "metadata": {},
   "outputs": [
    {
     "name": "stdout",
     "output_type": "stream",
     "text": [
      "[\n",
      "  {\n",
      "    \"success\": true,\n",
      "    \"exception_info\": {\n",
      "      \"raised_exception\": false,\n",
      "      \"exception_message\": null,\n",
      "      \"exception_traceback\": null\n",
      "    },\n",
      "    \"expectation_config\": {\n",
      "      \"expectation_type\": \"expect_column_to_exist\",\n",
      "      \"kwargs\": {\n",
      "        \"column\": \"street\",\n",
      "        \"result_format\": \"BASIC\"\n",
      "      }\n",
      "    }\n",
      "  },\n",
      "  {\n",
      "    \"success\": true,\n",
      "    \"result\": {\n",
      "      \"element_count\": 985,\n",
      "      \"missing_count\": 0,\n",
      "      \"missing_percent\": 0.0,\n",
      "      \"unexpected_count\": 0,\n",
      "      \"unexpected_percent\": 0.0,\n",
      "      \"unexpected_percent_nonmissing\": 0.0,\n",
      "      \"partial_unexpected_list\": []\n",
      "    },\n",
      "    \"exception_info\": {\n",
      "      \"raised_exception\": false,\n",
      "      \"exception_message\": null,\n",
      "      \"exception_traceback\": null\n",
      "    },\n",
      "    \"expectation_config\": {\n",
      "      \"expectation_type\": \"expect_column_values_to_be_of_type\",\n",
      "      \"kwargs\": {\n",
      "        \"column\": \"street\",\n",
      "        \"type_\": \"string\",\n",
      "        \"result_format\": \"BASIC\"\n",
      "      }\n",
      "    }\n",
      "  },\n",
      "  {\n",
      "    \"success\": true,\n",
      "    \"result\": {\n",
      " \n"
     ]
    }
   ],
   "source": [
    "evrs = df.validate()[\"results\"]\n",
    "print(json.dumps(evrs, indent=2)[:1000])"
   ]
  },
  {
   "cell_type": "code",
   "execution_count": 7,
   "metadata": {},
   "outputs": [
    {
     "data": {
      "text/plain": [
       "0"
      ]
     },
     "execution_count": 7,
     "metadata": {},
     "output_type": "execute_result"
    }
   ],
   "source": [
    "# Render all EVRs for this dataframe to HTML\n",
    "R = great_expectations.render.DescriptiveEvrPageRenderer(evrs)\n",
    "rendered_page = R.render()\n",
    "\n",
    "# Store to a temp file\n",
    "temp = tempfile.NamedTemporaryFile(mode=\"w+t\", suffix=\".html\")\n",
    "temp.writelines(rendered_page)\n",
    "temp.seek(0)"
   ]
  },
  {
   "cell_type": "code",
   "execution_count": 8,
   "metadata": {},
   "outputs": [],
   "source": [
    "%%bash -s \"$temp.name\"\n",
    "open $1"
   ]
  },
  {
   "cell_type": "code",
   "execution_count": 28,
   "metadata": {},
   "outputs": [],
   "source": [
    "temp.close()"
   ]
  },
  {
   "cell_type": "code",
   "execution_count": 11,
   "metadata": {},
   "outputs": [
    {
     "data": {
      "text/html": [
       "\n",
       "\n",
       "<div style=\"clear:both; margin-bottom: 50px;\">\n",
       "    \n",
       "    \n",
       "        \n",
       "    \n",
       "        \n",
       "        <h4>name</h4>\n",
       "\n",
       "        \n",
       "    \n",
       "        \n",
       "        <table style=\"width:50%\">\n",
       "            \n",
       "            \n",
       "        </table>\n",
       "\n",
       "        \n",
       "    \n",
       "        \n",
       "        <p>\n",
       "            <ul>\n",
       "                \n",
       "                <li> is a required field.</li>\n",
       "                \n",
       "                <li> is of type <span class=\"param-span\">string</span>.</li>\n",
       "                \n",
       "                <li> must have at least <span class=\"param-span\">0</span> unique values.</li>\n",
       "                \n",
       "                <li> must have at least <span class=\"param-span\">0.0</span>% unique values.</li>\n",
       "                \n",
       "                <li> must never be missing.</li>\n",
       "                \n",
       "                <li> must not match this regular expression: <span class=\"example-list\">^\\s+|\\s+$</span>.</li>\n",
       "                \n",
       "            </ul>\n",
       "        </p>\n",
       "\n",
       "        \n",
       "    \n",
       "        \n",
       "        \n",
       "    \n",
       "        \n",
       "        <p>\n",
       "            \n",
       "            \n",
       "        </p>\n",
       "\n",
       "        \n",
       "    \n",
       "</div>"
      ],
      "text/plain": [
       "<IPython.core.display.HTML object>"
      ]
     },
     "metadata": {},
     "output_type": "display_data"
    }
   ],
   "source": [
    "# Render prescriptive expectations for a single column to a notebook cell\n",
    "\n",
    "R = great_expectations.render.PrescriptiveExpectationColumnSectionRenderer(\n",
    "    column_name=\"name\",\n",
    "    expectations_list=expectations_config[\"expectations\"][:6]\n",
    ")\n",
    "rendered_page = R.render(mode=\"html\")\n",
    "display(HTML(rendered_page))"
   ]
  },
  {
   "cell_type": "code",
   "execution_count": 12,
   "metadata": {},
   "outputs": [
    {
     "data": {
      "text/html": [
       "\n",
       "\n",
       "<div style=\"clear:both; margin-bottom: 50px;\">\n",
       "    \n",
       "    \n",
       "        \n",
       "        <h4>name</h4>\n",
       "\n",
       "        \n",
       "    \n",
       "        \n",
       "        <p>\n",
       "            string\n",
       "            \n",
       "        </p>\n",
       "\n",
       "        \n",
       "    \n",
       "        \n",
       "        <p>\n",
       "            <b>Example values:</b><br/> <span class=\"param-span\">1223 LAMBERTON CIR</span>, <span class=\"param-span\">4734 14TH AVE</span>, <span class=\"param-span\">7 CRYSTALWOOD CIR</span>, <span class=\"param-span\">8306 CURLEW CT</span>, <span class=\"param-span\">11150 TRINITY RIVER DR Unit 114</span>, <span class=\"param-span\">2113 KIRK WAY</span>, <span class=\"param-span\">2561 19TH AVE</span>, <span class=\"param-span\">2796 BRANCH ST</span>, <span class=\"param-span\">2805 JANETTE WAY</span>, <span class=\"param-span\">2930 LA ROSA RD</span>, <span class=\"param-span\">3526 HIGH ST</span>, <span class=\"param-span\">4085 FAWN CIR</span>, <span class=\"param-span\">4533 LOCH HAVEN WAY</span>, <span class=\"param-span\">51 OMAHA CT</span>, <span class=\"param-span\">5828 PEPPERMILL CT</span>, <span class=\"param-span\">6001 MCMAHON DR</span>, <span class=\"param-span\">6048 OGDEN NASH WAY</span>, <span class=\"param-span\">645 MORRISON AVE</span>, <span class=\"param-span\">7325 10TH ST</span>, <span class=\"param-span\">7340 HAMDEN PL</span>\n",
       "            \n",
       "        </p>\n",
       "\n",
       "        \n",
       "    \n",
       "        \n",
       "        <table style=\"width:50%\">\n",
       "            \n",
       "            \n",
       "            <tr class=\"odd\" >\n",
       "                \n",
       "                \n",
       "                    <td id=\"cell-1-1\">Distinct count</td>\n",
       "                \n",
       "                    <td id=\"cell-1-2\">981</td>\n",
       "                \n",
       "            </tr>\n",
       "            \n",
       "            <tr class=\"even\" >\n",
       "                \n",
       "                \n",
       "                    <td id=\"cell-2-1\">Unique (%)</td>\n",
       "                \n",
       "                    <td id=\"cell-2-2\">99.6%</td>\n",
       "                \n",
       "            </tr>\n",
       "            \n",
       "            <tr class=\"odd\" >\n",
       "                \n",
       "                \n",
       "                    <td id=\"cell-3-1\">Missing (%)</td>\n",
       "                \n",
       "                    <td id=\"cell-3-2\">0.0%</td>\n",
       "                \n",
       "            </tr>\n",
       "            \n",
       "            <tr class=\"even\" >\n",
       "                \n",
       "                \n",
       "                    <td id=\"cell-4-1\">Missing (n)</td>\n",
       "                \n",
       "                    <td id=\"cell-4-2\">0</td>\n",
       "                \n",
       "            </tr>\n",
       "            \n",
       "        </table>\n",
       "\n",
       "        \n",
       "    \n",
       "        \n",
       "        <p>\n",
       "            \n",
       "            \n",
       "        </p>\n",
       "\n",
       "        \n",
       "    \n",
       "</div>"
      ],
      "text/plain": [
       "<IPython.core.display.HTML object>"
      ]
     },
     "metadata": {},
     "output_type": "display_data"
    }
   ],
   "source": [
    "#Render descriptive EVRs for a single column to a notebook cell\n",
    "\n",
    "R = great_expectations.render.DescriptiveEvrColumnSectionRenderer(\n",
    "    column_name=\"name\",\n",
    "    evrs=evrs[:6]\n",
    ")\n",
    "rendered_page = R.render(mode=\"html\")\n",
    "display(HTML(rendered_page))"
   ]
  },
  {
   "cell_type": "code",
   "execution_count": null,
   "metadata": {},
   "outputs": [],
   "source": []
  }
 ],
 "metadata": {
  "kernelspec": {
   "display_name": "Python 3",
   "language": "python",
   "name": "python3"
  },
  "language_info": {
   "codemirror_mode": {
    "name": "ipython",
    "version": 3
   },
   "file_extension": ".py",
   "mimetype": "text/x-python",
   "name": "python",
   "nbconvert_exporter": "python",
   "pygments_lexer": "ipython3",
   "version": "3.6.4"
  }
 },
 "nbformat": 4,
 "nbformat_minor": 2
}
