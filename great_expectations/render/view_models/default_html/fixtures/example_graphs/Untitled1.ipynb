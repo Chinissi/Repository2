{
 "cells": [
  {
   "cell_type": "code",
   "execution_count": 5,
   "metadata": {},
   "outputs": [],
   "source": [
    "import altair as alt\n",
    "import pandas as pd"
   ]
  },
  {
   "cell_type": "code",
   "execution_count": 2,
   "metadata": {},
   "outputs": [],
   "source": [
    "partial_unexpected_counts = [\n",
    "  {\n",
    "    \"value\": \"Valid\",\n",
    "    \"count\": 45641\n",
    "  },\n",
    "  {\n",
    "    \"value\": \"Relict\",\n",
    "    \"count\": 75\n",
    "  }\n",
    "]\n"
   ]
  },
  {
   "cell_type": "code",
   "execution_count": 20,
   "metadata": {},
   "outputs": [
    {
     "data": {
      "application/vnd.vegalite.v2+json": {
       "$schema": "https://vega.github.io/schema/vega-lite/v2.6.0.json",
       "config": {
        "view": {
         "height": 300,
         "width": 400
        }
       },
       "datasets": {
        "data-cfff8a6fe8134dace707fd67405d0857": [
         {
          "count": 45641,
          "value": "Valid"
         },
         {
          "count": 75,
          "value": "Relict"
         }
        ]
       },
       "height": 900,
       "layer": [
        {
         "data": {
          "name": "data-cfff8a6fe8134dace707fd67405d0857"
         },
         "encoding": {
          "x": {
           "field": "count",
           "type": "quantitative"
          },
          "y": {
           "field": "value",
           "type": "ordinal"
          }
         },
         "height": 200,
         "mark": "bar",
         "width": 240
        },
        {
         "data": {
          "name": "data-cfff8a6fe8134dace707fd67405d0857"
         },
         "encoding": {
          "text": {
           "field": "count",
           "type": "quantitative"
          },
          "x": {
           "field": "count",
           "type": "quantitative"
          },
          "y": {
           "field": "value",
           "type": "ordinal"
          }
         },
         "height": 200,
         "mark": {
          "align": "left",
          "baseline": "middle",
          "dx": 3,
          "type": "text"
         },
         "width": 240
        }
       ]
      },
      "image/png": "[encoded data removed]",
      "text/plain": [
       "<VegaLite 2 object>\n",
       "\n",
       "If you see this message, it means the renderer has not been properly enabled\n",
       "for the frontend that you are using. For more information, see\n",
       "https://altair-viz.github.io/user_guide/troubleshooting.html\n"
      ]
     },
     "execution_count": 20,
     "metadata": {},
     "output_type": "execute_result"
    }
   ],
   "source": [
    "df = pd.DataFrame(partial_unexpected_counts)\n",
    "\n",
    "bars = alt.Chart(df).mark_bar().encode(\n",
    "    x='count:Q',\n",
    "    y=\"value:O\"\n",
    ").properties(height=200, width=240)\n",
    "\n",
    "text = bars.mark_text(\n",
    "    align='left',\n",
    "    baseline='middle',\n",
    "    dx=3  # Nudges text to right so it doesn't appear on top of the bar\n",
    ").encode(\n",
    "    text='count:Q'\n",
    ")\n",
    "\n",
    "chart = (bars + text).properties(height=900)\n",
    "# print( chart.to_json() )\n",
    "\n",
    "chart"
   ]
  },
  {
   "cell_type": "code",
   "execution_count": 3,
   "metadata": {},
   "outputs": [
    {
     "data": {
      "application/vnd.vegalite.v2+json": {
       "$schema": "https://vega.github.io/schema/vega-lite/v2.6.0.json",
       "config": {
        "view": {
         "height": 300,
         "width": 400
        }
       },
       "data": {
        "name": "data-76d1ce26ea5761007c35827e1564d86c"
       },
       "datasets": {
        "data-76d1ce26ea5761007c35827e1564d86c": [
         {
          "wages": 5,
          "wheat": 41,
          "year": 1565
         },
         {
          "wages": 5.05,
          "wheat": 45,
          "year": 1570
         },
         {
          "wages": 5.08,
          "wheat": 42,
          "year": 1575
         },
         {
          "wages": 5.12,
          "wheat": 49,
          "year": 1580
         },
         {
          "wages": 5.15,
          "wheat": 41.5,
          "year": 1585
         },
         {
          "wages": 5.25,
          "wheat": 47,
          "year": 1590
         },
         {
          "wages": 5.54,
          "wheat": 64,
          "year": 1595
         },
         {
          "wages": 5.61,
          "wheat": 27,
          "year": 1600
         },
         {
          "wages": 5.69,
          "wheat": 33,
          "year": 1605
         },
         {
          "wages": 5.78,
          "wheat": 32,
          "year": 1610
         },
         {
          "wages": 5.94,
          "wheat": 33,
          "year": 1615
         },
         {
          "wages": 6.01,
          "wheat": 35,
          "year": 1620
         },
         {
          "wages": 6.12,
          "wheat": 33,
          "year": 1625
         },
         {
          "wages": 6.22,
          "wheat": 45,
          "year": 1630
         },
         {
          "wages": 6.3,
          "wheat": 33,
          "year": 1635
         },
         {
          "wages": 6.37,
          "wheat": 39,
          "year": 1640
         },
         {
          "wages": 6.45,
          "wheat": 53,
          "year": 1645
         },
         {
          "wages": 6.5,
          "wheat": 42,
          "year": 1650
         },
         {
          "wages": 6.6,
          "wheat": 40.5,
          "year": 1655
         },
         {
          "wages": 6.75,
          "wheat": 46.5,
          "year": 1660
         },
         {
          "wages": 6.8,
          "wheat": 32,
          "year": 1665
         },
         {
          "wages": 6.9,
          "wheat": 37,
          "year": 1670
         },
         {
          "wages": 7,
          "wheat": 43,
          "year": 1675
         },
         {
          "wages": 7.3,
          "wheat": 35,
          "year": 1680
         },
         {
          "wages": 7.6,
          "wheat": 27,
          "year": 1685
         },
         {
          "wages": 8,
          "wheat": 40,
          "year": 1690
         },
         {
          "wages": 8.5,
          "wheat": 50,
          "year": 1695
         },
         {
          "wages": 9,
          "wheat": 30,
          "year": 1700
         },
         {
          "wages": 10,
          "wheat": 32,
          "year": 1705
         },
         {
          "wages": 11,
          "wheat": 44,
          "year": 1710
         },
         {
          "wages": 11.75,
          "wheat": 33,
          "year": 1715
         },
         {
          "wages": 12.5,
          "wheat": 29,
          "year": 1720
         },
         {
          "wages": 13,
          "wheat": 39,
          "year": 1725
         },
         {
          "wages": 13.3,
          "wheat": 26,
          "year": 1730
         },
         {
          "wages": 13.6,
          "wheat": 32,
          "year": 1735
         },
         {
          "wages": 14,
          "wheat": 27,
          "year": 1740
         },
         {
          "wages": 14.5,
          "wheat": 27.5,
          "year": 1745
         },
         {
          "wages": 15,
          "wheat": 31,
          "year": 1750
         },
         {
          "wages": 15.7,
          "wheat": 35.5,
          "year": 1755
         },
         {
          "wages": 16.5,
          "wheat": 31,
          "year": 1760
         },
         {
          "wages": 17.6,
          "wheat": 43,
          "year": 1765
         },
         {
          "wages": 18.5,
          "wheat": 47,
          "year": 1770
         },
         {
          "wages": 19.5,
          "wheat": 44,
          "year": 1775
         },
         {
          "wages": 21,
          "wheat": 46,
          "year": 1780
         },
         {
          "wages": 23,
          "wheat": 42,
          "year": 1785
         },
         {
          "wages": 25.5,
          "wheat": 47.5,
          "year": 1790
         },
         {
          "wages": 27.5,
          "wheat": 76,
          "year": 1795
         },
         {
          "wages": 28.5,
          "wheat": 79,
          "year": 1800
         },
         {
          "wages": 29.5,
          "wheat": 81,
          "year": 1805
         },
         {
          "wages": 30,
          "wheat": 99,
          "year": 1810
         },
         {
          "wages": null,
          "wheat": 78,
          "year": 1815
         },
         {
          "wages": null,
          "wheat": 54,
          "year": 1820
         }
        ]
       },
       "encoding": {
        "x": {
         "field": "wheat",
         "type": "quantitative"
        },
        "y": {
         "field": "year",
         "type": "ordinal"
        }
       },
       "height": 700,
       "mark": "bar"
      },
      "image/png": "[encoded data removed]",
      "text/plain": [
       "<VegaLite 2 object>\n",
       "\n",
       "If you see this message, it means the renderer has not been properly enabled\n",
       "for the frontend that you are using. For more information, see\n",
       "https://altair-viz.github.io/user_guide/troubleshooting.html\n"
      ]
     },
     "execution_count": 3,
     "metadata": {},
     "output_type": "execute_result"
    }
   ],
   "source": [
    "import altair as alt\n",
    "from vega_datasets import data\n",
    "\n",
    "source = data.wheat()\n",
    "\n",
    "alt.Chart(source).mark_bar().encode(\n",
    "    x='wheat:Q',\n",
    "    y=\"year:O\"\n",
    ").properties(height=700)"
   ]
  },
  {
   "cell_type": "code",
   "execution_count": 4,
   "metadata": {},
   "outputs": [
    {
     "data": {
      "text/html": [
       "<div>\n",
       "<style scoped>\n",
       "    .dataframe tbody tr th:only-of-type {\n",
       "        vertical-align: middle;\n",
       "    }\n",
       "\n",
       "    .dataframe tbody tr th {\n",
       "        vertical-align: top;\n",
       "    }\n",
       "\n",
       "    .dataframe thead th {\n",
       "        text-align: right;\n",
       "    }\n",
       "</style>\n",
       "<table border=\"1\" class=\"dataframe\">\n",
       "  <thead>\n",
       "    <tr style=\"text-align: right;\">\n",
       "      <th></th>\n",
       "      <th>wages</th>\n",
       "      <th>wheat</th>\n",
       "      <th>year</th>\n",
       "    </tr>\n",
       "  </thead>\n",
       "  <tbody>\n",
       "    <tr>\n",
       "      <th>0</th>\n",
       "      <td>5.00</td>\n",
       "      <td>41.0</td>\n",
       "      <td>1565</td>\n",
       "    </tr>\n",
       "    <tr>\n",
       "      <th>1</th>\n",
       "      <td>5.05</td>\n",
       "      <td>45.0</td>\n",
       "      <td>1570</td>\n",
       "    </tr>\n",
       "    <tr>\n",
       "      <th>2</th>\n",
       "      <td>5.08</td>\n",
       "      <td>42.0</td>\n",
       "      <td>1575</td>\n",
       "    </tr>\n",
       "    <tr>\n",
       "      <th>3</th>\n",
       "      <td>5.12</td>\n",
       "      <td>49.0</td>\n",
       "      <td>1580</td>\n",
       "    </tr>\n",
       "    <tr>\n",
       "      <th>4</th>\n",
       "      <td>5.15</td>\n",
       "      <td>41.5</td>\n",
       "      <td>1585</td>\n",
       "    </tr>\n",
       "    <tr>\n",
       "      <th>5</th>\n",
       "      <td>5.25</td>\n",
       "      <td>47.0</td>\n",
       "      <td>1590</td>\n",
       "    </tr>\n",
       "    <tr>\n",
       "      <th>6</th>\n",
       "      <td>5.54</td>\n",
       "      <td>64.0</td>\n",
       "      <td>1595</td>\n",
       "    </tr>\n",
       "    <tr>\n",
       "      <th>7</th>\n",
       "      <td>5.61</td>\n",
       "      <td>27.0</td>\n",
       "      <td>1600</td>\n",
       "    </tr>\n",
       "    <tr>\n",
       "      <th>8</th>\n",
       "      <td>5.69</td>\n",
       "      <td>33.0</td>\n",
       "      <td>1605</td>\n",
       "    </tr>\n",
       "    <tr>\n",
       "      <th>9</th>\n",
       "      <td>5.78</td>\n",
       "      <td>32.0</td>\n",
       "      <td>1610</td>\n",
       "    </tr>\n",
       "    <tr>\n",
       "      <th>10</th>\n",
       "      <td>5.94</td>\n",
       "      <td>33.0</td>\n",
       "      <td>1615</td>\n",
       "    </tr>\n",
       "    <tr>\n",
       "      <th>11</th>\n",
       "      <td>6.01</td>\n",
       "      <td>35.0</td>\n",
       "      <td>1620</td>\n",
       "    </tr>\n",
       "    <tr>\n",
       "      <th>12</th>\n",
       "      <td>6.12</td>\n",
       "      <td>33.0</td>\n",
       "      <td>1625</td>\n",
       "    </tr>\n",
       "    <tr>\n",
       "      <th>13</th>\n",
       "      <td>6.22</td>\n",
       "      <td>45.0</td>\n",
       "      <td>1630</td>\n",
       "    </tr>\n",
       "    <tr>\n",
       "      <th>14</th>\n",
       "      <td>6.30</td>\n",
       "      <td>33.0</td>\n",
       "      <td>1635</td>\n",
       "    </tr>\n",
       "    <tr>\n",
       "      <th>15</th>\n",
       "      <td>6.37</td>\n",
       "      <td>39.0</td>\n",
       "      <td>1640</td>\n",
       "    </tr>\n",
       "    <tr>\n",
       "      <th>16</th>\n",
       "      <td>6.45</td>\n",
       "      <td>53.0</td>\n",
       "      <td>1645</td>\n",
       "    </tr>\n",
       "    <tr>\n",
       "      <th>17</th>\n",
       "      <td>6.50</td>\n",
       "      <td>42.0</td>\n",
       "      <td>1650</td>\n",
       "    </tr>\n",
       "    <tr>\n",
       "      <th>18</th>\n",
       "      <td>6.60</td>\n",
       "      <td>40.5</td>\n",
       "      <td>1655</td>\n",
       "    </tr>\n",
       "    <tr>\n",
       "      <th>19</th>\n",
       "      <td>6.75</td>\n",
       "      <td>46.5</td>\n",
       "      <td>1660</td>\n",
       "    </tr>\n",
       "    <tr>\n",
       "      <th>20</th>\n",
       "      <td>6.80</td>\n",
       "      <td>32.0</td>\n",
       "      <td>1665</td>\n",
       "    </tr>\n",
       "    <tr>\n",
       "      <th>21</th>\n",
       "      <td>6.90</td>\n",
       "      <td>37.0</td>\n",
       "      <td>1670</td>\n",
       "    </tr>\n",
       "    <tr>\n",
       "      <th>22</th>\n",
       "      <td>7.00</td>\n",
       "      <td>43.0</td>\n",
       "      <td>1675</td>\n",
       "    </tr>\n",
       "    <tr>\n",
       "      <th>23</th>\n",
       "      <td>7.30</td>\n",
       "      <td>35.0</td>\n",
       "      <td>1680</td>\n",
       "    </tr>\n",
       "    <tr>\n",
       "      <th>24</th>\n",
       "      <td>7.60</td>\n",
       "      <td>27.0</td>\n",
       "      <td>1685</td>\n",
       "    </tr>\n",
       "    <tr>\n",
       "      <th>25</th>\n",
       "      <td>8.00</td>\n",
       "      <td>40.0</td>\n",
       "      <td>1690</td>\n",
       "    </tr>\n",
       "    <tr>\n",
       "      <th>26</th>\n",
       "      <td>8.50</td>\n",
       "      <td>50.0</td>\n",
       "      <td>1695</td>\n",
       "    </tr>\n",
       "    <tr>\n",
       "      <th>27</th>\n",
       "      <td>9.00</td>\n",
       "      <td>30.0</td>\n",
       "      <td>1700</td>\n",
       "    </tr>\n",
       "    <tr>\n",
       "      <th>28</th>\n",
       "      <td>10.00</td>\n",
       "      <td>32.0</td>\n",
       "      <td>1705</td>\n",
       "    </tr>\n",
       "    <tr>\n",
       "      <th>29</th>\n",
       "      <td>11.00</td>\n",
       "      <td>44.0</td>\n",
       "      <td>1710</td>\n",
       "    </tr>\n",
       "    <tr>\n",
       "      <th>30</th>\n",
       "      <td>11.75</td>\n",
       "      <td>33.0</td>\n",
       "      <td>1715</td>\n",
       "    </tr>\n",
       "    <tr>\n",
       "      <th>31</th>\n",
       "      <td>12.50</td>\n",
       "      <td>29.0</td>\n",
       "      <td>1720</td>\n",
       "    </tr>\n",
       "    <tr>\n",
       "      <th>32</th>\n",
       "      <td>13.00</td>\n",
       "      <td>39.0</td>\n",
       "      <td>1725</td>\n",
       "    </tr>\n",
       "    <tr>\n",
       "      <th>33</th>\n",
       "      <td>13.30</td>\n",
       "      <td>26.0</td>\n",
       "      <td>1730</td>\n",
       "    </tr>\n",
       "    <tr>\n",
       "      <th>34</th>\n",
       "      <td>13.60</td>\n",
       "      <td>32.0</td>\n",
       "      <td>1735</td>\n",
       "    </tr>\n",
       "    <tr>\n",
       "      <th>35</th>\n",
       "      <td>14.00</td>\n",
       "      <td>27.0</td>\n",
       "      <td>1740</td>\n",
       "    </tr>\n",
       "    <tr>\n",
       "      <th>36</th>\n",
       "      <td>14.50</td>\n",
       "      <td>27.5</td>\n",
       "      <td>1745</td>\n",
       "    </tr>\n",
       "    <tr>\n",
       "      <th>37</th>\n",
       "      <td>15.00</td>\n",
       "      <td>31.0</td>\n",
       "      <td>1750</td>\n",
       "    </tr>\n",
       "    <tr>\n",
       "      <th>38</th>\n",
       "      <td>15.70</td>\n",
       "      <td>35.5</td>\n",
       "      <td>1755</td>\n",
       "    </tr>\n",
       "    <tr>\n",
       "      <th>39</th>\n",
       "      <td>16.50</td>\n",
       "      <td>31.0</td>\n",
       "      <td>1760</td>\n",
       "    </tr>\n",
       "    <tr>\n",
       "      <th>40</th>\n",
       "      <td>17.60</td>\n",
       "      <td>43.0</td>\n",
       "      <td>1765</td>\n",
       "    </tr>\n",
       "    <tr>\n",
       "      <th>41</th>\n",
       "      <td>18.50</td>\n",
       "      <td>47.0</td>\n",
       "      <td>1770</td>\n",
       "    </tr>\n",
       "    <tr>\n",
       "      <th>42</th>\n",
       "      <td>19.50</td>\n",
       "      <td>44.0</td>\n",
       "      <td>1775</td>\n",
       "    </tr>\n",
       "    <tr>\n",
       "      <th>43</th>\n",
       "      <td>21.00</td>\n",
       "      <td>46.0</td>\n",
       "      <td>1780</td>\n",
       "    </tr>\n",
       "    <tr>\n",
       "      <th>44</th>\n",
       "      <td>23.00</td>\n",
       "      <td>42.0</td>\n",
       "      <td>1785</td>\n",
       "    </tr>\n",
       "    <tr>\n",
       "      <th>45</th>\n",
       "      <td>25.50</td>\n",
       "      <td>47.5</td>\n",
       "      <td>1790</td>\n",
       "    </tr>\n",
       "    <tr>\n",
       "      <th>46</th>\n",
       "      <td>27.50</td>\n",
       "      <td>76.0</td>\n",
       "      <td>1795</td>\n",
       "    </tr>\n",
       "    <tr>\n",
       "      <th>47</th>\n",
       "      <td>28.50</td>\n",
       "      <td>79.0</td>\n",
       "      <td>1800</td>\n",
       "    </tr>\n",
       "    <tr>\n",
       "      <th>48</th>\n",
       "      <td>29.50</td>\n",
       "      <td>81.0</td>\n",
       "      <td>1805</td>\n",
       "    </tr>\n",
       "    <tr>\n",
       "      <th>49</th>\n",
       "      <td>30.00</td>\n",
       "      <td>99.0</td>\n",
       "      <td>1810</td>\n",
       "    </tr>\n",
       "    <tr>\n",
       "      <th>50</th>\n",
       "      <td>NaN</td>\n",
       "      <td>78.0</td>\n",
       "      <td>1815</td>\n",
       "    </tr>\n",
       "    <tr>\n",
       "      <th>51</th>\n",
       "      <td>NaN</td>\n",
       "      <td>54.0</td>\n",
       "      <td>1820</td>\n",
       "    </tr>\n",
       "  </tbody>\n",
       "</table>\n",
       "</div>"
      ],
      "text/plain": [
       "    wages  wheat  year\n",
       "0    5.00   41.0  1565\n",
       "1    5.05   45.0  1570\n",
       "2    5.08   42.0  1575\n",
       "3    5.12   49.0  1580\n",
       "4    5.15   41.5  1585\n",
       "5    5.25   47.0  1590\n",
       "6    5.54   64.0  1595\n",
       "7    5.61   27.0  1600\n",
       "8    5.69   33.0  1605\n",
       "9    5.78   32.0  1610\n",
       "10   5.94   33.0  1615\n",
       "11   6.01   35.0  1620\n",
       "12   6.12   33.0  1625\n",
       "13   6.22   45.0  1630\n",
       "14   6.30   33.0  1635\n",
       "15   6.37   39.0  1640\n",
       "16   6.45   53.0  1645\n",
       "17   6.50   42.0  1650\n",
       "18   6.60   40.5  1655\n",
       "19   6.75   46.5  1660\n",
       "20   6.80   32.0  1665\n",
       "21   6.90   37.0  1670\n",
       "22   7.00   43.0  1675\n",
       "23   7.30   35.0  1680\n",
       "24   7.60   27.0  1685\n",
       "25   8.00   40.0  1690\n",
       "26   8.50   50.0  1695\n",
       "27   9.00   30.0  1700\n",
       "28  10.00   32.0  1705\n",
       "29  11.00   44.0  1710\n",
       "30  11.75   33.0  1715\n",
       "31  12.50   29.0  1720\n",
       "32  13.00   39.0  1725\n",
       "33  13.30   26.0  1730\n",
       "34  13.60   32.0  1735\n",
       "35  14.00   27.0  1740\n",
       "36  14.50   27.5  1745\n",
       "37  15.00   31.0  1750\n",
       "38  15.70   35.5  1755\n",
       "39  16.50   31.0  1760\n",
       "40  17.60   43.0  1765\n",
       "41  18.50   47.0  1770\n",
       "42  19.50   44.0  1775\n",
       "43  21.00   46.0  1780\n",
       "44  23.00   42.0  1785\n",
       "45  25.50   47.5  1790\n",
       "46  27.50   76.0  1795\n",
       "47  28.50   79.0  1800\n",
       "48  29.50   81.0  1805\n",
       "49  30.00   99.0  1810\n",
       "50    NaN   78.0  1815\n",
       "51    NaN   54.0  1820"
      ]
     },
     "execution_count": 4,
     "metadata": {},
     "output_type": "execute_result"
    }
   ],
   "source": [
    "source"
   ]
  },
  {
   "cell_type": "code",
   "execution_count": null,
   "metadata": {},
   "outputs": [],
   "source": []
  }
 ],
 "metadata": {
  "kernelspec": {
   "display_name": "Python 3",
   "language": "python",
   "name": "python3"
  },
  "language_info": {
   "codemirror_mode": {
    "name": "ipython",
    "version": 3
   },
   "file_extension": ".py",
   "mimetype": "text/x-python",
   "name": "python",
   "nbconvert_exporter": "python",
   "pygments_lexer": "ipython3",
   "version": "3.6.4"
  }
 },
 "nbformat": 4,
 "nbformat_minor": 2
}
