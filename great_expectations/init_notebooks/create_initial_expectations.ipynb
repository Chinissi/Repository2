{
 "cells": [
  {
   "cell_type": "markdown",
   "metadata": {},
   "source": [
    "# Create Expectations\n",
    "## Always know what to expect of your data\n",
    "\n",
    "- [Docs](https://great-expectations.readthedocs.io/en/latest/)\n",
    "- [GitHub](https://github.com/great-expectations/great_expectations)"
   ]
  },
  {
   "cell_type": "code",
   "execution_count": null,
   "metadata": {},
   "outputs": [],
   "source": [
    "import json\n",
    "import os\n",
    "\n",
    "import great_expectations as ge\n",
    "import numpy as np\n",
    "import pandas as pd\n",
    "\n",
    "from matplotlib import pyplot as plt\n",
    "%matplotlib inline"
   ]
  },
  {
   "cell_type": "code",
   "execution_count": null,
   "metadata": {},
   "outputs": [],
   "source": [
    "### Not implemented yet!!!\n",
    "\n",
    "# The method uses convention (or the \"dot\" config file) to scan the directory that contains expectation configs for the project\n",
    "\n",
    "ge.list_dataset_configs()\n",
    "\n",
    "# output: []"
   ]
  },
  {
   "cell_type": "code",
   "execution_count": null,
   "metadata": {},
   "outputs": [],
   "source": [
    "### Not implemented yet!!!\n",
    "\n",
    "claims_dataset_config = ge.get_dataset_config('diabetis_data')\n",
    "\n"
   ]
  },
  {
   "cell_type": "code",
   "execution_count": null,
   "metadata": {},
   "outputs": [],
   "source": [
    "# Since ge.get_dataset_config does not exist, we are faking its output:\n",
    "\n",
    "claims_dataset_config = {'dataset_name': 'diabetis_data',\n",
    "                         'meta': {'great_expectations.__version__': '0.4.5'},\n",
    "                         'expectations': [],\n",
    "                         }\n",
    "claims_dataset_config\n"
   ]
  },
  {
   "cell_type": "code",
   "execution_count": null,
   "metadata": {},
   "outputs": [],
   "source": [
    "# We have to have access to some instance of this dataset type in order to create expectations config.\n",
    "# Let's load this instance from a CSV file:\n",
    "\n",
    "file_path = '/Users/eugenemandel/Downloads/dataset_diabetes/diabetic_data.csv'\n",
    "xargs = {\n",
    "    'encoding':'UTF-8', \n",
    "    'sep': ',',\n",
    "#     'dtype': object,\n",
    "    'error_bad_lines': False\n",
    "}\n",
    "df = pd.read_csv(file_path, **xargs)\n",
    "\n",
    "# Let's connect the dataset instance with the expectations config (dataset type)\n",
    "df = ge.from_pandas(df, expectations_config=claims_dataset_config)"
   ]
  },
  {
   "cell_type": "code",
   "execution_count": null,
   "metadata": {},
   "outputs": [],
   "source": []
  },
  {
   "cell_type": "code",
   "execution_count": null,
   "metadata": {},
   "outputs": [],
   "source": [
    "df.head()"
   ]
  },
  {
   "cell_type": "markdown",
   "metadata": {},
   "source": [
    "### Let's add some expectations to this dataset type"
   ]
  },
  {
   "cell_type": "code",
   "execution_count": null,
   "metadata": {},
   "outputs": [],
   "source": [
    "df.expect_column_values_to_be_unique('encounter_id')"
   ]
  },
  {
   "cell_type": "code",
   "execution_count": null,
   "metadata": {},
   "outputs": [],
   "source": [
    "df.expect_column_values_to_be_unique('patient_nbr', mostly=1.0)"
   ]
  },
  {
   "cell_type": "code",
   "execution_count": null,
   "metadata": {},
   "outputs": [],
   "source": [
    "# If we need to iterate to get the arguments of an expectations, we just call the same expect* method multiple times - \n",
    "# this overrides the previous \"versions\" of this expectation.\n",
    "\n",
    "df.expect_column_values_to_be_unique('patient_nbr', mostly=0.5)"
   ]
  },
  {
   "cell_type": "code",
   "execution_count": null,
   "metadata": {},
   "outputs": [],
   "source": [
    "df.expect_column_unique_value_count_to_be_between('patient_nbr', min_value=0, max_value=0)"
   ]
  },
  {
   "cell_type": "code",
   "execution_count": null,
   "metadata": {},
   "outputs": [],
   "source": [
    "# We don't really care about it in the input dataset, but we want to refer to the observed value when we create expectations for the output\n",
    "\n",
    "df.expect_column_unique_value_count_to_be_between('patient_nbr', min_value=0, max_value=1000000)"
   ]
  },
  {
   "cell_type": "markdown",
   "metadata": {},
   "source": [
    "\n"
   ]
  },
  {
   "cell_type": "code",
   "execution_count": null,
   "metadata": {},
   "outputs": [],
   "source": [
    "df.expect_column_values_to_be_in_set('weight', ['?'])\n"
   ]
  },
  {
   "cell_type": "code",
   "execution_count": null,
   "metadata": {},
   "outputs": [],
   "source": []
  },
  {
   "cell_type": "code",
   "execution_count": null,
   "metadata": {},
   "outputs": [],
   "source": [
    "# Let's iterate and capture the right set of values:\n",
    "\n",
    "df.expect_column_values_to_be_in_set('weight', ['[175-200)', '>200', '[25-50)', '[150-175)', '[125-150)', '[75-100)','[50-75)','[0-25)','[100-125)', '?'])\n"
   ]
  },
  {
   "cell_type": "code",
   "execution_count": null,
   "metadata": {},
   "outputs": [],
   "source": []
  },
  {
   "cell_type": "code",
   "execution_count": null,
   "metadata": {},
   "outputs": [],
   "source": []
  },
  {
   "cell_type": "code",
   "execution_count": null,
   "metadata": {},
   "outputs": [],
   "source": [
    "df.get_expectations_config()"
   ]
  },
  {
   "cell_type": "code",
   "execution_count": null,
   "metadata": {},
   "outputs": [],
   "source": []
  },
  {
   "cell_type": "code",
   "execution_count": null,
   "metadata": {},
   "outputs": [],
   "source": [
    "### Not implemented yet!!!\n",
    "\n",
    "# This method would take the dataset type name and a config dict and save it to a file.\n",
    "# The method figures out the file path based on convention/configuration.\n",
    "\n",
    "ge.save_dataset_config('claims', df.get_expectations_config())"
   ]
  },
  {
   "cell_type": "code",
   "execution_count": null,
   "metadata": {},
   "outputs": [],
   "source": [
    "# Since the previous method does not exist, we are saving the config this way:\n",
    "\n",
    "with open('../dataset_expectations_configs/{0:s}.json'.format(df.get_expectations_config()['dataset_name']), 'w') as outfile:  \n",
    "    json.dump(df.get_expectations_config(), outfile)\n",
    "    \n",
    "    "
   ]
  },
  {
   "cell_type": "code",
   "execution_count": null,
   "metadata": {},
   "outputs": [],
   "source": [
    "# import json\n",
    "\n",
    "# with open('diabetes_config_jpc_20190423.json') as json_file:  \n",
    "#     e_config = json.load(json_file)"
   ]
  },
  {
   "cell_type": "markdown",
   "metadata": {},
   "source": [
    "### Our pipeline outputs 2 datasets. Let's create expectations for the one that holds number of encounters for each patient."
   ]
  },
  {
   "cell_type": "code",
   "execution_count": null,
   "metadata": {},
   "outputs": [],
   "source": [
    "### Not implemented yet!!!\n",
    "\n",
    "claims_dataset_config = ge.get_dataset_config('encounters_per_patient')\n",
    "\n"
   ]
  },
  {
   "cell_type": "code",
   "execution_count": null,
   "metadata": {},
   "outputs": [],
   "source": [
    "# Since ge.get_dataset_config does not exist, we are faking its output:\n",
    "\n",
    "encounters_count_dataset_config = {'dataset_name': 'encounters_per_patient',\n",
    "                         'meta': {'great_expectations.__version__': '0.4.5'},\n",
    "                         'expectations': [],\n",
    "                         }\n",
    "encounters_count_dataset_config\n"
   ]
  },
  {
   "cell_type": "code",
   "execution_count": null,
   "metadata": {},
   "outputs": [],
   "source": [
    "### Not implemented yet!!!\n",
    "\n",
    "# We don't have a data sample, since the pipeline is not implemented yet, so we are creating an empty\n",
    "# data asset as a container for our expectations\n",
    "\n",
    "df_encounters_count = ge.data_asset.DataAsset(expectations_config=encounters_count_dataset_config, do_not_evaluate_now=True, overwrite_existing_expectations=\"Never\")\n"
   ]
  },
  {
   "cell_type": "code",
   "execution_count": null,
   "metadata": {},
   "outputs": [],
   "source": [
    "df_encounters_count.expect_table_row_count_to_equal(\n",
    "    value: {\"$PARAMETER\": \"diabetis_data.expect_column_unique_value_count_to_be_between[patient_nbr].result[observed_value]\",\n",
    "                \"$PARAMETER.diabetis_data.expect_column_unique_value_count_to_be_between[patient_nbr].result[observed_value]\": 10}\n",
    ")"
   ]
  },
  {
   "cell_type": "code",
   "execution_count": null,
   "metadata": {},
   "outputs": [],
   "source": [
    "### Not implemented yet!!!\n",
    "\n",
    "# This method would take the dataset type name and a config dict and save it to a file.\n",
    "# The method figures out the file path based on convention/configuration.\n",
    "\n",
    "ge.save_dataset_config('encounters_per_patient', df.get_expectations_config())"
   ]
  },
  {
   "cell_type": "code",
   "execution_count": null,
   "metadata": {},
   "outputs": [],
   "source": []
  }
 ],
 "metadata": {
  "kernelspec": {
   "display_name": "Python 3",
   "language": "python",
   "name": "python3"
  },
  "language_info": {
   "codemirror_mode": {
    "name": "ipython",
    "version": 3
   },
   "file_extension": ".py",
   "mimetype": "text/x-python",
   "name": "python",
   "nbconvert_exporter": "python",
   "pygments_lexer": "ipython3",
   "version": "3.6.6"
  }
 },
 "nbformat": 4,
 "nbformat_minor": 2
}
