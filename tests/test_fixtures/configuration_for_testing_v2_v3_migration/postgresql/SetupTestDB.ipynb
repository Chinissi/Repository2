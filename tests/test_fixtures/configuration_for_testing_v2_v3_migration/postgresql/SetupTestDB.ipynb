{
 "cells": [
  {
   "cell_type": "markdown",
   "metadata": {},
   "source": [
    "# Setting up Docker container with test data\n",
    "\n",
    "This Notebook will describe how you can set up the dataset used to test the two postgresql configurations"
   ]
  },
  {
   "cell_type": "markdown",
   "metadata": {},
   "source": [
    "#### Spin up postgres Docker container from `great-expectations` repo\n",
    "\n",
    "* `great_expectations/Assets/docker/postgresql` will have a `docker-composer.yml` that can be used to spin up a test postgres container\n",
    "\n",
    "Use `docker-composer up` in this directory to spin up the Docker container. \n"
   ]
  },
  {
   "cell_type": "code",
   "execution_count": 12,
   "metadata": {},
   "outputs": [],
   "source": [
    "# This utility is not for general use. It is only to support testing\n",
    "def load_data_into_database(\n",
    "    table_name: str, csv_path: str, connection_string: str\n",
    ") -> None:\n",
    "    import pandas as pd\n",
    "    import sqlalchemy as sa\n",
    "\n",
    "    engine = sa.create_engine(connection_string)\n",
    "    try:\n",
    "        connection = engine.connect()\n",
    "        print(f\"Dropping table {table_name}\")\n",
    "        connection.execute(f\"DROP TABLE IF EXISTS {table_name}\")\n",
    "        df = pd.read_csv(csv_path)\n",
    "        # Improving test performance by only loading the first 10 rows of our test data into the db\n",
    "        df = df.head(10)\n",
    "        print(f\"Creating table {table_name} from {csv_path}\")\n",
    "        df.to_sql(name=table_name, con=engine, index=False)\n",
    "    except SQLAlchemyError as e:\n",
    "        logger.error(\n",
    "            f\"\"\"Docs integration tests encountered an error while loading test-data into test-database.\"\"\"\n",
    "        )\n",
    "        raise\n",
    "    finally:\n",
    "        connection.close()\n",
    "        engine.dispose()\n"
   ]
  },
  {
   "cell_type": "code",
   "execution_count": 13,
   "metadata": {},
   "outputs": [],
   "source": [
    "CONNECTION_STRING = \"postgresql+psycopg2://postgres:@localhost/test_ci\""
   ]
  },
  {
   "cell_type": "code",
   "execution_count": 14,
   "metadata": {},
   "outputs": [
    {
     "name": "stdout",
     "output_type": "stream",
     "text": [
      "Dropping table titanic\n",
      "Creating table titanic from Titanic.csv\n"
     ]
    }
   ],
   "source": [
    "load_data_into_database(\n",
    "    table_name=\"titanic\",\n",
    "    csv_path=\"Titanic.csv\",\n",
    "    connection_string=CONNECTION_STRING,\n",
    ")"
   ]
  }
 ],
 "metadata": {
  "kernelspec": {
   "display_name": "Python 3",
   "language": "python",
   "name": "python3"
  },
  "language_info": {
   "codemirror_mode": {
    "name": "ipython",
    "version": 3
   },
   "file_extension": ".py",
   "mimetype": "text/x-python",
   "name": "python",
   "nbconvert_exporter": "python",
   "pygments_lexer": "ipython3",
   "version": "3.8.3"
  }
 },
 "nbformat": 4,
 "nbformat_minor": 4
}
