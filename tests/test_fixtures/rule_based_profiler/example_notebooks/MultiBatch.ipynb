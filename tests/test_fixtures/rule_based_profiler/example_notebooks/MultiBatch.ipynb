{
 "cells": [
  {
   "cell_type": "markdown",
   "id": "7f0a5264-b003-4101-862f-45653f2aed1b",
   "metadata": {},
   "source": [
    "# How to write multi-batch Batch Requests\n",
    "* How do you specify the Mult-Batch BatchRequests\n",
    "What is left to do? \n",
    "- we can try to do the different Data Connenctors\n",
    "    - Configured\n",
    "    - Inferre\n",
    "- it's a little hand tied becas\n",
    "\n",
    "# let's do a brain dump before signing off "
   ]
  },
  {
   "cell_type": "code",
   "execution_count": 1,
   "id": "ee54886b-4f88-46d9-9afe-dfd8bb061e19",
   "metadata": {},
   "outputs": [],
   "source": [
    "import great_expectations as ge\n",
    "\n",
    "from ruamel import yaml\n",
    "\n",
    "from great_expectations.core.batch import BatchRequest\n",
    "\n",
    "from great_expectations.rule_based_profiler.rule.rule import Rule\n",
    "from great_expectations.rule_based_profiler.rule_based_profiler import RuleBasedProfiler, RuleBasedProfilerResult\n",
    "\n",
    "from great_expectations.rule_based_profiler.domain_builder import (\n",
    "    DomainBuilder,\n",
    "    ColumnDomainBuilder,\n",
    ")\n",
    "from great_expectations.rule_based_profiler.parameter_builder import (\n",
    "    MetricMultiBatchParameterBuilder,\n",
    ")\n",
    "from great_expectations.rule_based_profiler.expectation_configuration_builder import (\n",
    "    DefaultExpectationConfigurationBuilder,\n",
    ")"
   ]
  },
  {
   "cell_type": "code",
   "execution_count": 3,
   "id": "45b1854b-2a75-422e-83bb-5509d868e0c5",
   "metadata": {},
   "outputs": [],
   "source": [
    "data_context: ge.DataContext = ge.get_context()"
   ]
  },
  {
   "cell_type": "code",
   "execution_count": 4,
   "id": "84150f65-bbd6-4b45-95ab-9590a29f116a",
   "metadata": {},
   "outputs": [
    {
     "name": "stdout",
     "output_type": "stream",
     "text": [
      "Attempting to instantiate class from config...\n",
      "\tInstantiating as a Datasource, since class_name is Datasource\n",
      "\tSuccessfully instantiated Datasource\n",
      "\n",
      "\n",
      "ExecutionEngine class name: PandasExecutionEngine\n",
      "Data Connectors:\n",
      "\tdefault_inferred_data_connector_name : InferredAssetFilesystemDataConnector\n",
      "\n",
      "\tAvailable data_asset_names (1 of 1):\n",
      "\t\tyellow_tripdata_sample_2018 (3 of 12): ['yellow_tripdata_sample_2018-01.csv', 'yellow_tripdata_sample_2018-02.csv', 'yellow_tripdata_sample_2018-03.csv']\n",
      "\n",
      "\tUnmatched data_references (3 of 30):['.DS_Store', 'first_3_files', 'random_subsamples']\n",
      "\n",
      "\tdefault_inferred_data_connector_name_all_years : InferredAssetFilesystemDataConnector\n",
      "\n",
      "\tAvailable data_asset_names (1 of 1):\n",
      "\t\tyellow_tripdata_sample (3 of 36): ['yellow_tripdata_sample_2018-01.csv', 'yellow_tripdata_sample_2018-02.csv', 'yellow_tripdata_sample_2018-03.csv']\n",
      "\n",
      "\tUnmatched data_references (3 of 6):['.DS_Store', 'first_3_files', 'random_subsamples']\n",
      "\n"
     ]
    },
    {
     "data": {
      "text/plain": [
       "<great_expectations.datasource.new_datasource.Datasource at 0x7fd93899ea90>"
      ]
     },
     "execution_count": 4,
     "metadata": {},
     "output_type": "execute_result"
    }
   ],
   "source": [
    "data_path: str = \"../../../../test_sets/taxi_yellow_tripdata_samples\"\n",
    "\n",
    "datasource_config = {\n",
    "    \"name\": \"taxi_multi_batch_datasource\",\n",
    "    \"class_name\": \"Datasource\",\n",
    "    \"module_name\": \"great_expectations.datasource\",\n",
    "    \"execution_engine\": {\n",
    "        \"module_name\": \"great_expectations.execution_engine\",\n",
    "        \"class_name\": \"PandasExecutionEngine\",\n",
    "    },\n",
    "    \"data_connectors\": {\n",
    "        \"default_inferred_data_connector_name\": {\n",
    "            \"class_name\": \"InferredAssetFilesystemDataConnector\",\n",
    "            \"base_directory\": data_path,\n",
    "            \"default_regex\": {\n",
    "                \"group_names\": [\"data_asset_name\", \"month\"],\n",
    "                \"pattern\": \"(yellow_tripdata_sample_2018)-(\\\\d.*)\\\\.csv\",\n",
    "            },\n",
    "        },\n",
    "        \"default_inferred_data_connector_name_all_years\": {\n",
    "            \"class_name\": \"InferredAssetFilesystemDataConnector\",\n",
    "            \"base_directory\": data_path,\n",
    "            \"default_regex\": {\n",
    "                \"group_names\": [\"data_asset_name\", \"year\", \"month\"],\n",
    "                \"pattern\": \"(yellow_tripdata_sample)_(\\\\d.*)-(\\\\d.*)\\\\.csv\",\n",
    "            },\n",
    "        },\n",
    "    },\n",
    "}\n",
    "\n",
    "data_context.test_yaml_config(yaml.dump(datasource_config))"
   ]
  },
  {
   "cell_type": "code",
   "execution_count": 10,
   "id": "4d3106f2-0ebc-4b0c-9191-80d16c209870",
   "metadata": {},
   "outputs": [
    {
     "ename": "SyntaxError",
     "evalue": "invalid syntax (4013422935.py, line 1)",
     "output_type": "error",
     "traceback": [
      "\u001b[0;36m  Input \u001b[0;32mIn [10]\u001b[0;36m\u001b[0m\n\u001b[0;31m    In this example we have two DataConnectors that connect to to our Database.\u001b[0m\n\u001b[0m       ^\u001b[0m\n\u001b[0;31mSyntaxError\u001b[0m\u001b[0;31m:\u001b[0m invalid syntax\n"
     ]
    }
   ],
   "source": [
    "In this example we have two DataConnectors that connect to to our Database. \n",
    "- what are the methods that we can use? \n",
    "- get_Validator() can we do it for something that is multi-batch?\n",
    "- what about run profiler? \n",
    "- get batch_list?\n"
   ]
  },
  {
   "cell_type": "code",
   "execution_count": null,
   "id": "fc89b2eb-1f51-4e4e-bcc9-85a8e30ba78b",
   "metadata": {},
   "outputs": [],
   "source": []
  },
  {
   "cell_type": "code",
   "execution_count": 5,
   "id": "7636ffff-0ddc-48fd-a4cf-f8e139a5e36e",
   "metadata": {},
   "outputs": [],
   "source": [
    "# add_datasource only if it doesn't already exist in our configuration\n",
    "try:\n",
    "    data_context.get_datasource(datasource_config[\"name\"])\n",
    "except ValueError:\n",
    "    data_context.add_datasource(**datasource_config)"
   ]
  },
  {
   "cell_type": "code",
   "execution_count": 8,
   "id": "d8e74a05-3fd1-4e47-9105-b721dbcf3516",
   "metadata": {},
   "outputs": [],
   "source": [
    "single_batch_batch_request: BatchRequest = BatchRequest(\n",
    "    datasource_name=\"taxi_multi_batch_datasource\",\n",
    "    data_connector_name=\"default_inferred_data_connector_name\",\n",
    "    data_asset_name=\"yellow_tripdata_sample_2018\",\n",
    "    data_connector_query={\"index\": -1},\n",
    ")"
   ]
  },
  {
   "cell_type": "code",
   "execution_count": 9,
   "id": "c32dbac9-af5d-4677-98f9-f098ef091b6f",
   "metadata": {},
   "outputs": [],
   "source": [
    "multi_batch_batch_request: BatchRequest = BatchRequest(\n",
    "    datasource_name=\"taxi_multi_batch_datasource\",\n",
    "    data_connector_name=\"default_inferred_data_connector_name\",\n",
    "    data_asset_name=\"yellow_tripdata_sample_2018\",\n",
    ")"
   ]
  },
  {
   "cell_type": "code",
   "execution_count": 11,
   "id": "3a284bfd-00aa-4068-bc09-71c6dea627e0",
   "metadata": {},
   "outputs": [
    {
     "data": {
      "text/plain": [
       "[<great_expectations.core.batch.Batch at 0x7fd938f4e1c0>]"
      ]
     },
     "execution_count": 11,
     "metadata": {},
     "output_type": "execute_result"
    }
   ],
   "source": [
    "data_context.get_batch_list(batch_request=single_batch_batch_request)"
   ]
  },
  {
   "cell_type": "code",
   "execution_count": 18,
   "id": "2225728d-7045-4ae3-9416-15b0ac414d0b",
   "metadata": {},
   "outputs": [],
   "source": [
    "yes = data_context.get_batch_list(batch_request=multi_batch_batch_request)"
   ]
  },
  {
   "cell_type": "code",
   "execution_count": 13,
   "id": "76257617-9db0-451c-a143-ce2d28f6e0da",
   "metadata": {},
   "outputs": [],
   "source": [
    "# how do you then inspect a batch? \n"
   ]
  },
  {
   "cell_type": "code",
   "execution_count": 14,
   "id": "fb26f152-182a-4ad8-b489-42b28dbfdd2a",
   "metadata": {},
   "outputs": [],
   "source": [
    "# how do you then put it thruogh a profiler? "
   ]
  },
  {
   "cell_type": "code",
   "execution_count": 16,
   "id": "73b32f53-09a1-429a-bf5b-78de569ba311",
   "metadata": {},
   "outputs": [
    {
     "name": "stderr",
     "output_type": "stream",
     "text": [
      "/Users/work/Development/great_expectations/great_expectations/data_context/data_context/base_data_context.py:924: DeprecationWarning: get_batch is deprecated for the V3 Batch Request API as of v0.13.20 and will be removed in v0.16. Please use get_batch_list instead.\n",
      "  warnings.warn(\n"
     ]
    },
    {
     "ename": "ValueError",
     "evalue": "Got 12 batches instead of a single batch. If you would like to use a BatchRequest to return multiple batches, please use get_batch_list directly instead of calling get_batch",
     "output_type": "error",
     "traceback": [
      "\u001b[0;31m---------------------------------------------------------------------------\u001b[0m",
      "\u001b[0;31mValueError\u001b[0m                                Traceback (most recent call last)",
      "Input \u001b[0;32mIn [16]\u001b[0m, in \u001b[0;36m<cell line: 1>\u001b[0;34m()\u001b[0m\n\u001b[0;32m----> 1\u001b[0m \u001b[43mdata_context\u001b[49m\u001b[38;5;241;43m.\u001b[39;49m\u001b[43mget_batch\u001b[49m\u001b[43m(\u001b[49m\u001b[43mbatch_request\u001b[49m\u001b[38;5;241;43m=\u001b[39;49m\u001b[43mmulti_batch_batch_request\u001b[49m\u001b[43m)\u001b[49m\n",
      "File \u001b[0;32m~/Development/great_expectations/great_expectations/data_context/data_context/base_data_context.py:1113\u001b[0m, in \u001b[0;36mBaseDataContext.get_batch\u001b[0;34m(self, arg1, arg2, arg3, **kwargs)\u001b[0m\n\u001b[1;32m   1111\u001b[0m     \u001b[38;5;28;01melse\u001b[39;00m:\n\u001b[1;32m   1112\u001b[0m         data_asset_name \u001b[38;5;241m=\u001b[39m arg3\n\u001b[0;32m-> 1113\u001b[0m     \u001b[38;5;28;01mreturn\u001b[39;00m \u001b[38;5;28;43mself\u001b[39;49m\u001b[38;5;241;43m.\u001b[39;49m\u001b[43m_get_batch_v3\u001b[49m\u001b[43m(\u001b[49m\n\u001b[1;32m   1114\u001b[0m \u001b[43m        \u001b[49m\u001b[43mdatasource_name\u001b[49m\u001b[38;5;241;43m=\u001b[39;49m\u001b[43mdatasource_name\u001b[49m\u001b[43m,\u001b[49m\n\u001b[1;32m   1115\u001b[0m \u001b[43m        \u001b[49m\u001b[43mdata_connector_name\u001b[49m\u001b[38;5;241;43m=\u001b[39;49m\u001b[43mdata_connector_name\u001b[49m\u001b[43m,\u001b[49m\n\u001b[1;32m   1116\u001b[0m \u001b[43m        \u001b[49m\u001b[43mdata_asset_name\u001b[49m\u001b[38;5;241;43m=\u001b[39;49m\u001b[43mdata_asset_name\u001b[49m\u001b[43m,\u001b[49m\n\u001b[1;32m   1117\u001b[0m \u001b[43m        \u001b[49m\u001b[38;5;241;43m*\u001b[39;49m\u001b[38;5;241;43m*\u001b[39;49m\u001b[43mkwargs\u001b[49m\u001b[43m,\u001b[49m\n\u001b[1;32m   1118\u001b[0m \u001b[43m    \u001b[49m\u001b[43m)\u001b[49m\n\u001b[1;32m   1119\u001b[0m \u001b[38;5;28;01mif\u001b[39;00m \u001b[38;5;124m\"\u001b[39m\u001b[38;5;124mbatch_kwargs\u001b[39m\u001b[38;5;124m\"\u001b[39m \u001b[38;5;129;01min\u001b[39;00m kwargs:\n\u001b[1;32m   1120\u001b[0m     batch_kwargs \u001b[38;5;241m=\u001b[39m kwargs\u001b[38;5;241m.\u001b[39mget(\u001b[38;5;124m\"\u001b[39m\u001b[38;5;124mbatch_kwargs\u001b[39m\u001b[38;5;124m\"\u001b[39m, \u001b[38;5;28;01mNone\u001b[39;00m)\n",
      "File \u001b[0;32m~/Development/great_expectations/great_expectations/data_context/data_context/base_data_context.py:930\u001b[0m, in \u001b[0;36mBaseDataContext._get_batch_v3\u001b[0;34m(self, datasource_name, data_connector_name, data_asset_name, batch_request, batch_data, data_connector_query, batch_identifiers, limit, index, custom_filter_function, batch_spec_passthrough, sampling_method, sampling_kwargs, splitter_method, splitter_kwargs, runtime_parameters, query, path, batch_filter_parameters, **kwargs)\u001b[0m\n\u001b[1;32m    924\u001b[0m warnings\u001b[38;5;241m.\u001b[39mwarn(\n\u001b[1;32m    925\u001b[0m     \u001b[38;5;124m\"\u001b[39m\u001b[38;5;124mget_batch is deprecated for the V3 Batch Request API as of v0.13.20 and will be removed in v0.16. Please use \u001b[39m\u001b[38;5;124m\"\u001b[39m\n\u001b[1;32m    926\u001b[0m     \u001b[38;5;124m\"\u001b[39m\u001b[38;5;124mget_batch_list instead.\u001b[39m\u001b[38;5;124m\"\u001b[39m,\n\u001b[1;32m    927\u001b[0m     \u001b[38;5;167;01mDeprecationWarning\u001b[39;00m,\n\u001b[1;32m    928\u001b[0m )\n\u001b[1;32m    929\u001b[0m \u001b[38;5;28;01mif\u001b[39;00m \u001b[38;5;28mlen\u001b[39m(batch_list) \u001b[38;5;241m!=\u001b[39m \u001b[38;5;241m1\u001b[39m:\n\u001b[0;32m--> 930\u001b[0m     \u001b[38;5;28;01mraise\u001b[39;00m \u001b[38;5;167;01mValueError\u001b[39;00m(\n\u001b[1;32m    931\u001b[0m         \u001b[38;5;124mf\u001b[39m\u001b[38;5;124m\"\u001b[39m\u001b[38;5;124mGot \u001b[39m\u001b[38;5;132;01m{\u001b[39;00m\u001b[38;5;28mlen\u001b[39m(batch_list)\u001b[38;5;132;01m}\u001b[39;00m\u001b[38;5;124m batches instead of a single batch. If you would like to use a BatchRequest to \u001b[39m\u001b[38;5;124m\"\u001b[39m\n\u001b[1;32m    932\u001b[0m         \u001b[38;5;124mf\u001b[39m\u001b[38;5;124m\"\u001b[39m\u001b[38;5;124mreturn multiple batches, please use get_batch_list directly instead of calling get_batch\u001b[39m\u001b[38;5;124m\"\u001b[39m\n\u001b[1;32m    933\u001b[0m     )\n\u001b[1;32m    934\u001b[0m \u001b[38;5;28;01mreturn\u001b[39;00m batch_list[\u001b[38;5;241m0\u001b[39m]\n",
      "\u001b[0;31mValueError\u001b[0m: Got 12 batches instead of a single batch. If you would like to use a BatchRequest to return multiple batches, please use get_batch_list directly instead of calling get_batch"
     ]
    }
   ],
   "source": [
    "data_context.get_batch(batch_request=multi_batch_batch_request) # this will give an error"
   ]
  },
  {
   "cell_type": "code",
   "execution_count": 20,
   "id": "6fccb880-d772-4ecc-9496-dd468e968fab",
   "metadata": {},
   "outputs": [],
   "source": [
    "my_expectation_suite = data_context.create_expectation_suite(expectation_suite_name=\"temp\", overwrite_existing=True)"
   ]
  },
  {
   "cell_type": "code",
   "execution_count": 21,
   "id": "e8c98515-1650-495c-9541-ece5c1682be5",
   "metadata": {},
   "outputs": [],
   "source": [
    "validator = data_context.get_validator_using_batch_list(batch_list = yes, expectation_suite =my_expectation_suite )"
   ]
  },
  {
   "cell_type": "code",
   "execution_count": 22,
   "id": "027852e6-ffa4-4749-b483-308b6ef474b2",
   "metadata": {},
   "outputs": [
    {
     "data": {
      "application/vnd.jupyter.widget-view+json": {
       "model_id": "11bcda6050bf4a2584ce1a62053f0643",
       "version_major": 2,
       "version_minor": 0
      },
      "text/plain": [
       "Calculating Metrics:   0%|          | 0/1 [00:00<?, ?it/s]"
      ]
     },
     "metadata": {},
     "output_type": "display_data"
    },
    {
     "data": {
      "text/html": [
       "<div>\n",
       "<style scoped>\n",
       "    .dataframe tbody tr th:only-of-type {\n",
       "        vertical-align: middle;\n",
       "    }\n",
       "\n",
       "    .dataframe tbody tr th {\n",
       "        vertical-align: top;\n",
       "    }\n",
       "\n",
       "    .dataframe thead th {\n",
       "        text-align: right;\n",
       "    }\n",
       "</style>\n",
       "<table border=\"1\" class=\"dataframe\">\n",
       "  <thead>\n",
       "    <tr style=\"text-align: right;\">\n",
       "      <th></th>\n",
       "      <th>vendor_id</th>\n",
       "      <th>pickup_datetime</th>\n",
       "      <th>dropoff_datetime</th>\n",
       "      <th>passenger_count</th>\n",
       "      <th>trip_distance</th>\n",
       "      <th>rate_code_id</th>\n",
       "      <th>store_and_fwd_flag</th>\n",
       "      <th>pickup_location_id</th>\n",
       "      <th>dropoff_location_id</th>\n",
       "      <th>payment_type</th>\n",
       "      <th>fare_amount</th>\n",
       "      <th>extra</th>\n",
       "      <th>mta_tax</th>\n",
       "      <th>tip_amount</th>\n",
       "      <th>tolls_amount</th>\n",
       "      <th>improvement_surcharge</th>\n",
       "      <th>total_amount</th>\n",
       "      <th>congestion_surcharge</th>\n",
       "    </tr>\n",
       "  </thead>\n",
       "  <tbody>\n",
       "    <tr>\n",
       "      <th>0</th>\n",
       "      <td>2</td>\n",
       "      <td>2018-12-22 18:30:39</td>\n",
       "      <td>2018-12-22 18:42:37</td>\n",
       "      <td>1</td>\n",
       "      <td>1.39</td>\n",
       "      <td>1</td>\n",
       "      <td>N</td>\n",
       "      <td>170</td>\n",
       "      <td>229</td>\n",
       "      <td>2</td>\n",
       "      <td>9.0</td>\n",
       "      <td>0.0</td>\n",
       "      <td>0.5</td>\n",
       "      <td>0.00</td>\n",
       "      <td>0.0</td>\n",
       "      <td>0.3</td>\n",
       "      <td>9.80</td>\n",
       "      <td>NaN</td>\n",
       "    </tr>\n",
       "    <tr>\n",
       "      <th>1</th>\n",
       "      <td>2</td>\n",
       "      <td>2018-12-29 14:46:47</td>\n",
       "      <td>2018-12-29 15:07:41</td>\n",
       "      <td>1</td>\n",
       "      <td>3.77</td>\n",
       "      <td>1</td>\n",
       "      <td>N</td>\n",
       "      <td>68</td>\n",
       "      <td>140</td>\n",
       "      <td>1</td>\n",
       "      <td>16.0</td>\n",
       "      <td>0.0</td>\n",
       "      <td>0.5</td>\n",
       "      <td>5.04</td>\n",
       "      <td>0.0</td>\n",
       "      <td>0.3</td>\n",
       "      <td>21.84</td>\n",
       "      <td>NaN</td>\n",
       "    </tr>\n",
       "    <tr>\n",
       "      <th>2</th>\n",
       "      <td>1</td>\n",
       "      <td>2018-12-01 16:04:05</td>\n",
       "      <td>2018-12-01 16:45:20</td>\n",
       "      <td>1</td>\n",
       "      <td>4.90</td>\n",
       "      <td>1</td>\n",
       "      <td>N</td>\n",
       "      <td>263</td>\n",
       "      <td>249</td>\n",
       "      <td>1</td>\n",
       "      <td>26.5</td>\n",
       "      <td>0.0</td>\n",
       "      <td>0.5</td>\n",
       "      <td>5.46</td>\n",
       "      <td>0.0</td>\n",
       "      <td>0.3</td>\n",
       "      <td>32.76</td>\n",
       "      <td>NaN</td>\n",
       "    </tr>\n",
       "    <tr>\n",
       "      <th>3</th>\n",
       "      <td>1</td>\n",
       "      <td>2018-12-31 15:28:07</td>\n",
       "      <td>2018-12-31 15:28:16</td>\n",
       "      <td>0</td>\n",
       "      <td>0.00</td>\n",
       "      <td>5</td>\n",
       "      <td>N</td>\n",
       "      <td>132</td>\n",
       "      <td>132</td>\n",
       "      <td>1</td>\n",
       "      <td>70.0</td>\n",
       "      <td>0.0</td>\n",
       "      <td>0.0</td>\n",
       "      <td>0.00</td>\n",
       "      <td>0.0</td>\n",
       "      <td>0.3</td>\n",
       "      <td>70.30</td>\n",
       "      <td>NaN</td>\n",
       "    </tr>\n",
       "    <tr>\n",
       "      <th>4</th>\n",
       "      <td>2</td>\n",
       "      <td>2018-12-31 18:13:34</td>\n",
       "      <td>2018-12-31 18:41:03</td>\n",
       "      <td>1</td>\n",
       "      <td>6.74</td>\n",
       "      <td>1</td>\n",
       "      <td>N</td>\n",
       "      <td>162</td>\n",
       "      <td>116</td>\n",
       "      <td>1</td>\n",
       "      <td>24.5</td>\n",
       "      <td>1.0</td>\n",
       "      <td>0.5</td>\n",
       "      <td>5.26</td>\n",
       "      <td>0.0</td>\n",
       "      <td>0.3</td>\n",
       "      <td>31.56</td>\n",
       "      <td>NaN</td>\n",
       "    </tr>\n",
       "  </tbody>\n",
       "</table>\n",
       "</div>"
      ],
      "text/plain": [
       "   vendor_id      pickup_datetime     dropoff_datetime  passenger_count  \\\n",
       "0          2  2018-12-22 18:30:39  2018-12-22 18:42:37                1   \n",
       "1          2  2018-12-29 14:46:47  2018-12-29 15:07:41                1   \n",
       "2          1  2018-12-01 16:04:05  2018-12-01 16:45:20                1   \n",
       "3          1  2018-12-31 15:28:07  2018-12-31 15:28:16                0   \n",
       "4          2  2018-12-31 18:13:34  2018-12-31 18:41:03                1   \n",
       "\n",
       "   trip_distance  rate_code_id store_and_fwd_flag  pickup_location_id  \\\n",
       "0           1.39             1                  N                 170   \n",
       "1           3.77             1                  N                  68   \n",
       "2           4.90             1                  N                 263   \n",
       "3           0.00             5                  N                 132   \n",
       "4           6.74             1                  N                 162   \n",
       "\n",
       "   dropoff_location_id  payment_type  fare_amount  extra  mta_tax  tip_amount  \\\n",
       "0                  229             2          9.0    0.0      0.5        0.00   \n",
       "1                  140             1         16.0    0.0      0.5        5.04   \n",
       "2                  249             1         26.5    0.0      0.5        5.46   \n",
       "3                  132             1         70.0    0.0      0.0        0.00   \n",
       "4                  116             1         24.5    1.0      0.5        5.26   \n",
       "\n",
       "   tolls_amount  improvement_surcharge  total_amount  congestion_surcharge  \n",
       "0           0.0                    0.3          9.80                   NaN  \n",
       "1           0.0                    0.3         21.84                   NaN  \n",
       "2           0.0                    0.3         32.76                   NaN  \n",
       "3           0.0                    0.3         70.30                   NaN  \n",
       "4           0.0                    0.3         31.56                   NaN  "
      ]
     },
     "execution_count": 22,
     "metadata": {},
     "output_type": "execute_result"
    }
   ],
   "source": [
    "validator.head()"
   ]
  },
  {
   "cell_type": "code",
   "execution_count": 29,
   "id": "68761d92-a68c-4f56-a46c-ea91d24a92e7",
   "metadata": {},
   "outputs": [
    {
     "data": {
      "text/plain": [
       "OrderedDict([('b6f920d6002d3c556cb1e59f6ab9ad0a',\n",
       "              <great_expectations.core.batch.Batch at 0x7fd941b7fe20>),\n",
       "             ('b35c6659eef933e59905d3145c7cba81',\n",
       "              <great_expectations.core.batch.Batch at 0x7fd941b84310>),\n",
       "             ('36da19040ac7ba6180d922745a227b30',\n",
       "              <great_expectations.core.batch.Batch at 0x7fd941808160>),\n",
       "             ('16477b79ef22972db9576c9e1748add3',\n",
       "              <great_expectations.core.batch.Batch at 0x7fd941d944c0>),\n",
       "             ('64c03aae33d67af09a8ce4b7e82b60e2',\n",
       "              <great_expectations.core.batch.Batch at 0x7fd942184880>),\n",
       "             ('50bfcc4ddd0935edddbe82c498b7d405',\n",
       "              <great_expectations.core.batch.Batch at 0x7fd941b7e6d0>),\n",
       "             ('cc7cc6b9e3e2ca9d029b1190f0fcba74',\n",
       "              <great_expectations.core.batch.Batch at 0x7fd9417ff5e0>),\n",
       "             ('142dd8def2b56dcea0d4ab00cb59ceba',\n",
       "              <great_expectations.core.batch.Batch at 0x7fd941804e80>),\n",
       "             ('ace0a35cbc21d5cf8e50cb0ddfb016ed',\n",
       "              <great_expectations.core.batch.Batch at 0x7fd94180b1c0>),\n",
       "             ('dfb3dbab8cbab4b8412f015d3aca581d',\n",
       "              <great_expectations.core.batch.Batch at 0x7fd9417e1370>),\n",
       "             ('66f18a7961dc26d5e2242e604298c778',\n",
       "              <great_expectations.core.batch.Batch at 0x7fd9394bf340>),\n",
       "             ('b0bbc3cc49e0a06482a8262a7dddf854',\n",
       "              <great_expectations.core.batch.Batch at 0x7fd9417e12b0>)])"
      ]
     },
     "execution_count": 30,
     "metadata": {},
     "output_type": "execute_result"
    }
   ],
   "source": [
    "validator.batches"
   ]
  },
  {
   "cell_type": "code",
   "execution_count": 38,
   "id": "d06a6646-71e6-4d21-a04e-fd7711a084f7",
   "metadata": {},
   "outputs": [],
   "source": [
    "my_batch=list(validator.batches.values())[0]"
   ]
  },
  {
   "cell_type": "code",
   "execution_count": 41,
   "id": "e78f8c7d-9602-44d6-bf77-421ce080a52b",
   "metadata": {},
   "outputs": [
    {
     "data": {
      "text/plain": [
       "{'data': '<great_expectations.execution_engine.pandas_batch_data.PandasBatchData object at 0x7fd941789100>',\n",
       " 'batch_request': {'datasource_name': 'taxi_multi_batch_datasource',\n",
       "  'data_connector_name': 'default_inferred_data_connector_name',\n",
       "  'data_asset_name': 'yellow_tripdata_sample_2018',\n",
       "  'data_connector_query': None,\n",
       "  'limit': None,\n",
       "  'batch_spec_passthrough': None},\n",
       " 'batch_definition': {'datasource_name': 'taxi_multi_batch_datasource',\n",
       "  'data_connector_name': 'default_inferred_data_connector_name',\n",
       "  'data_asset_name': 'yellow_tripdata_sample_2018',\n",
       "  'batch_identifiers': {'month': '01'}},\n",
       " 'batch_spec': {'path': '/Users/work/Development/great_expectations/tests/test_fixtures/rule_based_profiler/example_notebooks/great_expectations/../../../../test_sets/taxi_yellow_tripdata_samples/yellow_tripdata_sample_2018-01.csv'},\n",
       " 'batch_markers': {'ge_load_time': '20220713T235243.398401Z',\n",
       "  'pandas_data_fingerprint': '7a0d51e71ca42b9d4be20b776eba0cf0'}}"
      ]
     },
     "execution_count": 41,
     "metadata": {},
     "output_type": "execute_result"
    }
   ],
   "source": [
    "my_batch.to_dict()"
   ]
  },
  {
   "cell_type": "code",
   "execution_count": null,
   "id": "d0f579a0-4685-496a-bba6-fda784c9cec4",
   "metadata": {},
   "outputs": [],
   "source": []
  },
  {
   "cell_type": "code",
   "execution_count": 27,
   "id": "f7e89ee4-44cd-43b4-8f8d-cd67dba682a4",
   "metadata": {},
   "outputs": [
    {
     "data": {
      "application/vnd.jupyter.widget-view+json": {
       "model_id": "ca6227c186a94284afbb1de320fd1045",
       "version_major": 2,
       "version_minor": 0
      },
      "text/plain": [
       "Calculating Metrics:   0%|          | 0/2 [00:00<?, ?it/s]"
      ]
     },
     "metadata": {},
     "output_type": "display_data"
    },
    {
     "data": {
      "text/plain": [
       "{\n",
       "  \"result\": {},\n",
       "  \"success\": false,\n",
       "  \"meta\": {},\n",
       "  \"exception_info\": {\n",
       "    \"raised_exception\": false,\n",
       "    \"exception_traceback\": null,\n",
       "    \"exception_message\": null\n",
       "  }\n",
       "}"
      ]
     },
     "execution_count": 27,
     "metadata": {},
     "output_type": "execute_result"
    }
   ],
   "source": [
    "validator.expect_column_to_exist(\"i_dont_exist\")"
   ]
  },
  {
   "cell_type": "code",
   "execution_count": 28,
   "id": "8feead1b-5160-4b65-8d3a-848b19a25aca",
   "metadata": {},
   "outputs": [],
   "source": [
    "# is this across everything? ?\n",
    "# well no. "
   ]
  },
  {
   "cell_type": "code",
   "execution_count": null,
   "id": "18f34fc0-81c4-4622-9ac4-4776062b5528",
   "metadata": {},
   "outputs": [],
   "source": [
    "What can you do with multiple batches? \n",
    "* "
   ]
  }
 ],
 "metadata": {
  "kernelspec": {
   "display_name": "Python 3 (ipykernel)",
   "language": "python",
   "name": "python3"
  },
  "language_info": {
   "codemirror_mode": {
    "name": "ipython",
    "version": 3
   },
   "file_extension": ".py",
   "mimetype": "text/x-python",
   "name": "python",
   "nbconvert_exporter": "python",
   "pygments_lexer": "ipython3",
   "version": "3.8.3"
  }
 },
 "nbformat": 4,
 "nbformat_minor": 5
}
