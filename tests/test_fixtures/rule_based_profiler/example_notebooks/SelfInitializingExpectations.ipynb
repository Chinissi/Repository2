{
 "cells": [
  {
   "cell_type": "markdown",
   "id": "a25cb0ae-94d9-4584-ac3a-6d5685ca2201",
   "metadata": {},
   "source": [
    "# Self-Initializing Expectations\n",
    "- Self-initializing `Expectations` utilize `RuleBasedProfilers` to automate parameter estimation for Expectations using a Batch or Batches that have been loaded. \n",
    "\n",
    "### Does this mean they work for all `Expectations`?\n",
    "- No, not all `Expectations` have parameters that can be estimated. As an example, `ExpectColumnToExist` only takes in a Domain (`column_name`)  and outputs whether the values in the column are `None`. It would be an example of an `Expectation` that would not work under the self-initializing framework. \n",
    "- An example of an `Expectation` that would work under the self-initializing framework would be ones that have numeric ranges, like `ExpectColumnMeanToBeBetween`, `ExpectColumnMaxToBeBetween`, and `ExpectColumnSumToBeBetween`.\n",
    "- **To see if an expectation supports self-initialization... run this method()**\n"
   ]
  },
  {
   "cell_type": "markdown",
   "id": "1f68faa9",
   "metadata": {},
   "source": [
    "# Set-up"
   ]
  },
  {
   "cell_type": "markdown",
   "id": "492f223a",
   "metadata": {},
   "source": [
    "* To setup an example usecase for self-initializing `Expectations`, we will start from a new Great Expectations Data Context (ie `great_expectations` folder after running `great_expectations init`), and begin by adding the `Datasource`, and configuring a `BatchRequest`"
   ]
  },
  {
   "cell_type": "code",
   "execution_count": 13,
   "id": "cda410dd-b44e-4456-b04b-57537b635654",
   "metadata": {},
   "outputs": [],
   "source": [
    "import great_expectations as ge\n",
    "\n",
    "from ruamel import yaml\n",
    "\n",
    "from great_expectations.core.batch import BatchRequest\n",
    "\n",
    "from great_expectations.rule_based_profiler.rule.rule import Rule\n",
    "from great_expectations.rule_based_profiler.rule_based_profiler import RuleBasedProfiler, RuleBasedProfilerResult\n",
    "\n",
    "from great_expectations.rule_based_profiler.domain_builder import (\n",
    "    DomainBuilder,\n",
    "    ColumnDomainBuilder,\n",
    ")\n",
    "from great_expectations.rule_based_profiler.parameter_builder import (\n",
    "    MetricMultiBatchParameterBuilder,\n",
    ")\n",
    "from great_expectations.rule_based_profiler.expectation_configuration_builder import (\n",
    "    DefaultExpectationConfigurationBuilder,\n",
    ")"
   ]
  },
  {
   "cell_type": "code",
   "execution_count": 14,
   "id": "fc7c8362-2bb2-4c1e-83ca-23c5d253f020",
   "metadata": {},
   "outputs": [],
   "source": [
    "data_context: ge.DataContext = ge.get_context()"
   ]
  },
  {
   "cell_type": "markdown",
   "id": "96d1da15-120d-49d9-ac03-ec036a8f0aad",
   "metadata": {},
   "source": [
    "### Adding taxi_data Datasource\n",
    "Add `taxi_data` as a new `Datasource`\n",
    "We are using an `InferredAssetFilesystemDataConnector` to connect to data in the `test_sets/taxi_yellow_tripdata_samples` folder and get one `DataAsset` (`yellow_tripdata_sample_2018`) that has 12 Batches (1 Batch/month)."
   ]
  },
  {
   "cell_type": "code",
   "execution_count": 32,
   "id": "3da1f552-a14f-4d33-a5ab-3680f9999215",
   "metadata": {},
   "outputs": [
    {
     "name": "stdout",
     "output_type": "stream",
     "text": [
      "Attempting to instantiate class from config...\n",
      "\tInstantiating as a Datasource, since class_name is Datasource\n",
      "\tSuccessfully instantiated Datasource\n",
      "\n",
      "\n",
      "ExecutionEngine class name: PandasExecutionEngine\n",
      "Data Connectors:\n",
      "\t2018_data : InferredAssetFilesystemDataConnector\n",
      "\n",
      "\tAvailable data_asset_names (1 of 1):\n",
      "\t\tyellow_tripdata_sample_2018 (3 of 12): ['yellow_tripdata_sample_2018-01.csv', 'yellow_tripdata_sample_2018-02.csv', 'yellow_tripdata_sample_2018-03.csv']\n",
      "\n",
      "\tUnmatched data_references (3 of 30):['.DS_Store', 'first_3_files', 'random_subsamples']\n",
      "\n"
     ]
    },
    {
     "data": {
      "text/plain": [
       "<great_expectations.datasource.new_datasource.Datasource at 0x7fec0c5a2760>"
      ]
     },
     "execution_count": 32,
     "metadata": {},
     "output_type": "execute_result"
    }
   ],
   "source": [
    "data_path: str = \"../../../../test_sets/taxi_yellow_tripdata_samples\"\n",
    "\n",
    "datasource_config = {\n",
    "    \"name\": \"taxi_multi_batch_datasource\",\n",
    "    \"class_name\": \"Datasource\",\n",
    "    \"module_name\": \"great_expectations.datasource\",\n",
    "    \"execution_engine\": {\n",
    "        \"module_name\": \"great_expectations.execution_engine\",\n",
    "        \"class_name\": \"PandasExecutionEngine\",\n",
    "    },\n",
    "    \"data_connectors\": {\n",
    "        \"2018_data\": {\n",
    "            \"class_name\": \"InferredAssetFilesystemDataConnector\",\n",
    "            \"base_directory\": data_path,\n",
    "            \"default_regex\": {\n",
    "                \"group_names\": [\"data_asset_name\", \"month\"],\n",
    "                \"pattern\": \"(yellow_tripdata_sample_2018)-(\\\\d.*)\\\\.csv\",\n",
    "            },\n",
    "        },\n",
    "    },\n",
    "}\n",
    "\n",
    "data_context.test_yaml_config(yaml.dump(datasource_config))\n"
   ]
  },
  {
   "cell_type": "code",
   "execution_count": 33,
   "id": "cd011ba5-9bbc-4c8c-8cb7-a886edcbb4e5",
   "metadata": {},
   "outputs": [],
   "source": [
    "# add_datasource only if it doesn't already exist in our configuration\n",
    "try:\n",
    "    data_context.get_datasource(datasource_config[\"name\"])\n",
    "except ValueError:\n",
    "    data_context.add_datasource(**datasource_config)"
   ]
  },
  {
   "cell_type": "markdown",
   "id": "11c741ea",
   "metadata": {},
   "source": [
    "### Configuring BatchRequest\n",
    "In this example, we will be using a `BatchRequest` that returns 12 `Batches` of data from the 2018 `taxi_data` datataset."
   ]
  },
  {
   "cell_type": "code",
   "execution_count": 37,
   "id": "0f2a40e3-4f9a-488d-9a28-ccb29531ba87",
   "metadata": {},
   "outputs": [],
   "source": [
    "batch_request_2018_data: BatchRequest = BatchRequest(\n",
    "    datasource_name=\"taxi_multi_batch_datasource\",\n",
    "    data_connector_name=\"2018_data\",\n",
    "    data_asset_name=\"yellow_tripdata_sample_2018\",\n",
    ")"
   ]
  },
  {
   "cell_type": "markdown",
   "id": "20a6f3f1",
   "metadata": {},
   "source": [
    "### Get Validator"
   ]
  },
  {
   "cell_type": "markdown",
   "id": "408a6f0c",
   "metadata": {},
   "source": [
    "Load `taxi_data` into a `Validator` using the `BatchRequest` from the previous step."
   ]
  },
  {
   "cell_type": "code",
   "execution_count": 41,
   "id": "d900f504-3029-463c-a017-c34a1aa2c42d",
   "metadata": {},
   "outputs": [],
   "source": [
    "suite = data_context.create_expectation_suite(expectation_suite_name=\"new_expectation_suite\", overwrite_existing=True\n",
    ")"
   ]
  },
  {
   "cell_type": "code",
   "execution_count": 42,
   "id": "b682164f-6a5d-4794-a786-fa5c4e239ed7",
   "metadata": {},
   "outputs": [],
   "source": [
    "validator = data_context.get_validator(expectation_suite=suite, batch_request=multi_batch_batch_request)"
   ]
  },
  {
   "cell_type": "markdown",
   "id": "86cea0a1",
   "metadata": {},
   "source": [
    "Check that the number of batches in our validator is 12 (1 batch / month for 2018)"
   ]
  },
  {
   "cell_type": "code",
   "execution_count": 44,
   "id": "f604195e-f157-4232-83e0-10860ca49994",
   "metadata": {},
   "outputs": [],
   "source": [
    "assert len(validator.batches) == 12"
   ]
  },
  {
   "cell_type": "markdown",
   "id": "31bf7beb",
   "metadata": {},
   "source": [
    "# Running Self-Initializing Expectation"
   ]
  },
  {
   "cell_type": "markdown",
   "id": "f70ea62e",
   "metadata": {},
   "source": [
    "Now we have all the components we need to build an ExpectationSuite by using a Validator. Let's first look at our data by running `validator.head()` which will output the first few rows of our most recent (December) Batch."
   ]
  },
  {
   "cell_type": "code",
   "execution_count": 47,
   "id": "03f8d782",
   "metadata": {},
   "outputs": [
    {
     "data": {
      "application/vnd.jupyter.widget-view+json": {
       "model_id": "e74fff25f88d4f73a27420bc1eb08832",
       "version_major": 2,
       "version_minor": 0
      },
      "text/plain": [
       "Calculating Metrics:   0%|          | 0/1 [00:00<?, ?it/s]"
      ]
     },
     "metadata": {},
     "output_type": "display_data"
    },
    {
     "data": {
      "text/html": [
       "<div>\n",
       "<style scoped>\n",
       "    .dataframe tbody tr th:only-of-type {\n",
       "        vertical-align: middle;\n",
       "    }\n",
       "\n",
       "    .dataframe tbody tr th {\n",
       "        vertical-align: top;\n",
       "    }\n",
       "\n",
       "    .dataframe thead th {\n",
       "        text-align: right;\n",
       "    }\n",
       "</style>\n",
       "<table border=\"1\" class=\"dataframe\">\n",
       "  <thead>\n",
       "    <tr style=\"text-align: right;\">\n",
       "      <th></th>\n",
       "      <th>vendor_id</th>\n",
       "      <th>pickup_datetime</th>\n",
       "      <th>dropoff_datetime</th>\n",
       "      <th>passenger_count</th>\n",
       "      <th>trip_distance</th>\n",
       "      <th>rate_code_id</th>\n",
       "      <th>store_and_fwd_flag</th>\n",
       "      <th>pickup_location_id</th>\n",
       "      <th>dropoff_location_id</th>\n",
       "      <th>payment_type</th>\n",
       "      <th>fare_amount</th>\n",
       "      <th>extra</th>\n",
       "      <th>mta_tax</th>\n",
       "      <th>tip_amount</th>\n",
       "      <th>tolls_amount</th>\n",
       "      <th>improvement_surcharge</th>\n",
       "      <th>total_amount</th>\n",
       "      <th>congestion_surcharge</th>\n",
       "    </tr>\n",
       "  </thead>\n",
       "  <tbody>\n",
       "    <tr>\n",
       "      <th>0</th>\n",
       "      <td>2</td>\n",
       "      <td>2018-12-22 18:30:39</td>\n",
       "      <td>2018-12-22 18:42:37</td>\n",
       "      <td>1</td>\n",
       "      <td>1.39</td>\n",
       "      <td>1</td>\n",
       "      <td>N</td>\n",
       "      <td>170</td>\n",
       "      <td>229</td>\n",
       "      <td>2</td>\n",
       "      <td>9.0</td>\n",
       "      <td>0.0</td>\n",
       "      <td>0.5</td>\n",
       "      <td>0.00</td>\n",
       "      <td>0.0</td>\n",
       "      <td>0.3</td>\n",
       "      <td>9.80</td>\n",
       "      <td>NaN</td>\n",
       "    </tr>\n",
       "    <tr>\n",
       "      <th>1</th>\n",
       "      <td>2</td>\n",
       "      <td>2018-12-29 14:46:47</td>\n",
       "      <td>2018-12-29 15:07:41</td>\n",
       "      <td>1</td>\n",
       "      <td>3.77</td>\n",
       "      <td>1</td>\n",
       "      <td>N</td>\n",
       "      <td>68</td>\n",
       "      <td>140</td>\n",
       "      <td>1</td>\n",
       "      <td>16.0</td>\n",
       "      <td>0.0</td>\n",
       "      <td>0.5</td>\n",
       "      <td>5.04</td>\n",
       "      <td>0.0</td>\n",
       "      <td>0.3</td>\n",
       "      <td>21.84</td>\n",
       "      <td>NaN</td>\n",
       "    </tr>\n",
       "    <tr>\n",
       "      <th>2</th>\n",
       "      <td>1</td>\n",
       "      <td>2018-12-01 16:04:05</td>\n",
       "      <td>2018-12-01 16:45:20</td>\n",
       "      <td>1</td>\n",
       "      <td>4.90</td>\n",
       "      <td>1</td>\n",
       "      <td>N</td>\n",
       "      <td>263</td>\n",
       "      <td>249</td>\n",
       "      <td>1</td>\n",
       "      <td>26.5</td>\n",
       "      <td>0.0</td>\n",
       "      <td>0.5</td>\n",
       "      <td>5.46</td>\n",
       "      <td>0.0</td>\n",
       "      <td>0.3</td>\n",
       "      <td>32.76</td>\n",
       "      <td>NaN</td>\n",
       "    </tr>\n",
       "    <tr>\n",
       "      <th>3</th>\n",
       "      <td>1</td>\n",
       "      <td>2018-12-31 15:28:07</td>\n",
       "      <td>2018-12-31 15:28:16</td>\n",
       "      <td>0</td>\n",
       "      <td>0.00</td>\n",
       "      <td>5</td>\n",
       "      <td>N</td>\n",
       "      <td>132</td>\n",
       "      <td>132</td>\n",
       "      <td>1</td>\n",
       "      <td>70.0</td>\n",
       "      <td>0.0</td>\n",
       "      <td>0.0</td>\n",
       "      <td>0.00</td>\n",
       "      <td>0.0</td>\n",
       "      <td>0.3</td>\n",
       "      <td>70.30</td>\n",
       "      <td>NaN</td>\n",
       "    </tr>\n",
       "    <tr>\n",
       "      <th>4</th>\n",
       "      <td>2</td>\n",
       "      <td>2018-12-31 18:13:34</td>\n",
       "      <td>2018-12-31 18:41:03</td>\n",
       "      <td>1</td>\n",
       "      <td>6.74</td>\n",
       "      <td>1</td>\n",
       "      <td>N</td>\n",
       "      <td>162</td>\n",
       "      <td>116</td>\n",
       "      <td>1</td>\n",
       "      <td>24.5</td>\n",
       "      <td>1.0</td>\n",
       "      <td>0.5</td>\n",
       "      <td>5.26</td>\n",
       "      <td>0.0</td>\n",
       "      <td>0.3</td>\n",
       "      <td>31.56</td>\n",
       "      <td>NaN</td>\n",
       "    </tr>\n",
       "  </tbody>\n",
       "</table>\n",
       "</div>"
      ],
      "text/plain": [
       "   vendor_id      pickup_datetime     dropoff_datetime  passenger_count  \\\n",
       "0          2  2018-12-22 18:30:39  2018-12-22 18:42:37                1   \n",
       "1          2  2018-12-29 14:46:47  2018-12-29 15:07:41                1   \n",
       "2          1  2018-12-01 16:04:05  2018-12-01 16:45:20                1   \n",
       "3          1  2018-12-31 15:28:07  2018-12-31 15:28:16                0   \n",
       "4          2  2018-12-31 18:13:34  2018-12-31 18:41:03                1   \n",
       "\n",
       "   trip_distance  rate_code_id store_and_fwd_flag  pickup_location_id  \\\n",
       "0           1.39             1                  N                 170   \n",
       "1           3.77             1                  N                  68   \n",
       "2           4.90             1                  N                 263   \n",
       "3           0.00             5                  N                 132   \n",
       "4           6.74             1                  N                 162   \n",
       "\n",
       "   dropoff_location_id  payment_type  fare_amount  extra  mta_tax  tip_amount  \\\n",
       "0                  229             2          9.0    0.0      0.5        0.00   \n",
       "1                  140             1         16.0    0.0      0.5        5.04   \n",
       "2                  249             1         26.5    0.0      0.5        5.46   \n",
       "3                  132             1         70.0    0.0      0.0        0.00   \n",
       "4                  116             1         24.5    1.0      0.5        5.26   \n",
       "\n",
       "   tolls_amount  improvement_surcharge  total_amount  congestion_surcharge  \n",
       "0           0.0                    0.3          9.80                   NaN  \n",
       "1           0.0                    0.3         21.84                   NaN  \n",
       "2           0.0                    0.3         32.76                   NaN  \n",
       "3           0.0                    0.3         70.30                   NaN  \n",
       "4           0.0                    0.3         31.56                   NaN  "
      ]
     },
     "execution_count": 47,
     "metadata": {},
     "output_type": "execute_result"
    }
   ],
   "source": [
    "validator.head()"
   ]
  },
  {
   "cell_type": "markdown",
   "id": "ffa313e2",
   "metadata": {},
   "source": [
    "Let's say that you were interested in constructing an Expectation that captured the average distance for taxi trips during a year. \n",
    "\n",
    "You find the `expect_column_mean_to_be_between()` Expectation, but realize that there are `min_value` and `max_value` to input. How do you calculate these upper and lower bounds?  Well the good news is that `ExpectColumnMeanToBeBetween` is a self-initializing Expectation, which means the only thing you need to do is run the Expectation with `auto=True`. "
   ]
  },
  {
   "cell_type": "code",
   "execution_count": 48,
   "id": "d064d6ef-6ce2-4669-a8cc-cae6cfd54ae3",
   "metadata": {},
   "outputs": [
    {
     "data": {
      "application/vnd.jupyter.widget-view+json": {
       "model_id": "9445f79e2bad495abed660bb951cad06",
       "version_major": 2,
       "version_minor": 0
      },
      "text/plain": [
       "Profiling Dataset:   0%|          | 0/1 [00:00<?, ?it/s]"
      ]
     },
     "metadata": {},
     "output_type": "display_data"
    },
    {
     "name": "stdout",
     "output_type": "stream",
     "text": [
      "\n"
     ]
    },
    {
     "data": {
      "application/vnd.jupyter.widget-view+json": {
       "model_id": "040c0438d4b64a9083b62a7a6eaefff9",
       "version_major": 2,
       "version_minor": 0
      },
      "text/plain": [
       "Calculating Metrics:   0%|          | 0/4 [00:00<?, ?it/s]"
      ]
     },
     "metadata": {},
     "output_type": "display_data"
    },
    {
     "data": {
      "text/plain": [
       "{\n",
       "  \"expectation_config\": {\n",
       "    \"kwargs\": {\n",
       "      \"column\": \"trip_distance\",\n",
       "      \"min_value\": 2.83,\n",
       "      \"max_value\": 3.06,\n",
       "      \"strict_min\": false,\n",
       "      \"strict_max\": false\n",
       "    },\n",
       "    \"expectation_type\": \"expect_column_mean_to_be_between\",\n",
       "    \"meta\": {\n",
       "      \"auto_generated_at\": \"20220518T000057.645356Z\",\n",
       "      \"great_expectations_version\": \"0.15.4+75.g8e39c2f80.dirty\"\n",
       "    }\n",
       "  },\n",
       "  \"result\": {\n",
       "    \"observed_value\": 2.926081\n",
       "  },\n",
       "  \"exception_info\": {\n",
       "    \"raised_exception\": false,\n",
       "    \"exception_traceback\": null,\n",
       "    \"exception_message\": null\n",
       "  },\n",
       "  \"success\": true,\n",
       "  \"meta\": {}\n",
       "}"
      ]
     },
     "execution_count": 48,
     "metadata": {},
     "output_type": "execute_result"
    }
   ],
   "source": [
    "validator.expect_column_mean_to_be_between(column=\"trip_distance\", auto=True)"
   ]
  },
  {
   "cell_type": "markdown",
   "id": "333da5f0",
   "metadata": {},
   "source": [
    "Then the Expectation will calculate the `min_value` (`2.83`) and `max_value` (`3.06`) using all the `Batches` that are loaded into the Validator, in our case the 12 batches associated with 2018 `taxi_data`. "
   ]
  },
  {
   "cell_type": "markdown",
   "id": "7a280e69",
   "metadata": {},
   "source": [
    "Now the Expectation can be saved to the ExpectaionSuite associated with the Validator, with the upper and lower bounds having come from the Batches."
   ]
  },
  {
   "cell_type": "markdown",
   "id": "d09a8920",
   "metadata": {},
   "source": [
    "# What has happened? How can I write one on my own?"
   ]
  },
  {
   "cell_type": "markdown",
   "id": "1edb05aa",
   "metadata": {},
   "source": [
    "Inside each of the Expectatations is a RuleBasedProfiler configuration that is run by the Validator when building the `ExpectationConfiguration`. The values that are calculated are found in the"
   ]
  },
  {
   "cell_type": "markdown",
   "id": "fd520b57",
   "metadata": {},
   "source": [
    "```python\n",
    "mean_range_estimator_parameter_builder_config: ParameterBuilderConfig = ParameterBuilderConfig(\n",
    "        module_name=\"great_expectations.rule_based_profiler.parameter_builder\",\n",
    "        class_name=\"NumericMetricRangeMultiBatchParameterBuilder\",\n",
    "        name=\"mean_range_estimator\",\n",
    "        metric_name=\"column.mean\",\n",
    "        metric_domain_kwargs=DOMAIN_KWARGS_PARAMETER_FULLY_QUALIFIED_NAME, \n",
    "        metric_value_kwargs=None,\n",
    "        enforce_numeric_metric=True,\n",
    "        replace_nan_with_zero=True,\n",
    "        reduce_scalar_metric=True,\n",
    "        false_positive_rate=f\"{VARIABLES_KEY}false_positive_rate\",\n",
    "        quantile_statistic_interpolation_method=f\"{VARIABLES_KEY}quantile_statistic_interpolation_method\",\n",
    "        estimator=f\"{VARIABLES_KEY}estimator\",\n",
    "        n_resamples=f\"{VARIABLES_KEY}n_resamples\",\n",
    "        random_seed=f\"{VARIABLES_KEY}random_seed\",\n",
    "        include_estimator_samples_histogram_in_details=f\"{VARIABLES_KEY}include_estimator_samples_histogram_in_details\",\n",
    "        truncate_values=f\"{VARIABLES_KEY}truncate_values\",\n",
    "        round_decimals=f\"{VARIABLES_KEY}round_decimals\",\n",
    "        evaluation_parameter_builder_configs=None,\n",
    "        json_serialize=True,\n",
    "    )\n",
    "```"
   ]
  },
  {
   "cell_type": "markdown",
   "id": "e0bba258",
   "metadata": {},
   "source": [
    "```python\n",
    "validation_parameter_builder_configs: List[ParameterBuilderConfig] = [\n",
    "        mean_range_estimator_parameter_builder_config,\n",
    "    ] \n",
    "```"
   ]
  },
  {
   "cell_type": "markdown",
   "id": "84d85637",
   "metadata": {},
   "source": [
    "```python\n",
    "default_profiler_config: RuleBasedProfilerConfig = RuleBasedProfilerConfig(\n",
    "        name=\"expect_column_mean_to_be_between\",  # Convention: use \"expectation_type\" as profiler name.\n",
    "        config_version=1.0,\n",
    "        variables={},\n",
    "        rules={\n",
    "            \"default_expect_column_mean_to_be_between_rule\": {\n",
    "                \"variables\": {\n",
    "                    \"strict_min\": False,\n",
    "                    \"strict_max\": False,\n",
    "                    \"false_positive_rate\": 0.05,\n",
    "                    \"quantile_statistic_interpolation_method\": \"auto\",\n",
    "                    \"estimator\": \"bootstrap\",\n",
    "                    \"n_resamples\": 9999,\n",
    "                    \"random_seed\": None,\n",
    "                    \"include_estimator_samples_histogram_in_details\": False,\n",
    "                    \"truncate_values\": {\n",
    "                        \"lower_bound\": None,\n",
    "                        \"upper_bound\": None,\n",
    "                    },\n",
    "                    \"round_decimals\": 2,\n",
    "                },\n",
    "                \"domain_builder\": {\n",
    "                    \"class_name\": \"ColumnDomainBuilder\",\n",
    "                    \"module_name\": \"great_expectations.rule_based_profiler.domain_builder\",\n",
    "                },\n",
    "                \"expectation_configuration_builders\": [\n",
    "                    {\n",
    "                        \"expectation_type\": \"expect_column_mean_to_be_between\",\n",
    "                        \"class_name\": \"DefaultExpectationConfigurationBuilder\",\n",
    "                        \"module_name\": \"great_expectations.rule_based_profiler.expectation_configuration_builder\",\n",
    "                        \"validation_parameter_builder_configs\": validation_parameter_builder_configs,\n",
    "                        \"column\": f\"{DOMAIN_KWARGS_PARAMETER_FULLY_QUALIFIED_NAME}{FULLY_QUALIFIED_PARAMETER_NAME_SEPARATOR_CHARACTER}column\",\n",
    "                        \"min_value\": f\"{PARAMETER_KEY}{mean_range_estimator_parameter_builder_config.name}{FULLY_QUALIFIED_PARAMETER_NAME_SEPARATOR_CHARACTER}{FULLY_QUALIFIED_PARAMETER_NAME_VALUE_KEY}[0]\",\n",
    "                        \"max_value\": f\"{PARAMETER_KEY}{mean_range_estimator_parameter_builder_config.name}{FULLY_QUALIFIED_PARAMETER_NAME_SEPARATOR_CHARACTER}{FULLY_QUALIFIED_PARAMETER_NAME_VALUE_KEY}[1]\",\n",
    "                        \"strict_min\": f\"{VARIABLES_KEY}strict_min\",\n",
    "                        \"strict_max\": f\"{VARIABLES_KEY}strict_max\",\n",
    "                        \"meta\": {\n",
    "                            \"profiler_details\": f\"{PARAMETER_KEY}{mean_range_estimator_parameter_builder_config.name}{FULLY_QUALIFIED_PARAMETER_NAME_SEPARATOR_CHARACTER}{FULLY_QUALIFIED_PARAMETER_NAME_METADATA_KEY}\",\n",
    "                        },\n",
    "                    },\n",
    "                ],\n",
    "            },\n",
    "        },\n",
    "    )\n",
    "```"
   ]
  },
  {
   "cell_type": "markdown",
   "id": "35e2484c",
   "metadata": {
    "collapsed": true
   },
   "source": [
    "# From Rachel\n",
    "\n",
    "- domain builder key : \n",
    "    - class name and module name. \n",
    "- all of these together will look liek this. \n",
    "\n",
    "\n",
    "1. make this human readable. \n",
    "2. go through the list of keys and ane xplain what values are appropriate for this key :\n",
    "    \n",
    "    - example of all of this together. \n",
    "    - refer to RBP notebook  (heading blah blah) in repo. just state what sort of class each piece is. \n"
   ]
  },
  {
   "cell_type": "code",
   "execution_count": null,
   "id": "a8af3f64-301d-422e-8f5a-aa70651b029c",
   "metadata": {},
   "outputs": [],
   "source": [
    "* What should we talk about? *\n",
    "* `ParameterBuilderConfiguration`, which "
   ]
  },
  {
   "cell_type": "code",
   "execution_count": null,
   "id": "cebd1fe4-aabe-47cb-9a52-668b1c0982b7",
   "metadata": {},
   "outputs": [],
   "source": [
    "* they have a `RuleBasedProfilerConfig` with some default value. \n",
    "* and when we run it.. hwat\n",
    "* we have RuleBasedProfiler is the engine in which we can do this.... create the value . \n",
    "* we only hwant to make asomething. \n",
    "* want to have hte data. \n",
    "  - load batch.\n",
    "  - estimate value.\n",
    "  - what are the parameters?\n",
    "\n",
    "# How to write a self-initializing Expectation\n",
    "  - how to write self-initializing Expectation?\n",
    "  - Let's start with\n",
    "    - ProfilerConfiguration\n",
    "    - DomainBuider\n",
    "    - ParameterBuilder\n",
    "    - test\n"
   ]
  },
  {
   "cell_type": "code",
   "execution_count": null,
   "id": "8e7fd385-2d3b-4e9b-afbd-923c326a6cde",
   "metadata": {},
   "outputs": [],
   "source": [
    "# What is average trip distance? \n",
    "res = validator.expect_column_values_to_be_between(\n",
    "        column=\"trip_distance\",\n",
    "        result_format=\"COMPLETE\",\n",
    "        include_config=True,\n",
    "        auto=True,\n",
    "        profiler_config=None,\n",
    "    )\n"
   ]
  },
  {
   "cell_type": "code",
   "execution_count": null,
   "id": "52b4bb7c-f323-404b-ac87-5ebaa03a52be",
   "metadata": {},
   "outputs": [],
   "source": [
    "validator.save_expectation_suite()"
   ]
  },
  {
   "cell_type": "code",
   "execution_count": null,
   "id": "fc7bbc1a-f1b4-418a-8898-f903be395ac1",
   "metadata": {},
   "outputs": [],
   "source": [
    "# max_value:63.3\n",
    "# min_value:0"
   ]
  },
  {
   "cell_type": "code",
   "execution_count": null,
   "id": "6b2bed49-3996-4e4b-9153-545b58acfe57",
   "metadata": {},
   "outputs": [],
   "source": [
    " batch_request: dict = {\n",
    "        \"datasource_name\": \"taxi_pandas\",\n",
    "        \"data_connector_name\": \"monthly\",\n",
    "        \"data_asset_name\": \"my_reports\",\n",
    "    }\n",
    "\n",
    "    validator: Validator = get_validator_with_expectation_suite(\n",
    "        batch_request=batch_request,\n",
    "        data_context=context,\n",
    "        expectation_suite_name=None,\n",
    "        expectation_suite=None,\n",
    "        component_name=\"profiler\",\n",
    "    )\n"
   ]
  },
  {
   "cell_type": "code",
   "execution_count": null,
   "id": "d246510e-76ef-4304-ac9f-0800386b3b4a",
   "metadata": {},
   "outputs": [],
   "source": [
    "\n",
    "batch_request = materialize_batch_request(batch_request=batch_request)\n",
    "validator: \"Validator\" = data_context.get_validator(  # noqa: F821\n",
    "    batch_request=batch_request,\n",
    "    expectation_suite=expectation_suite,\n",
    ")\n",
    "\n",
    "return validator"
   ]
  },
  {
   "cell_type": "markdown",
   "id": "cf71cfb0",
   "metadata": {},
   "source": [
    "# how do you write a self -initializiag\n",
    "### How do I know if my Expectations can be self-initializing?  \n",
    "  - If the Expectation only requires a `Domain` value as a parameter, like Column Name, Table, or Column Pairs, then it cannot be self-initializing.\n",
    "  - If the Expectation requires a numeric range, `ExpectColumnMeanToBeBetween` or `ExpectColumnMedianToBeBetween`, then they **can** be self-initializing. \n",
    "  - If the Expectation requires a set, like `expect_column_values_to_match_regex` then the **can** be self-initializing in limited cases. "
   ]
  },
  {
   "cell_type": "markdown",
   "id": "72b7fbc5",
   "metadata": {},
   "source": [
    "It can be found in `parameter_container.py`, but they break down to the following:\n",
    "* `PARAMETER_KEY` : \n",
    "* `VARIABLES_KEY` : `$variables.false_positive_rate` \n",
    "* `DOMAIN_KWARGS_PARAMETER_FULLY_QUALIFIED_NAME`: `$domain.domain_kwargs`\n",
    "* `FULLY_QUALIFIED_PARAMETER_NAME_SEPARATOR_CHARACTER`: `.`\n",
    "* `FULLY_QUALIFIED_PARAMETER_NAME_VALUE_KEY`: `value`\n",
    "* `FULLY_QUALIFIED_PARAMETER_NAME_METADATA_KEY`: `details`"
   ]
  },
  {
   "cell_type": "code",
   "execution_count": null,
   "id": "e2ab5496",
   "metadata": {},
   "outputs": [],
   "source": []
  }
 ],
 "metadata": {
  "kernelspec": {
   "display_name": "Python 3 (ipykernel)",
   "language": "python",
   "name": "python3"
  },
  "language_info": {
   "codemirror_mode": {
    "name": "ipython",
    "version": 3
   },
   "file_extension": ".py",
   "mimetype": "text/x-python",
   "name": "python",
   "nbconvert_exporter": "python",
   "pygments_lexer": "ipython3",
   "version": "3.8.3"
  }
 },
 "nbformat": 4,
 "nbformat_minor": 5
}
