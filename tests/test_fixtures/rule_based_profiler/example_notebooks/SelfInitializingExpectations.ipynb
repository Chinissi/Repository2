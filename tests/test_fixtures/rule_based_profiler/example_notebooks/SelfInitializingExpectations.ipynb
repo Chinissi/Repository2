{
 "cells": [
  {
   "cell_type": "code",
   "execution_count": 1,
   "id": "cda410dd-b44e-4456-b04b-57537b635654",
   "metadata": {},
   "outputs": [
    {
     "name": "stderr",
     "output_type": "stream",
     "text": [
      "/Users/work/Development/ENVs/supercon_ge/lib/python3.8/site-packages/snowflake/connector/options.py:94: UserWarning: You have an incompatible version of 'pyarrow' installed (7.0.0), please install a version that adheres to: 'pyarrow<3.1.0,>=3.0.0; extra == \"pandas\"'\n",
      "  warn_incompatible_dep(\n"
     ]
    }
   ],
   "source": [
    "import great_expectations as ge\n",
    "\n",
    "from ruamel import yaml\n",
    "\n",
    "from great_expectations.core.batch import BatchRequest\n",
    "\n",
    "from great_expectations.rule_based_profiler.rule.rule import Rule\n",
    "from great_expectations.rule_based_profiler.rule_based_profiler import RuleBasedProfiler, RuleBasedProfilerResult\n",
    "\n",
    "from great_expectations.rule_based_profiler.domain_builder import (\n",
    "    DomainBuilder,\n",
    "    ColumnDomainBuilder,\n",
    ")\n",
    "from great_expectations.rule_based_profiler.parameter_builder import (\n",
    "    MetricMultiBatchParameterBuilder,\n",
    ")\n",
    "from great_expectations.rule_based_profiler.expectation_configuration_builder import (\n",
    "    DefaultExpectationConfigurationBuilder,\n",
    ")\n",
    "from great_expectations.validator.validator import Validator"
   ]
  },
  {
   "cell_type": "markdown",
   "id": "a25cb0ae-94d9-4584-ac3a-6d5685ca2201",
   "metadata": {},
   "source": [
    "# Self-Initializing Expectations\n",
    "- Self-initializing `Expectations` utilize `RuleBasedProfilers` to automate parameter estimation for Expectations using a Batch or Batches that have been loaded. \n",
    "\n",
    "### Does this mean they work for all `Expectations`?\n",
    "- No, not all `Expectations` have parameters that can be estimated. As an example, `ExpectColumnToExist` only takes in a Domain (`column_name`)  and outputs whether the values in the column are `None`. It would be an example of an `Expectation` that would not work under the self-initializing framework. \n",
    "- An example of an `Expectation` that would work under the self-initializing framework would be ones that have numeric ranges, like `ExpectColumnMeanToBeBetween`, `ExpectColumnMaxToBeBetween`, and `ExpectColumnSumToBeBetween`\n",
    "- To check whether the `Expectation` you are interested in by running the `is_expectation_self_initializing()` method on `Validator`. "
   ]
  },
  {
   "cell_type": "code",
   "execution_count": 3,
   "id": "bd6ae172",
   "metadata": {},
   "outputs": [
    {
     "name": "stdout",
     "output_type": "stream",
     "text": [
      "The Expectation expect_column_to_exist is not able to be self-initialized.\n"
     ]
    },
    {
     "data": {
      "text/plain": [
       "False"
      ]
     },
     "execution_count": 3,
     "metadata": {},
     "output_type": "execute_result"
    }
   ],
   "source": [
    "Validator.is_expectation_self_initializing(name=\"expect_column_to_exist\")"
   ]
  },
  {
   "cell_type": "code",
   "execution_count": 4,
   "id": "827ce65d",
   "metadata": {},
   "outputs": [
    {
     "name": "stdout",
     "output_type": "stream",
     "text": [
      "The Expectation expect_column_mean_to_be_between is able to be self-initialized. Please run by using the auto=True parameter.\n"
     ]
    },
    {
     "data": {
      "text/plain": [
       "True"
      ]
     },
     "execution_count": 4,
     "metadata": {},
     "output_type": "execute_result"
    }
   ],
   "source": [
    "Validator.is_expectation_self_initializing(name=\"expect_column_mean_to_be_between\")"
   ]
  },
  {
   "cell_type": "markdown",
   "id": "1f68faa9",
   "metadata": {},
   "source": [
    "# Set-up"
   ]
  },
  {
   "cell_type": "markdown",
   "id": "492f223a",
   "metadata": {},
   "source": [
    "* To setup an example usecase for self-initializing `Expectations`, we will start from a new Great Expectations Data Context (ie `great_expectations` folder after running `great_expectations init`), and begin by adding the `Datasource`, and configuring a `BatchRequest`"
   ]
  },
  {
   "cell_type": "code",
   "execution_count": null,
   "id": "fc7c8362-2bb2-4c1e-83ca-23c5d253f020",
   "metadata": {},
   "outputs": [],
   "source": [
    "data_context: ge.DataContext = ge.get_context()"
   ]
  },
  {
   "cell_type": "markdown",
   "id": "96d1da15-120d-49d9-ac03-ec036a8f0aad",
   "metadata": {},
   "source": [
    "### Adding taxi_data Datasource\n",
    "Add `taxi_data` as a new `Datasource`\n",
    "We are using an `InferredAssetFilesystemDataConnector` to connect to data in the `test_sets/taxi_yellow_tripdata_samples` folder and get one `DataAsset` (`yellow_tripdata_sample_2018`) that has 12 Batches (1 Batch/month)."
   ]
  },
  {
   "cell_type": "code",
   "execution_count": null,
   "id": "3da1f552-a14f-4d33-a5ab-3680f9999215",
   "metadata": {},
   "outputs": [],
   "source": [
    "data_path: str = \"../../../../test_sets/taxi_yellow_tripdata_samples\"\n",
    "\n",
    "datasource_config = {\n",
    "    \"name\": \"taxi_multi_batch_datasource\",\n",
    "    \"class_name\": \"Datasource\",\n",
    "    \"module_name\": \"great_expectations.datasource\",\n",
    "    \"execution_engine\": {\n",
    "        \"module_name\": \"great_expectations.execution_engine\",\n",
    "        \"class_name\": \"PandasExecutionEngine\",\n",
    "    },\n",
    "    \"data_connectors\": {\n",
    "        \"2018_data\": {\n",
    "            \"class_name\": \"InferredAssetFilesystemDataConnector\",\n",
    "            \"base_directory\": data_path,\n",
    "            \"default_regex\": {\n",
    "                \"group_names\": [\"data_asset_name\", \"month\"],\n",
    "                \"pattern\": \"(yellow_tripdata_sample_2018)-(\\\\d.*)\\\\.csv\",\n",
    "            },\n",
    "        },\n",
    "    },\n",
    "}\n",
    "\n",
    "data_context.test_yaml_config(yaml.dump(datasource_config))\n"
   ]
  },
  {
   "cell_type": "code",
   "execution_count": null,
   "id": "cd011ba5-9bbc-4c8c-8cb7-a886edcbb4e5",
   "metadata": {},
   "outputs": [],
   "source": [
    "# add_datasource only if it doesn't already exist in our configuration\n",
    "try:\n",
    "    data_context.get_datasource(datasource_config[\"name\"])\n",
    "except ValueError:\n",
    "    data_context.add_datasource(**datasource_config)"
   ]
  },
  {
   "cell_type": "markdown",
   "id": "11c741ea",
   "metadata": {},
   "source": [
    "### Configuring BatchRequest\n",
    "In this example, we will be using a `BatchRequest` that returns 12 `Batches` of data from the 2018 `taxi_data` datataset."
   ]
  },
  {
   "cell_type": "code",
   "execution_count": null,
   "id": "0f2a40e3-4f9a-488d-9a28-ccb29531ba87",
   "metadata": {},
   "outputs": [],
   "source": [
    "batch_request_2018_data: BatchRequest = BatchRequest(\n",
    "    datasource_name=\"taxi_multi_batch_datasource\",\n",
    "    data_connector_name=\"2018_data\",\n",
    "    data_asset_name=\"yellow_tripdata_sample_2018\",\n",
    ")"
   ]
  },
  {
   "cell_type": "markdown",
   "id": "20a6f3f1",
   "metadata": {},
   "source": [
    "### Get Validator"
   ]
  },
  {
   "cell_type": "markdown",
   "id": "408a6f0c",
   "metadata": {},
   "source": [
    "Load `taxi_data` into a `Validator` using the `BatchRequest` from the previous step."
   ]
  },
  {
   "cell_type": "code",
   "execution_count": null,
   "id": "d900f504-3029-463c-a017-c34a1aa2c42d",
   "metadata": {},
   "outputs": [],
   "source": [
    "suite = data_context.create_expectation_suite(expectation_suite_name=\"new_expectation_suite\", overwrite_existing=True\n",
    ")"
   ]
  },
  {
   "cell_type": "code",
   "execution_count": null,
   "id": "b682164f-6a5d-4794-a786-fa5c4e239ed7",
   "metadata": {},
   "outputs": [],
   "source": [
    "validator = data_context.get_validator(expectation_suite=suite, batch_request=multi_batch_batch_request)"
   ]
  },
  {
   "cell_type": "markdown",
   "id": "86cea0a1",
   "metadata": {},
   "source": [
    "Check that the number of batches in our validator is 12 (1 batch / month for 2018)"
   ]
  },
  {
   "cell_type": "code",
   "execution_count": null,
   "id": "f604195e-f157-4232-83e0-10860ca49994",
   "metadata": {},
   "outputs": [],
   "source": [
    "assert len(validator.batches) == 12"
   ]
  },
  {
   "cell_type": "markdown",
   "id": "31bf7beb",
   "metadata": {},
   "source": [
    "# Running Self-Initializing Expectation"
   ]
  },
  {
   "cell_type": "markdown",
   "id": "f70ea62e",
   "metadata": {},
   "source": [
    "Now we have all the components we need to build an ExpectationSuite by using a Validator. Let's first look at our data by running `validator.head()` which will output the first few rows of our most recent (December) Batch."
   ]
  },
  {
   "cell_type": "code",
   "execution_count": null,
   "id": "03f8d782",
   "metadata": {},
   "outputs": [],
   "source": [
    "validator.head()"
   ]
  },
  {
   "cell_type": "markdown",
   "id": "ffa313e2",
   "metadata": {},
   "source": [
    "Let's say that you were interested in constructing an Expectation that captured the average distance for taxi trips during a year. \n",
    "\n",
    "You find the `expect_column_mean_to_be_between()` Expectation, but realize that there are `min_value` and `max_value` to input. How do you calculate these upper and lower bounds?  Well the good news is that `ExpectColumnMeanToBeBetween` is a self-initializing Expectation, which means the only thing you need to do is run the Expectation with `auto=True`. "
   ]
  },
  {
   "cell_type": "code",
   "execution_count": null,
   "id": "d064d6ef-6ce2-4669-a8cc-cae6cfd54ae3",
   "metadata": {},
   "outputs": [],
   "source": [
    "validator.expect_column_mean_to_be_between(column=\"trip_distance\", auto=True)"
   ]
  },
  {
   "cell_type": "markdown",
   "id": "333da5f0",
   "metadata": {},
   "source": [
    "Then the Expectation will calculate the `min_value` (`2.83`) and `max_value` (`3.06`) using all the `Batches` that are loaded into the Validator, in our case the 12 batches associated with 2018 `taxi_data`. "
   ]
  },
  {
   "cell_type": "markdown",
   "id": "7a280e69",
   "metadata": {},
   "source": [
    "Now the Expectation can be saved to the ExpectaionSuite associated with the Validator, with the upper and lower bounds having come from the Batches."
   ]
  },
  {
   "cell_type": "markdown",
   "id": "d09a8920",
   "metadata": {},
   "source": [
    "# What has happened? How can I write one on my own?"
   ]
  },
  {
   "cell_type": "markdown",
   "id": "1edb05aa",
   "metadata": {},
   "source": [
    "Inside each of the Expectatations is a RuleBasedProfiler configuration that is run by the Validator when building the `ExpectationConfiguration`. The values that are calculated are found in the"
   ]
  },
  {
   "cell_type": "markdown",
   "id": "fd520b57",
   "metadata": {},
   "source": [
    "```python\n",
    "mean_range_estimator_parameter_builder_config: ParameterBuilderConfig = ParameterBuilderConfig(\n",
    "        module_name=\"great_expectations.rule_based_profiler.parameter_builder\",\n",
    "        class_name=\"NumericMetricRangeMultiBatchParameterBuilder\",\n",
    "        name=\"mean_range_estimator\",\n",
    "        metric_name=\"column.mean\",\n",
    "        metric_domain_kwargs=DOMAIN_KWARGS_PARAMETER_FULLY_QUALIFIED_NAME, \n",
    "        metric_value_kwargs=None,\n",
    "        enforce_numeric_metric=True,\n",
    "        replace_nan_with_zero=True,\n",
    "        reduce_scalar_metric=True,\n",
    "        false_positive_rate=f\"{VARIABLES_KEY}false_positive_rate\",\n",
    "        quantile_statistic_interpolation_method=f\"{VARIABLES_KEY}quantile_statistic_interpolation_method\",\n",
    "        estimator=f\"{VARIABLES_KEY}estimator\",\n",
    "        n_resamples=f\"{VARIABLES_KEY}n_resamples\",\n",
    "        random_seed=f\"{VARIABLES_KEY}random_seed\",\n",
    "        include_estimator_samples_histogram_in_details=f\"{VARIABLES_KEY}include_estimator_samples_histogram_in_details\",\n",
    "        truncate_values=f\"{VARIABLES_KEY}truncate_values\",\n",
    "        round_decimals=f\"{VARIABLES_KEY}round_decimals\",\n",
    "        evaluation_parameter_builder_configs=None,\n",
    "        json_serialize=True,\n",
    "    )\n",
    "```"
   ]
  },
  {
   "cell_type": "markdown",
   "id": "e0bba258",
   "metadata": {},
   "source": [
    "```python\n",
    "validation_parameter_builder_configs: List[ParameterBuilderConfig] = [\n",
    "        mean_range_estimator_parameter_builder_config,\n",
    "    ] \n",
    "```"
   ]
  },
  {
   "cell_type": "markdown",
   "id": "84d85637",
   "metadata": {},
   "source": [
    "```python\n",
    "default_profiler_config: RuleBasedProfilerConfig = RuleBasedProfilerConfig(\n",
    "        name=\"expect_column_mean_to_be_between\",  # Convention: use \"expectation_type\" as profiler name.\n",
    "        config_version=1.0,\n",
    "        variables={},\n",
    "        rules={\n",
    "            \"default_expect_column_mean_to_be_between_rule\": {\n",
    "                \"variables\": {\n",
    "                    \"strict_min\": False,\n",
    "                    \"strict_max\": False,\n",
    "                    \"false_positive_rate\": 0.05,\n",
    "                    \"quantile_statistic_interpolation_method\": \"auto\",\n",
    "                    \"estimator\": \"bootstrap\",\n",
    "                    \"n_resamples\": 9999,\n",
    "                    \"random_seed\": None,\n",
    "                    \"include_estimator_samples_histogram_in_details\": False,\n",
    "                    \"truncate_values\": {\n",
    "                        \"lower_bound\": None,\n",
    "                        \"upper_bound\": None,\n",
    "                    },\n",
    "                    \"round_decimals\": 2,\n",
    "                },\n",
    "                \"domain_builder\": {\n",
    "                    \"class_name\": \"ColumnDomainBuilder\",\n",
    "                    \"module_name\": \"great_expectations.rule_based_profiler.domain_builder\",\n",
    "                },\n",
    "                \"expectation_configuration_builders\": [\n",
    "                    {\n",
    "                        \"expectation_type\": \"expect_column_mean_to_be_between\",\n",
    "                        \"class_name\": \"DefaultExpectationConfigurationBuilder\",\n",
    "                        \"module_name\": \"great_expectations.rule_based_profiler.expectation_configuration_builder\",\n",
    "                        \"validation_parameter_builder_configs\": validation_parameter_builder_configs,\n",
    "                        \"column\": f\"{DOMAIN_KWARGS_PARAMETER_FULLY_QUALIFIED_NAME}{FULLY_QUALIFIED_PARAMETER_NAME_SEPARATOR_CHARACTER}column\",\n",
    "                        \"min_value\": f\"{PARAMETER_KEY}{mean_range_estimator_parameter_builder_config.name}{FULLY_QUALIFIED_PARAMETER_NAME_SEPARATOR_CHARACTER}{FULLY_QUALIFIED_PARAMETER_NAME_VALUE_KEY}[0]\",\n",
    "                        \"max_value\": f\"{PARAMETER_KEY}{mean_range_estimator_parameter_builder_config.name}{FULLY_QUALIFIED_PARAMETER_NAME_SEPARATOR_CHARACTER}{FULLY_QUALIFIED_PARAMETER_NAME_VALUE_KEY}[1]\",\n",
    "                        \"strict_min\": f\"{VARIABLES_KEY}strict_min\",\n",
    "                        \"strict_max\": f\"{VARIABLES_KEY}strict_max\",\n",
    "                        \"meta\": {\n",
    "                            \"profiler_details\": f\"{PARAMETER_KEY}{mean_range_estimator_parameter_builder_config.name}{FULLY_QUALIFIED_PARAMETER_NAME_SEPARATOR_CHARACTER}{FULLY_QUALIFIED_PARAMETER_NAME_METADATA_KEY}\",\n",
    "                        },\n",
    "                    },\n",
    "                ],\n",
    "            },\n",
    "        },\n",
    "    )\n",
    "```"
   ]
  },
  {
   "cell_type": "markdown",
   "id": "35e2484c",
   "metadata": {
    "collapsed": true
   },
   "source": [
    "# From Rachel\n",
    "\n",
    "- domain builder key : \n",
    "    - class name and module name. \n",
    "- all of these together will look liek this. \n",
    "\n",
    "\n",
    "1. make this human readable. \n",
    "2. go through the list of keys and ane xplain what values are appropriate for this key :\n",
    "    \n",
    "    - example of all of this together. \n",
    "    - refer to RBP notebook  (heading blah blah) in repo. just state what sort of class each piece is. \n"
   ]
  },
  {
   "cell_type": "code",
   "execution_count": null,
   "id": "a8af3f64-301d-422e-8f5a-aa70651b029c",
   "metadata": {},
   "outputs": [],
   "source": [
    "* What should we talk about? *\n",
    "* `ParameterBuilderConfiguration`, which "
   ]
  },
  {
   "cell_type": "code",
   "execution_count": null,
   "id": "cebd1fe4-aabe-47cb-9a52-668b1c0982b7",
   "metadata": {},
   "outputs": [],
   "source": [
    "* they have a `RuleBasedProfilerConfig` with some default value. \n",
    "* and when we run it.. hwat\n",
    "* we have RuleBasedProfiler is the engine in which we can do this.... create the value . \n",
    "* we only hwant to make asomething. \n",
    "* want to have hte data. \n",
    "  - load batch.\n",
    "  - estimate value.\n",
    "  - what are the parameters?\n",
    "\n",
    "# How to write a self-initializing Expectation\n",
    "  - how to write self-initializing Expectation?\n",
    "  - Let's start with\n",
    "    - ProfilerConfiguration\n",
    "    - DomainBuider\n",
    "    - ParameterBuilder\n",
    "    - test\n"
   ]
  },
  {
   "cell_type": "code",
   "execution_count": null,
   "id": "8e7fd385-2d3b-4e9b-afbd-923c326a6cde",
   "metadata": {},
   "outputs": [],
   "source": [
    "# What is average trip distance? \n",
    "res = validator.expect_column_values_to_be_between(\n",
    "        column=\"trip_distance\",\n",
    "        result_format=\"COMPLETE\",\n",
    "        include_config=True,\n",
    "        auto=True,\n",
    "        profiler_config=None,\n",
    "    )\n"
   ]
  },
  {
   "cell_type": "code",
   "execution_count": null,
   "id": "52b4bb7c-f323-404b-ac87-5ebaa03a52be",
   "metadata": {},
   "outputs": [],
   "source": [
    "validator.save_expectation_suite()"
   ]
  },
  {
   "cell_type": "code",
   "execution_count": null,
   "id": "fc7bbc1a-f1b4-418a-8898-f903be395ac1",
   "metadata": {},
   "outputs": [],
   "source": [
    "# max_value:63.3\n",
    "# min_value:0"
   ]
  },
  {
   "cell_type": "code",
   "execution_count": null,
   "id": "6b2bed49-3996-4e4b-9153-545b58acfe57",
   "metadata": {},
   "outputs": [],
   "source": [
    " batch_request: dict = {\n",
    "        \"datasource_name\": \"taxi_pandas\",\n",
    "        \"data_connector_name\": \"monthly\",\n",
    "        \"data_asset_name\": \"my_reports\",\n",
    "    }\n",
    "\n",
    "    validator: Validator = get_validator_with_expectation_suite(\n",
    "        batch_request=batch_request,\n",
    "        data_context=context,\n",
    "        expectation_suite_name=None,\n",
    "        expectation_suite=None,\n",
    "        component_name=\"profiler\",\n",
    "    )\n"
   ]
  },
  {
   "cell_type": "code",
   "execution_count": null,
   "id": "d246510e-76ef-4304-ac9f-0800386b3b4a",
   "metadata": {},
   "outputs": [],
   "source": [
    "\n",
    "batch_request = materialize_batch_request(batch_request=batch_request)\n",
    "validator: \"Validator\" = data_context.get_validator(  # noqa: F821\n",
    "    batch_request=batch_request,\n",
    "    expectation_suite=expectation_suite,\n",
    ")\n",
    "\n",
    "return validator"
   ]
  },
  {
   "cell_type": "markdown",
   "id": "cf71cfb0",
   "metadata": {},
   "source": [
    "# how do you write a self -initializiag\n",
    "### How do I know if my Expectations can be self-initializing?  \n",
    "  - If the Expectation only requires a `Domain` value as a parameter, like Column Name, Table, or Column Pairs, then it cannot be self-initializing.\n",
    "  - If the Expectation requires a numeric range, `ExpectColumnMeanToBeBetween` or `ExpectColumnMedianToBeBetween`, then they **can** be self-initializing. \n",
    "  - If the Expectation requires a set, like `expect_column_values_to_match_regex` then the **can** be self-initializing in limited cases. "
   ]
  },
  {
   "cell_type": "markdown",
   "id": "72b7fbc5",
   "metadata": {},
   "source": [
    "It can be found in `parameter_container.py`, but they break down to the following:\n",
    "* `PARAMETER_KEY` : \n",
    "* `VARIABLES_KEY` : `$variables.false_positive_rate` \n",
    "* `DOMAIN_KWARGS_PARAMETER_FULLY_QUALIFIED_NAME`: `$domain.domain_kwargs`\n",
    "* `FULLY_QUALIFIED_PARAMETER_NAME_SEPARATOR_CHARACTER`: `.`\n",
    "* `FULLY_QUALIFIED_PARAMETER_NAME_VALUE_KEY`: `value`\n",
    "* `FULLY_QUALIFIED_PARAMETER_NAME_METADATA_KEY`: `details`"
   ]
  },
  {
   "cell_type": "code",
   "execution_count": null,
   "id": "e2ab5496",
   "metadata": {},
   "outputs": [],
   "source": []
  }
 ],
 "metadata": {
  "kernelspec": {
   "display_name": "Python 3 (ipykernel)",
   "language": "python",
   "name": "python3"
  },
  "language_info": {
   "codemirror_mode": {
    "name": "ipython",
    "version": 3
   },
   "file_extension": ".py",
   "mimetype": "text/x-python",
   "name": "python",
   "nbconvert_exporter": "python",
   "pygments_lexer": "ipython3",
   "version": "3.8.3"
  }
 },
 "nbformat": 4,
 "nbformat_minor": 5
}
