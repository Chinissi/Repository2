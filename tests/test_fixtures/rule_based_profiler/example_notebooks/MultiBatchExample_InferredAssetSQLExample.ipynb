{
  "cells": [
    {
      "cell_type": "markdown",
      "id": "7f0a5264-b003-4101-862f-45653f2aed1b",
      "metadata": {},
      "source": [
        "# How to write multi-batch `BatchRequest` - Inferred `Sql` Example\n",
        "* A `BatchRequest` facilitates the return of a `batch` of data from a configured `Datasource`. To find more about `Batches`, please refer to the [related documentation](https://docs.greatexpectations.io/docs/guides/connecting_to_your_data/how_to_get_a_batch_of_data_from_a_configured_datasource#1-construct-a-batchrequest). \n",
        "* A `BatchRequest` can return 0 or more Batches of data depending on the underlying data, and how it is configured. This guide will help you configure `BatchRequests` to return multiple batches, which can be used by\n",
        "   1. Self-Initializing Expectations to estimate parameters\n",
        "   2. DataAssistants to profile your data and create and Expectation suite with self-intialized parameters.\n",
        "   \n",
        "* Note : Multi-batch BatchRequests are not supported in `RuntimeDataConnector`."
      ]
    },
    {
      "cell_type": "code",
      "execution_count": 1,
      "id": "ee54886b-4f88-46d9-9afe-dfd8bb061e19",
      "metadata": {},
      "outputs": [],
      "source": [
        "import great_expectations as ge\n",
        "from ruamel import yaml\n",
        "from great_expectations.core.batch import BatchRequest\n",
        "import sqlite3\n",
        "import pprint\n"
      ]
    },
    {
      "cell_type": "markdown",
      "id": "bfa243d2-6905-403a-b47a-d89ba834b951",
      "metadata": {},
      "source": [
        "* Load `DataContext`"
      ]
    },
    {
      "cell_type": "code",
      "execution_count": 2,
      "id": "45b1854b-2a75-422e-83bb-5509d868e0c5",
      "metadata": {},
      "outputs": [],
      "source": [
        "data_context: ge.DataContext = ge.get_context()"
      ]
    },
    {
      "cell_type": "markdown",
      "id": "c4462320-d76e-492c-96fb-f0ff8f788851",
      "metadata": {},
      "source": [
        "## Sql Example"
      ]
    },
    {
      "cell_type": "markdown",
      "id": "a6e04726",
      "metadata": {},
      "source": [
        "### Example Database\n",
        "\n",
        "Imagine we have a database of 1 table, with `yellow_tripdata_sample_2020`, corresponding to all 12 months' `taxi_trip` data for 2020.\n"
      ]
    },
    {
      "cell_type": "code",
      "execution_count": 3,
      "id": "cd29b60b-7e16-4978-acee-0dab368cde3c",
      "metadata": {},
      "outputs": [
        {
          "name": "stdout",
          "output_type": "stream",
          "text": [
            "['yellow_tripdata_sample_2020']\n"
          ]
        }
      ],
      "source": [
        "# connect to sqlite DB, and print the existing tables\n",
        "CONNECTION_STRING = \"postgresql+psycopg2://postgres:@localhost/test_ci\"\n",
        "from sqlalchemy import create_engine\n",
        "from sqlalchemy import inspect\n",
        "engine = create_engine(CONNECTION_STRING)\n",
        "insp = inspect(engine)\n",
        "print(insp.get_table_names())"
      ]
    },
    {
      "cell_type": "markdown",
      "id": "ce6a4ace",
      "metadata": {},
      "source": [
        "## Example Configuration"
      ]
    },
    {
      "cell_type": "markdown",
      "id": "df19a29c",
      "metadata": {},
      "source": [
        "In our example, we add a Datasource named `taxi_multi_batch_sql_datasource` with 1 table. We also have a `InferredAssetSqlDataConnector` named `inferred_data_connector_multi_batch_asset`.\n",
        "\n",
        "The Dataconnector configuration also includes a `splitter_method` to split the table values into multiple batches. The splitter we use is `split_on_year_and_month`, which creates Batches according to the `pickup_datetime` column which of type `timestamp` in the database schema. \n",
        "\n",
        "\n",
        "Our configuration also includes `schema_name` that is defined as part of `introspection_directives`. For other options for the DataConnector configuration, including other `introspection_directives`, please refer to the **Appendix** below. \n",
        "\n"
      ]
    },
    {
      "cell_type": "code",
      "execution_count": 4,
      "id": "84150f65-bbd6-4b45-95ab-9590a29f116a",
      "metadata": {},
      "outputs": [
        {
          "name": "stdout",
          "output_type": "stream",
          "text": [
            "Attempting to instantiate class from config...\n",
            "\tInstantiating as a Datasource, since class_name is Datasource\n",
            "\tSuccessfully instantiated Datasource\n",
            "\n",
            "\n",
            "ExecutionEngine class name: SqlAlchemyExecutionEngine\n",
            "Data Connectors:\n",
            "\tinferred_data_connector_multi_batch_asset : InferredAssetSqlDataConnector\n",
            "\n",
            "\tAvailable data_asset_names (1 of 1):\n",
            "\t\tyellow_tripdata_sample_2020 (3 of 12): [{'pickup_datetime': {'year': 2020, 'month': 2}}, {'pickup_datetime': {'year': 2020, 'month': 7}}, {'pickup_datetime': {'year': 2020, 'month': 12}}]\n",
            "\n",
            "\tUnmatched data_references (0 of 0):[]\n",
            "\n"
          ]
        },
        {
          "data": {
            "text/plain": [
              "<great_expectations.datasource.new_datasource.Datasource at 0x7f7d61cd5e20>"
            ]
          },
          "execution_count": 4,
          "metadata": {},
          "output_type": "execute_result"
        }
      ],
      "source": [
        "datasource_config = {\n",
        "    \"name\": \"taxi_multi_batch_sql_datasource\",\n",
        "    \"class_name\": \"Datasource\",\n",
        "    \"module_name\": \"great_expectations.datasource\",\n",
        "    \"execution_engine\": {\n",
        "        \"module_name\": \"great_expectations.execution_engine\",\n",
        "        \"class_name\": \"SqlAlchemyExecutionEngine\",\n",
        "        \"connection_string\": CONNECTION_STRING,\n",
        "    },\n",
        "    \"data_connectors\": {\n",
        "        \"inferred_data_connector_multi_batch_asset\": {\n",
        "            \"class_name\": \"InferredAssetSqlDataConnector\",\n",
        "                    \"splitter_method\": \"split_on_year_and_month\",\n",
        "                    \"splitter_kwargs\": {\n",
        "                        \"column_name\": \"pickup_datetime\",\n",
        "                        },\n",
        "                    \"introspection_directives\":{\n",
        "                        \"schema_name\": \"public\"\n",
        "                        },\n",
        "                    },\n",
        "                },\n",
        "            }\n",
        "\n",
        "data_context.test_yaml_config(yaml.dump(datasource_config))\n"
      ]
    },
    {
      "cell_type": "markdown",
      "id": "9b519a93",
      "metadata": {},
      "source": [
        "We see we have successfully configured this because the output shows a 1 data asset\n",
        "\n",
        "* `yellow_tripdata_sample_2020` with 12 batches, each associated with a different month in our pickup_datetime column."
      ]
    },
    {
      "cell_type": "code",
      "execution_count": 5,
      "id": "8426f36c",
      "metadata": {},
      "outputs": [],
      "source": [
        "# add_datasource only if it doesn't already exist in our configuration\n",
        "try:\n",
        "    data_context.get_datasource(datasource_config[\"name\"])\n",
        "except ValueError:\n",
        "    data_context.add_datasource(**datasource_config)"
      ]
    },
    {
      "cell_type": "markdown",
      "id": "438146be",
      "metadata": {},
      "source": [
        "## BatchRequest"
      ]
    },
    {
      "cell_type": "markdown",
      "id": "117cdb0d",
      "metadata": {},
      "source": [
        "Depending on which `DataConnector` (ie. `Partitioner`) you send a `BatchRequest` to, you will retrieve a different number of `Batches`"
      ]
    },
    {
      "cell_type": "markdown",
      "id": "87bc9c59",
      "metadata": {},
      "source": [
        "Single Batch returned by `whole_table`"
      ]
    },
    {
      "cell_type": "code",
      "execution_count": 6,
      "id": "0453cd3c",
      "metadata": {},
      "outputs": [],
      "source": [
        "single_batch_batch_request: BatchRequest = BatchRequest(\n",
        "    datasource_name=\"taxi_multi_batch_sql_datasource\",\n",
        "    data_connector_name=\"inferred_data_connector_multi_batch_asset\",\n",
        "    data_asset_name=\"yellow_tripdata_sample_2020\",\n",
        ")"
      ]
    },
    {
      "cell_type": "code",
      "execution_count": 7,
      "id": "35df7084",
      "metadata": {},
      "outputs": [],
      "source": [
        "batch_list = data_context.get_batch_list(batch_request=single_batch_batch_request)"
      ]
    },
    {
      "cell_type": "code",
      "execution_count": 8,
      "id": "d8e74a05-3fd1-4e47-9105-b721dbcf3516",
      "metadata": {},
      "outputs": [
        {
          "data": {
            "text/plain": [
              "[<great_expectations.core.batch.Batch at 0x7f7d61cd5f40>,\n",
              " <great_expectations.core.batch.Batch at 0x7f7d61c7f1c0>,\n",
              " <great_expectations.core.batch.Batch at 0x7f7d78e097f0>,\n",
              " <great_expectations.core.batch.Batch at 0x7f7d61d65a00>,\n",
              " <great_expectations.core.batch.Batch at 0x7f7d61d65ca0>,\n",
              " <great_expectations.core.batch.Batch at 0x7f7d61d65f40>,\n",
              " <great_expectations.core.batch.Batch at 0x7f7d61d658b0>,\n",
              " <great_expectations.core.batch.Batch at 0x7f7d61d904c0>,\n",
              " <great_expectations.core.batch.Batch at 0x7f7d61d90760>,\n",
              " <great_expectations.core.batch.Batch at 0x7f7d61d90a00>,\n",
              " <great_expectations.core.batch.Batch at 0x7f7d61d90ca0>,\n",
              " <great_expectations.core.batch.Batch at 0x7f7d61d90f40>]"
            ]
          },
          "execution_count": 8,
          "metadata": {},
          "output_type": "execute_result"
        }
      ],
      "source": [
        "batch_list"
      ]
    },
    {
      "cell_type": "markdown",
      "id": "be7f4fa5",
      "metadata": {},
      "source": [
        "Multi Batch returned by `by_pickup_month`"
      ]
    },
    {
      "cell_type": "code",
      "execution_count": 9,
      "id": "c32dbac9-af5d-4677-98f9-f098ef091b6f",
      "metadata": {},
      "outputs": [],
      "source": [
        "multi_batch_batch_request: BatchRequest = BatchRequest(\n",
        "    datasource_name=\"taxi_multi_batch_sql_datasource\",\n",
        "    data_connector_name=\"inferred_data_connector_multi_batch_asset\",\n",
        "    data_asset_name=\"yellow_tripdata_sample_2020\",\n",
        ")"
      ]
    },
    {
      "cell_type": "code",
      "execution_count": 10,
      "id": "3a284bfd-00aa-4068-bc09-71c6dea627e0",
      "metadata": {},
      "outputs": [],
      "source": [
        "multi_batch_batch_list = data_context.get_batch_list(batch_request=multi_batch_batch_request)"
      ]
    },
    {
      "cell_type": "code",
      "execution_count": 11,
      "id": "7bf3e1ff",
      "metadata": {},
      "outputs": [
        {
          "data": {
            "text/plain": [
              "[<great_expectations.core.batch.Batch at 0x7f7d61d1c5e0>,\n",
              " <great_expectations.core.batch.Batch at 0x7f7d78da9f70>,\n",
              " <great_expectations.core.batch.Batch at 0x7f7d61c70520>,\n",
              " <great_expectations.core.batch.Batch at 0x7f7d61d65af0>,\n",
              " <great_expectations.core.batch.Batch at 0x7f7d61d65190>,\n",
              " <great_expectations.core.batch.Batch at 0x7f7d61da95b0>,\n",
              " <great_expectations.core.batch.Batch at 0x7f7d61da9850>,\n",
              " <great_expectations.core.batch.Batch at 0x7f7d61d65490>,\n",
              " <great_expectations.core.batch.Batch at 0x7f7d61d90df0>,\n",
              " <great_expectations.core.batch.Batch at 0x7f7d78e5ff40>,\n",
              " <great_expectations.core.batch.Batch at 0x7f7d61d65940>,\n",
              " <great_expectations.core.batch.Batch at 0x7f7d61da9550>]"
            ]
          },
          "execution_count": 11,
          "metadata": {},
          "output_type": "execute_result"
        }
      ],
      "source": [
        "multi_batch_batch_list # 12 batches"
      ]
    },
    {
      "cell_type": "markdown",
      "id": "790746ee",
      "metadata": {},
      "source": [
        "You can also get a single Batch from a multi-batch DataConnector by passing in `data_connector_query`. "
      ]
    },
    {
      "cell_type": "code",
      "execution_count": 12,
      "id": "16612bb4",
      "metadata": {},
      "outputs": [],
      "source": [
        "single_batch_batch_request_from_multi: BatchRequest = BatchRequest(\n",
        "    datasource_name=\"taxi_multi_batch_sql_datasource\",\n",
        "    data_connector_name=\"inferred_data_connector_multi_batch_asset\",\n",
        "    data_asset_name=\"yellow_tripdata_sample_2020\",\n",
        "    data_connector_query={ \n",
        "        \"batch_filter_parameters\": {\"pickup_datetime\": {\"year\": 2020, \"month\": 1}}\n",
        "    }\n",
        ")"
      ]
    },
    {
      "cell_type": "code",
      "execution_count": 13,
      "id": "6ef1b6a9",
      "metadata": {},
      "outputs": [],
      "source": [
        "batch_list = data_context.get_batch_list(batch_request=single_batch_batch_request_from_multi)"
      ]
    },
    {
      "cell_type": "code",
      "execution_count": 14,
      "id": "229815cd",
      "metadata": {},
      "outputs": [
        {
          "data": {
            "text/plain": [
              "{'data': '<great_expectations.execution_engine.sqlalchemy_batch_data.SqlAlchemyBatchData object at 0x7f7d61db24c0>',\n",
              " 'batch_request': {'datasource_name': 'taxi_multi_batch_sql_datasource',\n",
              "  'data_connector_name': 'inferred_data_connector_multi_batch_asset',\n",
              "  'data_asset_name': 'yellow_tripdata_sample_2020',\n",
              "  'data_connector_query': {'batch_filter_parameters': {'pickup_datetime': {'year': 2020,\n",
              "     'month': 1}}},\n",
              "  'limit': None,\n",
              "  'batch_spec_passthrough': None},\n",
              " 'batch_definition': {'datasource_name': 'taxi_multi_batch_sql_datasource',\n",
              "  'data_connector_name': 'inferred_data_connector_multi_batch_asset',\n",
              "  'data_asset_name': 'yellow_tripdata_sample_2020',\n",
              "  'batch_identifiers': {'pickup_datetime': {'year': 2020, 'month': 1}}},\n",
              " 'batch_spec': {'data_asset_name': 'yellow_tripdata_sample_2020',\n",
              "  'table_name': 'yellow_tripdata_sample_2020',\n",
              "  'batch_identifiers': {'pickup_datetime': {'year': 2020, 'month': 1}},\n",
              "  'type': 'table',\n",
              "  'data_asset_name_prefix': '',\n",
              "  'data_asset_name_suffix': '',\n",
              "  'include_schema_name': False,\n",
              "  'schema_name': 'public',\n",
              "  'splitter_method': 'split_on_year_and_month',\n",
              "  'splitter_kwargs': {'column_name': 'pickup_datetime'}},\n",
              " 'batch_markers': {'ge_load_time': '20220908T014808.215053Z'}}"
            ]
          },
          "execution_count": 14,
          "metadata": {},
          "output_type": "execute_result"
        }
      ],
      "source": [
        "batch_list[0].to_dict() # 'batch_identifiers': {'pickup_datetime': '2020-01'}},"
      ]
    },
    {
      "cell_type": "markdown",
      "id": "907a6ef5",
      "metadata": {},
      "source": [
        "# Using auto-initializing `Expectations` to generate parameters"
      ]
    },
    {
      "cell_type": "markdown",
      "id": "6efe9c76",
      "metadata": {},
      "source": [
        "We will generate a `Validator` using our `multi_batch_batch_list`"
      ]
    },
    {
      "cell_type": "code",
      "execution_count": 15,
      "id": "847ce4a3",
      "metadata": {},
      "outputs": [],
      "source": [
        "multi_batch_batch_list = data_context.get_batch_list(batch_request=multi_batch_batch_request)"
      ]
    },
    {
      "cell_type": "code",
      "execution_count": 16,
      "id": "a1eca55b",
      "metadata": {},
      "outputs": [],
      "source": [
        "example_suite = data_context.create_expectation_suite(expectation_suite_name=\"example_sql_suite\", overwrite_existing=True)"
      ]
    },
    {
      "cell_type": "code",
      "execution_count": 17,
      "id": "852deba1",
      "metadata": {},
      "outputs": [],
      "source": [
        "validator = data_context.get_validator_using_batch_list(batch_list=multi_batch_batch_list, expectation_suite=example_suite)"
      ]
    },
    {
      "cell_type": "markdown",
      "id": "ee01a0e9",
      "metadata": {},
      "source": [
        "When you run methods on the validator, it will typically run on the most recent batch (index `-1`), even if the Validator has access to a longer Batch list. For example, notice that rows below are all associated with `pickup_datetime` being `9` (September, 2020). This is because the datetime values are stored lexicographically, meaning `1` and `11`, `12` values will appear **before** `2` and `3`."
      ]
    },
    {
      "cell_type": "markdown",
      "id": "d8d7d827-ed51-4f83-ac41-33ae58416ef1",
      "metadata": {},
      "source": [
        "For simplicity, let's get a `validator` with the December `Batch`, which is in index `\"3\"` (after `1`, `10`, `11`). Notice that we are also casting the value as a `list` using the square brackets. "
      ]
    },
    {
      "cell_type": "code",
      "execution_count": 18,
      "id": "11b673bc-8583-4fc5-9aa0-db6ca62e240c",
      "metadata": {},
      "outputs": [],
      "source": [
        "validator = data_context.get_validator_using_batch_list(batch_list=[multi_batch_batch_list[3]], expectation_suite=example_suite)"
      ]
    },
    {
      "cell_type": "code",
      "execution_count": 19,
      "id": "ffe9cabd-b2bd-46de-9317-ba4e809342fa",
      "metadata": {},
      "outputs": [
        {
          "data": {
            "application/vnd.jupyter.widget-view+json": {
              "model_id": "372e0609ef9c435d91c5de4c6470c7b5",
              "version_major": 2,
              "version_minor": 0
            },
            "text/plain": [
              "Calculating Metrics:   0%|          | 0/1 [00:00<?, ?it/s]"
            ]
          },
          "metadata": {},
          "output_type": "display_data"
        },
        {
          "data": {
            "text/html": [
              "<div>\n",
              "<style scoped>\n",
              "    .dataframe tbody tr th:only-of-type {\n",
              "        vertical-align: middle;\n",
              "    }\n",
              "\n",
              "    .dataframe tbody tr th {\n",
              "        vertical-align: top;\n",
              "    }\n",
              "\n",
              "    .dataframe thead th {\n",
              "        text-align: right;\n",
              "    }\n",
              "</style>\n",
              "<table border=\"1\" class=\"dataframe\">\n",
              "  <thead>\n",
              "    <tr style=\"text-align: right;\">\n",
              "      <th></th>\n",
              "      <th>vendor_id</th>\n",
              "      <th>pickup_datetime</th>\n",
              "      <th>dropoff_datetime</th>\n",
              "      <th>passenger_count</th>\n",
              "      <th>trip_distance</th>\n",
              "      <th>rate_code_id</th>\n",
              "      <th>store_and_fwd_flag</th>\n",
              "      <th>pickup_location_id</th>\n",
              "      <th>dropoff_location_id</th>\n",
              "      <th>payment_type</th>\n",
              "      <th>fare_amount</th>\n",
              "      <th>extra</th>\n",
              "      <th>mta_tax</th>\n",
              "      <th>tip_amount</th>\n",
              "      <th>tolls_amount</th>\n",
              "      <th>improvement_surcharge</th>\n",
              "      <th>total_amount</th>\n",
              "      <th>congestion_surcharge</th>\n",
              "    </tr>\n",
              "  </thead>\n",
              "  <tbody>\n",
              "    <tr>\n",
              "      <th>0</th>\n",
              "      <td>1.0</td>\n",
              "      <td>2020-01-17 16:57:19</td>\n",
              "      <td>2020-01-17 17:11:18</td>\n",
              "      <td>1.0</td>\n",
              "      <td>1.40</td>\n",
              "      <td>1.0</td>\n",
              "      <td>N</td>\n",
              "      <td>163</td>\n",
              "      <td>68</td>\n",
              "      <td>1.0</td>\n",
              "      <td>10.0</td>\n",
              "      <td>3.5</td>\n",
              "      <td>0.5</td>\n",
              "      <td>3.55</td>\n",
              "      <td>0.00</td>\n",
              "      <td>0.3</td>\n",
              "      <td>17.85</td>\n",
              "      <td>2.5</td>\n",
              "    </tr>\n",
              "    <tr>\n",
              "      <th>1</th>\n",
              "      <td>1.0</td>\n",
              "      <td>2020-01-28 11:25:16</td>\n",
              "      <td>2020-01-28 11:42:32</td>\n",
              "      <td>1.0</td>\n",
              "      <td>1.80</td>\n",
              "      <td>1.0</td>\n",
              "      <td>N</td>\n",
              "      <td>234</td>\n",
              "      <td>162</td>\n",
              "      <td>1.0</td>\n",
              "      <td>11.5</td>\n",
              "      <td>2.5</td>\n",
              "      <td>0.5</td>\n",
              "      <td>3.70</td>\n",
              "      <td>0.00</td>\n",
              "      <td>0.3</td>\n",
              "      <td>18.50</td>\n",
              "      <td>2.5</td>\n",
              "    </tr>\n",
              "    <tr>\n",
              "      <th>2</th>\n",
              "      <td>2.0</td>\n",
              "      <td>2020-01-17 05:51:40</td>\n",
              "      <td>2020-01-17 06:10:33</td>\n",
              "      <td>1.0</td>\n",
              "      <td>9.21</td>\n",
              "      <td>1.0</td>\n",
              "      <td>N</td>\n",
              "      <td>162</td>\n",
              "      <td>138</td>\n",
              "      <td>1.0</td>\n",
              "      <td>27.0</td>\n",
              "      <td>0.5</td>\n",
              "      <td>0.5</td>\n",
              "      <td>7.38</td>\n",
              "      <td>6.12</td>\n",
              "      <td>0.3</td>\n",
              "      <td>44.30</td>\n",
              "      <td>2.5</td>\n",
              "    </tr>\n",
              "    <tr>\n",
              "      <th>3</th>\n",
              "      <td>1.0</td>\n",
              "      <td>2020-01-01 10:17:55</td>\n",
              "      <td>2020-01-01 10:32:23</td>\n",
              "      <td>1.0</td>\n",
              "      <td>3.40</td>\n",
              "      <td>1.0</td>\n",
              "      <td>N</td>\n",
              "      <td>79</td>\n",
              "      <td>246</td>\n",
              "      <td>1.0</td>\n",
              "      <td>13.5</td>\n",
              "      <td>2.5</td>\n",
              "      <td>0.5</td>\n",
              "      <td>3.36</td>\n",
              "      <td>0.00</td>\n",
              "      <td>0.3</td>\n",
              "      <td>20.16</td>\n",
              "      <td>2.5</td>\n",
              "    </tr>\n",
              "    <tr>\n",
              "      <th>4</th>\n",
              "      <td>2.0</td>\n",
              "      <td>2020-01-21 12:57:08</td>\n",
              "      <td>2020-01-21 13:02:57</td>\n",
              "      <td>1.0</td>\n",
              "      <td>0.80</td>\n",
              "      <td>1.0</td>\n",
              "      <td>N</td>\n",
              "      <td>161</td>\n",
              "      <td>237</td>\n",
              "      <td>1.0</td>\n",
              "      <td>5.5</td>\n",
              "      <td>0.0</td>\n",
              "      <td>0.5</td>\n",
              "      <td>1.76</td>\n",
              "      <td>0.00</td>\n",
              "      <td>0.3</td>\n",
              "      <td>10.56</td>\n",
              "      <td>2.5</td>\n",
              "    </tr>\n",
              "  </tbody>\n",
              "</table>\n",
              "</div>"
            ],
            "text/plain": [
              "   vendor_id     pickup_datetime    dropoff_datetime  passenger_count  \\\n",
              "0        1.0 2020-01-17 16:57:19 2020-01-17 17:11:18              1.0   \n",
              "1        1.0 2020-01-28 11:25:16 2020-01-28 11:42:32              1.0   \n",
              "2        2.0 2020-01-17 05:51:40 2020-01-17 06:10:33              1.0   \n",
              "3        1.0 2020-01-01 10:17:55 2020-01-01 10:32:23              1.0   \n",
              "4        2.0 2020-01-21 12:57:08 2020-01-21 13:02:57              1.0   \n",
              "\n",
              "   trip_distance  rate_code_id store_and_fwd_flag  pickup_location_id  \\\n",
              "0           1.40           1.0                  N                 163   \n",
              "1           1.80           1.0                  N                 234   \n",
              "2           9.21           1.0                  N                 162   \n",
              "3           3.40           1.0                  N                  79   \n",
              "4           0.80           1.0                  N                 161   \n",
              "\n",
              "   dropoff_location_id  payment_type  fare_amount  extra  mta_tax  tip_amount  \\\n",
              "0                   68           1.0         10.0    3.5      0.5        3.55   \n",
              "1                  162           1.0         11.5    2.5      0.5        3.70   \n",
              "2                  138           1.0         27.0    0.5      0.5        7.38   \n",
              "3                  246           1.0         13.5    2.5      0.5        3.36   \n",
              "4                  237           1.0          5.5    0.0      0.5        1.76   \n",
              "\n",
              "   tolls_amount  improvement_surcharge  total_amount  congestion_surcharge  \n",
              "0          0.00                    0.3         17.85                   2.5  \n",
              "1          0.00                    0.3         18.50                   2.5  \n",
              "2          6.12                    0.3         44.30                   2.5  \n",
              "3          0.00                    0.3         20.16                   2.5  \n",
              "4          0.00                    0.3         10.56                   2.5  "
            ]
          },
          "execution_count": 19,
          "metadata": {},
          "output_type": "execute_result"
        }
      ],
      "source": [
        "validator.head()"
      ]
    },
    {
      "cell_type": "markdown",
      "id": "8be66602",
      "metadata": {},
      "source": [
        "### Typical Workflow\n",
        "A `batch_list` becomes really useful when you are calculating parameters for auto-initializing Expectations, as they us a `RuleBasedProfiler` under-the-hood to calculate parameters."
      ]
    },
    {
      "cell_type": "markdown",
      "id": "fdef9ad7",
      "metadata": {},
      "source": [
        "Here is an example running `expect_column_median_to_be_between()` by \"guessing\" at the `min_value` and `max_value`. "
      ]
    },
    {
      "cell_type": "code",
      "execution_count": 20,
      "id": "b524a2df",
      "metadata": {},
      "outputs": [
        {
          "data": {
            "application/vnd.jupyter.widget-view+json": {
              "model_id": "321a3263c34e45baa82808745d99f000",
              "version_major": 2,
              "version_minor": 0
            },
            "text/plain": [
              "Calculating Metrics:   0%|          | 0/9 [00:00<?, ?it/s]"
            ]
          },
          "metadata": {},
          "output_type": "display_data"
        },
        {
          "data": {
            "text/plain": [
              "{\n",
              "  \"success\": false,\n",
              "  \"exception_info\": {\n",
              "    \"raised_exception\": false,\n",
              "    \"exception_traceback\": null,\n",
              "    \"exception_message\": null\n",
              "  },\n",
              "  \"meta\": {},\n",
              "  \"result\": {\n",
              "    \"observed_value\": 1.6\n",
              "  }\n",
              "}"
            ]
          },
          "execution_count": 20,
          "metadata": {},
          "output_type": "execute_result"
        }
      ],
      "source": [
        "validator.expect_column_median_to_be_between(column=\"trip_distance\", min_value=0, max_value=1)"
      ]
    },
    {
      "cell_type": "markdown",
      "id": "f18d096f",
      "metadata": {},
      "source": [
        "The observed value for our `yellow_tripdata_sample_2020_01` table where `vendor_id` = `2`  is going to be `1.6`, which means the Expectation fails"
      ]
    },
    {
      "cell_type": "markdown",
      "id": "9c5016d8",
      "metadata": {},
      "source": [
        "Now we run the same expectation again, but this time with `auto=True`. This means the `median` values are going to calculated across the `batch_list` associated with the `Validator` (ie 3 Batches for `yellow_tripdata_sample_2020_01`), which gives the min value of `1.5` and the max value of `5.23`"
      ]
    },
    {
      "cell_type": "code",
      "execution_count": 21,
      "id": "cdd821c3",
      "metadata": {},
      "outputs": [
        {
          "name": "stdout",
          "output_type": "stream",
          "text": [
            "\n"
          ]
        },
        {
          "data": {
            "application/vnd.jupyter.widget-view+json": {
              "model_id": "24cdf5939eee463cb24c7a87dd3e10a9",
              "version_major": 2,
              "version_minor": 0
            },
            "text/plain": [
              "Generating Expectations:   0%|          | 0/1 [00:00<?, ?it/s]"
            ]
          },
          "metadata": {},
          "output_type": "display_data"
        },
        {
          "data": {
            "application/vnd.jupyter.widget-view+json": {
              "model_id": "",
              "version_major": 2,
              "version_minor": 0
            },
            "text/plain": [
              "Profiling Dataset:         0%|          | 0/1 [00:00<?, ?it/s]"
            ]
          },
          "metadata": {},
          "output_type": "display_data"
        },
        {
          "data": {
            "application/vnd.jupyter.widget-view+json": {
              "model_id": "c3b804d1c7774992aefe5c5bc747cbd9",
              "version_major": 2,
              "version_minor": 0
            },
            "text/plain": [
              "Calculating Metrics:   0%|          | 0/9 [00:00<?, ?it/s]"
            ]
          },
          "metadata": {},
          "output_type": "display_data"
        },
        {
          "data": {
            "text/plain": [
              "{\n",
              "  \"success\": true,\n",
              "  \"expectation_config\": {\n",
              "    \"kwargs\": {\n",
              "      \"column\": \"trip_distance\",\n",
              "      \"min_value\": 1.6,\n",
              "      \"max_value\": 1.6,\n",
              "      \"strict_min\": false,\n",
              "      \"strict_max\": false\n",
              "    },\n",
              "    \"meta\": {\n",
              "      \"auto_generated_at\": \"20220908T014809.543396Z\",\n",
              "      \"great_expectations_version\": \"0.15.21+28.g75ae687f9.dirty\"\n",
              "    },\n",
              "    \"expectation_type\": \"expect_column_median_to_be_between\"\n",
              "  },\n",
              "  \"exception_info\": {\n",
              "    \"raised_exception\": false,\n",
              "    \"exception_traceback\": null,\n",
              "    \"exception_message\": null\n",
              "  },\n",
              "  \"meta\": {},\n",
              "  \"result\": {\n",
              "    \"observed_value\": 1.6\n",
              "  }\n",
              "}"
            ]
          },
          "execution_count": 21,
          "metadata": {},
          "output_type": "execute_result"
        }
      ],
      "source": [
        "validator.expect_column_median_to_be_between(column=\"trip_distance\", auto=True)"
      ]
    },
    {
      "cell_type": "markdown",
      "id": "c6a6c277",
      "metadata": {},
      "source": [
        "The `auto=True` will also automatically run the Expectation against the most recent Batch (which has an observed value of `1.61`) and the Expectation will pass. "
      ]
    },
    {
      "cell_type": "markdown",
      "id": "90b8b938",
      "metadata": {},
      "source": [
        "You can now save the `ExpectationSuite`."
      ]
    },
    {
      "cell_type": "code",
      "execution_count": 22,
      "id": "eba880ed",
      "metadata": {},
      "outputs": [],
      "source": [
        "validator.save_expectation_suite()"
      ]
    },
    {
      "cell_type": "markdown",
      "id": "1b7ec631",
      "metadata": {},
      "source": [
        "### Running the `ExpectationSuite` against single `Batch`"
      ]
    },
    {
      "cell_type": "markdown",
      "id": "477381f5",
      "metadata": {},
      "source": [
        "Now the ExpectationSuite can be used to validate single batches using a Checkpoint. In our example, let's validate a different table, `yellow_tripdata_sample_2020_02`, using the `ExpectationSuite` we built from `yellow_tripdata_sample_2020_01`."
      ]
    },
    {
      "cell_type": "code",
      "execution_count": 23,
      "id": "747dea95",
      "metadata": {},
      "outputs": [],
      "source": [
        "single_batch_batch_request_from_multi: BatchRequest = BatchRequest(\n",
        "    datasource_name=\"taxi_multi_batch_sql_datasource\",\n",
        "    data_connector_name=\"inferred_data_connector_multi_batch_asset\",\n",
        "    data_asset_name=\"yellow_tripdata_sample_2020\",\n",
        "    data_connector_query={ \n",
        "        \"batch_filter_parameters\": {\"pickup_datetime\": {\"year\": 2020, \"month\": 2}}\n",
        "    }\n",
        "\n",
        "\n",
        ")\n"
      ]
    },
    {
      "cell_type": "code",
      "execution_count": 24,
      "id": "cb93d87f",
      "metadata": {},
      "outputs": [
        {
          "data": {
            "text/plain": [
              "{\n",
              "  \"action_list\": [\n",
              "    {\n",
              "      \"name\": \"store_validation_result\",\n",
              "      \"action\": {\n",
              "        \"class_name\": \"StoreValidationResultAction\"\n",
              "      }\n",
              "    },\n",
              "    {\n",
              "      \"name\": \"store_evaluation_params\",\n",
              "      \"action\": {\n",
              "        \"class_name\": \"StoreEvaluationParametersAction\"\n",
              "      }\n",
              "    },\n",
              "    {\n",
              "      \"name\": \"update_data_docs\",\n",
              "      \"action\": {\n",
              "        \"class_name\": \"UpdateDataDocsAction\",\n",
              "        \"site_names\": []\n",
              "      }\n",
              "    }\n",
              "  ],\n",
              "  \"batch_request\": {},\n",
              "  \"class_name\": \"Checkpoint\",\n",
              "  \"config_version\": 1.0,\n",
              "  \"evaluation_parameters\": {},\n",
              "  \"module_name\": \"great_expectations.checkpoint\",\n",
              "  \"name\": \"my_checkpoint\",\n",
              "  \"profilers\": [],\n",
              "  \"runtime_configuration\": {},\n",
              "  \"validations\": [\n",
              "    {\n",
              "      \"batch_request\": {\n",
              "        \"datasource_name\": \"taxi_multi_batch_sql_datasource\",\n",
              "        \"data_connector_name\": \"inferred_data_connector_multi_batch_asset\",\n",
              "        \"data_asset_name\": \"yellow_tripdata_sample_2020\",\n",
              "        \"data_connector_query\": {\n",
              "          \"batch_filter_parameters\": {\n",
              "            \"pickup_datetime\": {\n",
              "              \"year\": 2020,\n",
              "              \"month\": 2\n",
              "            }\n",
              "          }\n",
              "        }\n",
              "      },\n",
              "      \"expectation_suite_name\": \"example_sql_suite\"\n",
              "    }\n",
              "  ]\n",
              "}"
            ]
          },
          "execution_count": 24,
          "metadata": {},
          "output_type": "execute_result"
        }
      ],
      "source": [
        "checkpoint_config = {\n",
        "    \"name\": \"my_checkpoint\",\n",
        "    \"config_version\": 1,\n",
        "    \"class_name\": \"SimpleCheckpoint\",\n",
        "    \"validations\": [\n",
        "        {\n",
        "            \"batch_request\": single_batch_batch_request_from_multi,\n",
        "            \"expectation_suite_name\": \"example_sql_suite\",            \n",
        "        }\n",
        "    ],\n",
        "}\n",
        "data_context.add_checkpoint(**checkpoint_config)"
      ]
    },
    {
      "cell_type": "code",
      "execution_count": 25,
      "id": "3269dfba",
      "metadata": {},
      "outputs": [
        {
          "data": {
            "application/vnd.jupyter.widget-view+json": {
              "model_id": "e1f0d2ddeae74e6ab8ae1c4936e870a5",
              "version_major": 2,
              "version_minor": 0
            },
            "text/plain": [
              "Calculating Metrics:   0%|          | 0/9 [00:00<?, ?it/s]"
            ]
          },
          "metadata": {},
          "output_type": "display_data"
        }
      ],
      "source": [
        "results = data_context.run_checkpoint(\n",
        "    checkpoint_name=\"my_checkpoint\"\n",
        ")"
      ]
    },
    {
      "cell_type": "code",
      "execution_count": 26,
      "id": "c6234082",
      "metadata": {},
      "outputs": [
        {
          "data": {
            "text/plain": [
              "False"
            ]
          },
          "execution_count": 26,
          "metadata": {},
          "output_type": "execute_result"
        }
      ],
      "source": [
        "results.success"
      ]
    },
    {
      "cell_type": "markdown",
      "id": "6914725d-85cc-4c9d-a93d-2d1c329eac74",
      "metadata": {},
      "source": [
        "# Appendix"
      ]
    },
    {
      "cell_type": "markdown",
      "id": "dd39f974",
      "metadata": {},
      "source": [
        "## Other Parameters for `InferredAssetSqlDataConnector`"
      ]
    },
    {
      "cell_type": "markdown",
      "id": "6cec10bc",
      "metadata": {},
      "source": [
        "The signature of the `InferredAssetSqlDataConnector` also contains the following required parameters:\n",
        "- `name`: string describing the name of this DataConnector.\n",
        "- `datasource_name`: the name of the Datasource that contains it.\n",
        "- `execution_engine`: an ExecutionEngine.\n",
        "\n",
        "And the following optional parameters\n",
        "- `data_asset_name_prefix`: string describing an optional prefix to prepend to inferred data_asset_names.\n",
        "- `data_asset_name_suffix`: string describing an optional suffix to append to inferred data_asset_names.\n",
        "- `include_schema_name`: bool which answers the question : \"Should the data_asset_name include the schema as a prefix?\"\n",
        "- `splitter_method`: string that names method to split the target table into multiple `Batches`.\n",
        "- `splitter_kwargs`: dict containing keyword arguments to pass to `splitter_method`.\n",
        "- `sampling_method`: string that names method to sample `Batches`.\n",
        "- `sampling_kwargs`: dict containing keyword arguments to pass to `sampling_method`.\n",
        "- `excluded_tables`: A list of tables to ignore when inferring data asset_names\n",
        "- `included_tables`: If not `None`, only include tables in this list when inferring data asset_names\n",
        "- `skip_inapplicable_tables`:  If `True`, tables that can't be successfully queried using sampling and splitter methods are excluded from inferred data_asset_names. If `False`, the class will throw an error during initialization if any such tables are encountered.\n",
        "- `batch_spec_passthrough`: dictionary with keys that will be added directly to batch_spec.\n",
        "- `introspection_directives`: Arguments passed to the introspection method to guide introspection\n",
        "\n",
        "Valid keys for `introspection_directives` include: \n",
        "- `schema_name`: string describing schema to introspect (default is `None`). We used this parameter in our example above. \n",
        "- `ignore_information_schemas_and_system_tables`: bool (`default=True`) which determines whether to ignore information schemas and system tables when introspecting the database.\n",
        "- `system_tables`: optional list of strings that define `system_tables` for your db. \n",
        "- `information_schemas`: optional list of strings that define `information_schemas` for your db. \n",
        "- `include_views`: bool (`default=True`) which determines whether to include `views` when introspecting the database. "
      ]
    },
    {
      "cell_type": "markdown",
      "id": "ee136e6b",
      "metadata": {},
      "source": [
        "## Loading Data into Postgresql Database"
      ]
    },
    {
      "cell_type": "markdown",
      "id": "9f4a183e-f0df-40f4-b64f-439666e32ab4",
      "metadata": {},
      "source": [
        "* The following code can be used to build the postgres database used in this notebook. It is included (and commented out) for reference.\n",
        "* In order to load the data into a local `postgresql` database, please feel free to use the `docker-compose.yml` file available at `great_expectations/assets/docker/postgresql/`. \n",
        "\n",
        "### To spin up the `postgresql` database\n",
        "* Have [Docker Desktop](https://www.docker.com/products/docker-desktop/) running locally.\n",
        "* Navigate to `great_expectations/assets/docker/postgresql/`\n",
        "* Type `docker-compose up`\n",
        "* Then uncomment and run the following snippet"
      ]
    },
    {
      "cell_type": "code",
      "execution_count": null,
      "id": "ad91c234-06a2-4e98-9d90-c999c2aad07f",
      "metadata": {},
      "outputs": [],
      "source": [
        "# from tests.test_utils import load_data_into_test_database\n",
        "# from typing import List\n",
        "# import sqlalchemy as sa\n",
        "# import pandas as pd\n",
        "# CONNECTION_STRING = \"postgresql+psycopg2://postgres:@localhost/test_ci\"\n",
        "\n",
        "# data_paths: List[str] = [\n",
        "#      \"../../../test_sets/taxi_yellow_tripdata_samples/yellow_tripdata_sample_2020-01.csv\",\n",
        "#      \"../../../test_sets/taxi_yellow_tripdata_samples/yellow_tripdata_sample_2020-02.csv\",\n",
        "#      \"../../../test_sets/taxi_yellow_tripdata_samples/yellow_tripdata_sample_2020-03.csv\",\n",
        "#      \"../../../test_sets/taxi_yellow_tripdata_samples/yellow_tripdata_sample_2020-04.csv\",\n",
        "#      \"../../../test_sets/taxi_yellow_tripdata_samples/yellow_tripdata_sample_2020-05.csv\",\n",
        "#      \"../../../test_sets/taxi_yellow_tripdata_samples/yellow_tripdata_sample_2020-06.csv\",\n",
        "#      \"../../../test_sets/taxi_yellow_tripdata_samples/yellow_tripdata_sample_2020-07.csv\",\n",
        "#      \"../../../test_sets/taxi_yellow_tripdata_samples/yellow_tripdata_sample_2020-08.csv\",\n",
        "#      \"../../../test_sets/taxi_yellow_tripdata_samples/yellow_tripdata_sample_2020-09.csv\",\n",
        "#      \"../../../test_sets/taxi_yellow_tripdata_samples/yellow_tripdata_sample_2020-10.csv\",\n",
        "#      \"../../../test_sets/taxi_yellow_tripdata_samples/yellow_tripdata_sample_2020-11.csv\",\n",
        "#      \"../../../test_sets/taxi_yellow_tripdata_samples/yellow_tripdata_sample_2020-12.csv\",\n",
        "# ]\n",
        "\n",
        "    \n",
        "# engine = sa.create_engine(CONNECTION_STRING)\n",
        "# connection = engine.connect()\n",
        "# table_name = \"yellow_tripdata_sample_2020\"\n",
        "# res = connection.execute(f\"DROP TABLE IF EXISTS {table_name}\")\n",
        "\n",
        "# for data_path in data_paths:\n",
        "#     # This utility is not for general use. It is only to support testing.\n",
        "#     load_data_into_test_database(\n",
        "#         table_name=\"yellow_tripdata_sample_2020\",\n",
        "#         csv_path=data_path,\n",
        "#         connection_string=CONNECTION_STRING,\n",
        "#         load_full_dataset=True,\n",
        "#         drop_existing_table=False,\n",
        "#         convert_colnames_to_datetime=[\"pickup_datetime\", \"dropoff_datetime\"]\n",
        "#     )"
      ]
    },
    {
      "cell_type": "code",
      "execution_count": null,
      "id": "5d7d4cf3",
      "metadata": {},
      "outputs": [],
      "source": []
    }
  ],
  "metadata": {
    "kernelspec": {
      "display_name": "Python 3 (ipykernel)",
      "language": "python",
      "name": "python3"
    },
    "language_info": {
      "codemirror_mode": {
        "name": "ipython",
        "version": 3
      },
      "file_extension": ".py",
      "mimetype": "text/x-python",
      "name": "python",
      "nbconvert_exporter": "python",
      "pygments_lexer": "ipython3",
      "version": "3.8.3"
    }
  },
  "nbformat": 4,
  "nbformat_minor": 5
}
