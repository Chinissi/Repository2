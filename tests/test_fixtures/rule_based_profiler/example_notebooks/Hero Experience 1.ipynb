{
 "cells": [
  {
   "cell_type": "markdown",
   "metadata": {},
   "source": [
    "# Hero Experience\n",
    "- This Notebook outlines the steps we can take to get a single `Batch` of data and running the `RuleBasedProfiler` on it.  "
   ]
  },
  {
   "cell_type": "code",
   "execution_count": null,
   "metadata": {
    "jupyter": {
     "source_hidden": true
    },
    "tags": []
   },
   "outputs": [],
   "source": [
    "import great_expectations as ge\n",
    "from great_expectations.core.batch import BatchRequest\n",
    "from great_expectations.core import ExpectationSuite\n",
    "\n",
    "from great_expectations.rule_based_profiler.config.base import RuleBasedProfilerConfig\n",
    "from great_expectations.rule_based_profiler.rule_based_profiler import BaseRuleBasedProfiler\n",
    "\n",
    "from great_expectations.core.yaml_handler import YAMLHandler\n",
    "from great_expectations.checkpoint.checkpoint import SimpleCheckpoint"
   ]
  },
  {
   "cell_type": "code",
   "execution_count": null,
   "metadata": {},
   "outputs": [],
   "source": [
    "data_context: ge.DataContext = ge.get_context()"
   ]
  },
  {
   "cell_type": "code",
   "execution_count": null,
   "metadata": {},
   "outputs": [],
   "source": [
    "# loading the first 3 months of 2019 Taxi data into our datasource\n",
    "data_path: str = \"../../../../test_sets/taxi_yellow_tripdata_samples/first_3_files\"\n",
    "datasource_config = {\n",
    "    \"name\": \"taxi_pandas\",\n",
    "    \"class_name\": \"Datasource\",\n",
    "    \"module_name\": \"great_expectations.datasource\",\n",
    "    \"execution_engine\": {\n",
    "        \"module_name\": \"great_expectations.execution_engine\",\n",
    "        \"class_name\": \"PandasExecutionEngine\",\n",
    "    },\n",
    "    \"data_connectors\": {\n",
    "        \"monthly\": {\n",
    "            \"class_name\": \"ConfiguredAssetFilesystemDataConnector\",\n",
    "            \"base_directory\": data_path,\n",
    "            \"assets\":{\n",
    "                \"my_reports\": {\n",
    "                    \"base_directory\": \"./\",\n",
    "                    \"group_names\": [\"name\", \"year\", \"month\"],\n",
    "                    \"pattern\": \"^(.+)_(\\\\d.*)-(\\\\d.*)\\\\.csv\",\n",
    "                    \"module_name\": \"great_expectations.datasource.data_connector.asset\",\n",
    "                    \"class_name\": \"Asset\",\n",
    "                },          \n",
    "            },\n",
    "        },\n",
    "    },\n",
    "}\n",
    "\n",
    "data_context.test_yaml_config(yaml_handler.dump(datasource_config))"
   ]
  },
  {
   "cell_type": "code",
   "execution_count": null,
   "metadata": {},
   "outputs": [],
   "source": [
    "# add_datasource only if it doesn't already exist in our configuration\n",
    "try:\n",
    "    data_context.get_datasource(datasource_config[\"name\"])\n",
    "except ValueError:\n",
    "    data_context.add_datasource(**datasource_config)"
   ]
  },
  {
   "cell_type": "markdown",
   "metadata": {},
   "source": [
    "## Build BatchRequest and Retrieve Batch\n",
    "In this example, we will be using a `BatchRequest` that returns a single `Batch`, namely the most recent 2019 taxi data asset in our `Asset`."
   ]
  },
  {
   "cell_type": "code",
   "execution_count": null,
   "metadata": {},
   "outputs": [],
   "source": [
    "hero_batch: BatchRequest = BatchRequest(\n",
    "    datasource_name=\"taxi_pandas\",\n",
    "    data_connector_name=\"monthly\",\n",
    "    data_asset_name=\"my_reports\",\n",
    "    data_connector_query={\n",
    "      \"index\": \"-1\"\n",
    "    }\n",
    ")"
   ]
  },
  {
   "cell_type": "code",
   "execution_count": null,
   "metadata": {},
   "outputs": [],
   "source": [
    "expectation_suite = data_context.create_expectation_suite(\n",
    "    expectation_suite_name=\"temp_suite\", overwrite_existing=True\n",
    ")\n",
    "validator = data_context.get_validator(\n",
    "    batch_request=hero_batch,\n",
    "    expectation_suite=expectation_suite,\n",
    ")\n",
    "validator.head(n_rows=5, fetch_all=False)"
   ]
  },
  {
   "cell_type": "code",
   "execution_count": null,
   "metadata": {},
   "outputs": [],
   "source": [
    "# this will be used later when we are displaying our Checkpoint results\n",
    "columns = validator.active_batch.head().columns"
   ]
  },
  {
   "cell_type": "markdown",
   "metadata": {},
   "source": [
    "# Load Profiler\n"
   ]
  },
  {
   "cell_type": "code",
   "execution_count": null,
   "metadata": {},
   "outputs": [],
   "source": [
    "# this part will be taken care of by the Data Assistants"
   ]
  },
  {
   "cell_type": "code",
   "execution_count": null,
   "metadata": {},
   "outputs": [],
   "source": [
    "configuration_path = \"../bobby_user_workflow_verbose_profiler_config.yml\""
   ]
  },
  {
   "cell_type": "code",
   "execution_count": null,
   "metadata": {},
   "outputs": [],
   "source": [
    "with open(configuration_path) as f:\n",
    "    yaml_handler = YAMLHandler()\n",
    "    read = f.read()\n",
    "    yaml_config = yaml_handler.load(read)"
   ]
  },
  {
   "cell_type": "code",
   "execution_count": null,
   "metadata": {},
   "outputs": [],
   "source": [
    "profiler_configuration: RuleBasedProfilerConfig = RuleBasedProfilerConfig(**yaml_config)"
   ]
  },
  {
   "cell_type": "code",
   "execution_count": null,
   "metadata": {},
   "outputs": [],
   "source": [
    "profiler: BaseRuleBasedProfiler = BaseRuleBasedProfiler(\n",
    "    rbp,\n",
    "    data_context=data_context,\n",
    ")"
   ]
  },
  {
   "cell_type": "code",
   "execution_count": null,
   "metadata": {},
   "outputs": [],
   "source": [
    "expectation_suite: ExpectationSuite = profiler.run(\n",
    "    expectation_suite_name=\"NewExpectationSuite\",\n",
    "    # what does a batch_quest do here? \n",
    "    batch_request=hero_batch,\n",
    "    include_citation=False,\n",
    "    \n",
    ")"
   ]
  },
  {
   "cell_type": "code",
   "execution_count": null,
   "metadata": {},
   "outputs": [],
   "source": [
    "# TODO : output of which Expectations are being included?"
   ]
  },
  {
   "cell_type": "code",
   "execution_count": null,
   "metadata": {},
   "outputs": [],
   "source": [
    "data_context.save_expectation_suite(expectation_suite)"
   ]
  },
  {
   "cell_type": "markdown",
   "metadata": {},
   "source": [
    "# Use Profiled ExpectationSuite to run Checkpoint"
   ]
  },
  {
   "cell_type": "code",
   "execution_count": null,
   "metadata": {},
   "outputs": [],
   "source": [
    "checkpoint: SimpleCheckpoint = SimpleCheckpoint(\n",
    "    data_context=data_context,\n",
    "    name=\"hero_checkpoint\",\n",
    "    validations=[{\n",
    "         \"batch_request\": hero_batch,\n",
    "         \"expectation_suite_name\": \"NewExpectationSuite\"\n",
    "    }]\n",
    ")"
   ]
  },
  {
   "cell_type": "code",
   "execution_count": null,
   "metadata": {},
   "outputs": [],
   "source": [
    "results = checkpoint.run()"
   ]
  },
  {
   "cell_type": "code",
   "execution_count": null,
   "metadata": {},
   "outputs": [],
   "source": [
    "data_context.build_data_docs()"
   ]
  }
 ],
 "metadata": {
  "kernelspec": {
   "display_name": "Python 3 (ipykernel)",
   "language": "python",
   "name": "python3"
  },
  "language_info": {
   "codemirror_mode": {
    "name": "ipython",
    "version": 3
   },
   "file_extension": ".py",
   "mimetype": "text/x-python",
   "name": "python",
   "nbconvert_exporter": "python",
   "pygments_lexer": "ipython3",
   "version": "3.8.3"
  }
 },
 "nbformat": 4,
 "nbformat_minor": 4
}
