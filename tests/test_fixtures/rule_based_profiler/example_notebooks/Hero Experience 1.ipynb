{
 "cells": [
  {
   "cell_type": "markdown",
   "metadata": {},
   "source": [
    "# Hero Experience\n",
    "- This Notebook outlines the steps we can take to get a single `Batch` of data and running the `RuleBasedProfiler` on it.  "
   ]
  },
  {
   "cell_type": "code",
   "execution_count": 4,
   "metadata": {
    "jupyter": {
     "source_hidden": true
    },
    "tags": []
   },
   "outputs": [],
   "source": [
    "import great_expectations as ge\n",
    "from great_expectations.core.batch import BatchRequest\n",
    "from great_expectations.core import ExpectationSuite\n",
    "\n",
    "from great_expectations.rule_based_profiler.config.base import RuleBasedProfilerConfig\n",
    "from great_expectations.rule_based_profiler.rule_based_profiler import BaseRuleBasedProfiler\n",
    "\n",
    "from great_expectations.core.yaml_handler import YAMLHandler\n",
    "from great_expectations.checkpoint.checkpoint import SimpleCheckpoint"
   ]
  },
  {
   "cell_type": "code",
   "execution_count": 5,
   "metadata": {},
   "outputs": [],
   "source": [
    "data_context: ge.DataContext = ge.get_context()"
   ]
  },
  {
   "cell_type": "code",
   "execution_count": 6,
   "metadata": {},
   "outputs": [],
   "source": [
    "yaml_handler = YAMLHandler()"
   ]
  },
  {
   "cell_type": "code",
   "execution_count": 7,
   "metadata": {},
   "outputs": [
    {
     "name": "stdout",
     "output_type": "stream",
     "text": [
      "Attempting to instantiate class from config...\n",
      "\tInstantiating as a Datasource, since class_name is Datasource\n",
      "\tSuccessfully instantiated Datasource\n",
      "\n",
      "\n",
      "ExecutionEngine class name: PandasExecutionEngine\n",
      "Data Connectors:\n",
      "\tmonthly : ConfiguredAssetFilesystemDataConnector\n",
      "\n",
      "\tAvailable data_asset_names (1 of 1):\n",
      "\t\tmy_reports (3 of 3): ['yellow_tripdata_sample_2019-01.csv', 'yellow_tripdata_sample_2019-02.csv', 'yellow_tripdata_sample_2019-03.csv']\n",
      "\n",
      "\tUnmatched data_references (1 of 1):['.DS_Store']\n",
      "\n"
     ]
    },
    {
     "data": {
      "text/plain": [
       "<great_expectations.datasource.new_datasource.Datasource at 0x7fd3e97c1af0>"
      ]
     },
     "execution_count": 7,
     "metadata": {},
     "output_type": "execute_result"
    }
   ],
   "source": [
    "# loading the first 3 months of 2019 Taxi data into our datasource\n",
    "data_path: str = \"../../../../test_sets/taxi_yellow_tripdata_samples/first_3_files\"\n",
    "datasource_config = {\n",
    "    \"name\": \"taxi_pandas\",\n",
    "    \"class_name\": \"Datasource\",\n",
    "    \"module_name\": \"great_expectations.datasource\",\n",
    "    \"execution_engine\": {\n",
    "        \"module_name\": \"great_expectations.execution_engine\",\n",
    "        \"class_name\": \"PandasExecutionEngine\",\n",
    "    },\n",
    "    \"data_connectors\": {\n",
    "        \"monthly\": {\n",
    "            \"class_name\": \"ConfiguredAssetFilesystemDataConnector\",\n",
    "            \"base_directory\": data_path,\n",
    "            \"assets\":{\n",
    "                \"my_reports\": {\n",
    "                    \"base_directory\": \"./\",\n",
    "                    \"group_names\": [\"name\", \"year\", \"month\"],\n",
    "                    \"pattern\": \"^(.+)_(\\\\d.*)-(\\\\d.*)\\\\.csv\",\n",
    "                    \"module_name\": \"great_expectations.datasource.data_connector.asset\",\n",
    "                    \"class_name\": \"Asset\",\n",
    "                },          \n",
    "            },\n",
    "        },\n",
    "    },\n",
    "}\n",
    "\n",
    "data_context.test_yaml_config(yaml_handler.dump(datasource_config))"
   ]
  },
  {
   "cell_type": "code",
   "execution_count": 8,
   "metadata": {},
   "outputs": [],
   "source": [
    "# add_datasource only if it doesn't already exist in our configuration\n",
    "try:\n",
    "    data_context.get_datasource(datasource_config[\"name\"])\n",
    "except ValueError:\n",
    "    data_context.add_datasource(**datasource_config)"
   ]
  },
  {
   "cell_type": "markdown",
   "metadata": {},
   "source": [
    "## Build BatchRequest and Retrieve Batch\n",
    "In this example, we will be using a `BatchRequest` that returns a single `Batch`, namely the most recent 2019 taxi data asset in our `Asset`."
   ]
  },
  {
   "cell_type": "code",
   "execution_count": 9,
   "metadata": {},
   "outputs": [],
   "source": [
    "hero_batch: BatchRequest = BatchRequest(\n",
    "    datasource_name=\"taxi_pandas\",\n",
    "    data_connector_name=\"monthly\",\n",
    "    data_asset_name=\"my_reports\",\n",
    "    data_connector_query={\n",
    "      \"index\": \"-1\"\n",
    "    }\n",
    ")"
   ]
  },
  {
   "cell_type": "code",
   "execution_count": 10,
   "metadata": {},
   "outputs": [
    {
     "name": "stderr",
     "output_type": "stream",
     "text": [
      "Calculating Metrics: 100%|████████████████████████████████| 1/1 [00:00<00:00, 75.84it/s]\n"
     ]
    },
    {
     "data": {
      "text/html": [
       "<div>\n",
       "<style scoped>\n",
       "    .dataframe tbody tr th:only-of-type {\n",
       "        vertical-align: middle;\n",
       "    }\n",
       "\n",
       "    .dataframe tbody tr th {\n",
       "        vertical-align: top;\n",
       "    }\n",
       "\n",
       "    .dataframe thead th {\n",
       "        text-align: right;\n",
       "    }\n",
       "</style>\n",
       "<table border=\"1\" class=\"dataframe\">\n",
       "  <thead>\n",
       "    <tr style=\"text-align: right;\">\n",
       "      <th></th>\n",
       "      <th>vendor_id</th>\n",
       "      <th>pickup_datetime</th>\n",
       "      <th>dropoff_datetime</th>\n",
       "      <th>passenger_count</th>\n",
       "      <th>trip_distance</th>\n",
       "      <th>rate_code_id</th>\n",
       "      <th>store_and_fwd_flag</th>\n",
       "      <th>pickup_location_id</th>\n",
       "      <th>dropoff_location_id</th>\n",
       "      <th>payment_type</th>\n",
       "      <th>fare_amount</th>\n",
       "      <th>extra</th>\n",
       "      <th>mta_tax</th>\n",
       "      <th>tip_amount</th>\n",
       "      <th>tolls_amount</th>\n",
       "      <th>improvement_surcharge</th>\n",
       "      <th>total_amount</th>\n",
       "      <th>congestion_surcharge</th>\n",
       "    </tr>\n",
       "  </thead>\n",
       "  <tbody>\n",
       "    <tr>\n",
       "      <th>0</th>\n",
       "      <td>1</td>\n",
       "      <td>2019-03-01 18:43:31</td>\n",
       "      <td>2019-03-01 18:48:42</td>\n",
       "      <td>2</td>\n",
       "      <td>1.10</td>\n",
       "      <td>1</td>\n",
       "      <td>N</td>\n",
       "      <td>143</td>\n",
       "      <td>238</td>\n",
       "      <td>1</td>\n",
       "      <td>6.0</td>\n",
       "      <td>3.5</td>\n",
       "      <td>0.5</td>\n",
       "      <td>1.55</td>\n",
       "      <td>0.0</td>\n",
       "      <td>0.3</td>\n",
       "      <td>11.85</td>\n",
       "      <td>2.5</td>\n",
       "    </tr>\n",
       "    <tr>\n",
       "      <th>1</th>\n",
       "      <td>2</td>\n",
       "      <td>2019-03-20 16:30:11</td>\n",
       "      <td>2019-03-20 16:44:49</td>\n",
       "      <td>1</td>\n",
       "      <td>2.63</td>\n",
       "      <td>1</td>\n",
       "      <td>N</td>\n",
       "      <td>231</td>\n",
       "      <td>88</td>\n",
       "      <td>1</td>\n",
       "      <td>12.5</td>\n",
       "      <td>1.0</td>\n",
       "      <td>0.5</td>\n",
       "      <td>3.36</td>\n",
       "      <td>0.0</td>\n",
       "      <td>0.3</td>\n",
       "      <td>20.16</td>\n",
       "      <td>2.5</td>\n",
       "    </tr>\n",
       "    <tr>\n",
       "      <th>2</th>\n",
       "      <td>1</td>\n",
       "      <td>2019-03-07 19:01:51</td>\n",
       "      <td>2019-03-07 19:04:36</td>\n",
       "      <td>1</td>\n",
       "      <td>0.30</td>\n",
       "      <td>1</td>\n",
       "      <td>N</td>\n",
       "      <td>237</td>\n",
       "      <td>237</td>\n",
       "      <td>1</td>\n",
       "      <td>4.0</td>\n",
       "      <td>3.5</td>\n",
       "      <td>0.5</td>\n",
       "      <td>1.66</td>\n",
       "      <td>0.0</td>\n",
       "      <td>0.3</td>\n",
       "      <td>9.96</td>\n",
       "      <td>2.5</td>\n",
       "    </tr>\n",
       "    <tr>\n",
       "      <th>3</th>\n",
       "      <td>1</td>\n",
       "      <td>2019-03-02 16:33:01</td>\n",
       "      <td>2019-03-02 16:37:41</td>\n",
       "      <td>1</td>\n",
       "      <td>0.90</td>\n",
       "      <td>1</td>\n",
       "      <td>N</td>\n",
       "      <td>42</td>\n",
       "      <td>41</td>\n",
       "      <td>1</td>\n",
       "      <td>5.5</td>\n",
       "      <td>0.0</td>\n",
       "      <td>0.5</td>\n",
       "      <td>0.00</td>\n",
       "      <td>0.0</td>\n",
       "      <td>0.3</td>\n",
       "      <td>6.30</td>\n",
       "      <td>0.0</td>\n",
       "    </tr>\n",
       "    <tr>\n",
       "      <th>4</th>\n",
       "      <td>2</td>\n",
       "      <td>2019-03-28 14:10:47</td>\n",
       "      <td>2019-03-28 14:49:37</td>\n",
       "      <td>1</td>\n",
       "      <td>15.68</td>\n",
       "      <td>3</td>\n",
       "      <td>N</td>\n",
       "      <td>231</td>\n",
       "      <td>1</td>\n",
       "      <td>1</td>\n",
       "      <td>63.0</td>\n",
       "      <td>0.0</td>\n",
       "      <td>0.0</td>\n",
       "      <td>14.76</td>\n",
       "      <td>10.5</td>\n",
       "      <td>0.3</td>\n",
       "      <td>88.56</td>\n",
       "      <td>0.0</td>\n",
       "    </tr>\n",
       "  </tbody>\n",
       "</table>\n",
       "</div>"
      ],
      "text/plain": [
       "   vendor_id      pickup_datetime     dropoff_datetime  passenger_count  \\\n",
       "0          1  2019-03-01 18:43:31  2019-03-01 18:48:42                2   \n",
       "1          2  2019-03-20 16:30:11  2019-03-20 16:44:49                1   \n",
       "2          1  2019-03-07 19:01:51  2019-03-07 19:04:36                1   \n",
       "3          1  2019-03-02 16:33:01  2019-03-02 16:37:41                1   \n",
       "4          2  2019-03-28 14:10:47  2019-03-28 14:49:37                1   \n",
       "\n",
       "   trip_distance  rate_code_id store_and_fwd_flag  pickup_location_id  \\\n",
       "0           1.10             1                  N                 143   \n",
       "1           2.63             1                  N                 231   \n",
       "2           0.30             1                  N                 237   \n",
       "3           0.90             1                  N                  42   \n",
       "4          15.68             3                  N                 231   \n",
       "\n",
       "   dropoff_location_id  payment_type  fare_amount  extra  mta_tax  tip_amount  \\\n",
       "0                  238             1          6.0    3.5      0.5        1.55   \n",
       "1                   88             1         12.5    1.0      0.5        3.36   \n",
       "2                  237             1          4.0    3.5      0.5        1.66   \n",
       "3                   41             1          5.5    0.0      0.5        0.00   \n",
       "4                    1             1         63.0    0.0      0.0       14.76   \n",
       "\n",
       "   tolls_amount  improvement_surcharge  total_amount  congestion_surcharge  \n",
       "0           0.0                    0.3         11.85                   2.5  \n",
       "1           0.0                    0.3         20.16                   2.5  \n",
       "2           0.0                    0.3          9.96                   2.5  \n",
       "3           0.0                    0.3          6.30                   0.0  \n",
       "4          10.5                    0.3         88.56                   0.0  "
      ]
     },
     "execution_count": 10,
     "metadata": {},
     "output_type": "execute_result"
    }
   ],
   "source": [
    "expectation_suite = data_context.create_expectation_suite(\n",
    "    expectation_suite_name=\"temp_suite\", overwrite_existing=True\n",
    ")\n",
    "validator = data_context.get_validator(\n",
    "    batch_request=hero_batch,\n",
    "    expectation_suite=expectation_suite,\n",
    ")\n",
    "validator.head(n_rows=5, fetch_all=False)"
   ]
  },
  {
   "cell_type": "code",
   "execution_count": 11,
   "metadata": {},
   "outputs": [],
   "source": [
    "# this will be used later when we are displaying our Checkpoint results\n",
    "columns = validator.active_batch.head().columns"
   ]
  },
  {
   "cell_type": "markdown",
   "metadata": {},
   "source": [
    "# Load Profiler\n"
   ]
  },
  {
   "cell_type": "code",
   "execution_count": 12,
   "metadata": {},
   "outputs": [],
   "source": [
    "# this part will be taken care of by the Data Assistants"
   ]
  },
  {
   "cell_type": "code",
   "execution_count": 13,
   "metadata": {},
   "outputs": [],
   "source": [
    "configuration_path = \"../bobby_user_workflow_verbose_profiler_config.yml\""
   ]
  },
  {
   "cell_type": "code",
   "execution_count": 14,
   "metadata": {},
   "outputs": [],
   "source": [
    "with open(configuration_path) as f:\n",
    "    yaml_handler = YAMLHandler()\n",
    "    read = f.read()\n",
    "    yaml_config = yaml_handler.load(read)"
   ]
  },
  {
   "cell_type": "code",
   "execution_count": 15,
   "metadata": {},
   "outputs": [],
   "source": [
    "profiler_configuration: RuleBasedProfilerConfig = RuleBasedProfilerConfig(**yaml_config)"
   ]
  },
  {
   "cell_type": "code",
   "execution_count": 19,
   "metadata": {},
   "outputs": [],
   "source": [
    "profiler: BaseRuleBasedProfiler = BaseRuleBasedProfiler(\n",
    "    profiler_configuration,\n",
    "    data_context=data_context,\n",
    ")"
   ]
  },
  {
   "cell_type": "code",
   "execution_count": 20,
   "metadata": {},
   "outputs": [
    {
     "name": "stderr",
     "output_type": "stream",
     "text": [
      "Calculating Metrics: 100%|███████████████████████████████| 2/2 [00:00<00:00, 303.58it/s]\n",
      "Calculating Metrics: 100%|███████████████████████████████| 2/2 [00:00<00:00, 139.26it/s]\n",
      "Calculating Metrics: 100%|███████████████████████████████| 1/1 [00:00<00:00, 132.12it/s]\n",
      "Calculating Metrics: 100%|███████████████████████████████| 8/8 [00:00<00:00, 420.99it/s]\n",
      "Calculating Metrics: 100%|███████████████████████████████| 8/8 [00:00<00:00, 471.14it/s]\n",
      "Calculating Metrics: 100%|███████████████████████████████| 8/8 [00:00<00:00, 474.58it/s]\n",
      "Calculating Metrics: 100%|███████████████████████████████| 8/8 [00:00<00:00, 379.59it/s]\n",
      "Calculating Metrics: 100%|███████████████████████████████| 8/8 [00:00<00:00, 368.09it/s]\n",
      "Calculating Metrics: 100%|███████████████████████████████| 8/8 [00:00<00:00, 405.72it/s]\n",
      "Calculating Metrics: 100%|███████████████████████████████| 8/8 [00:00<00:00, 480.77it/s]\n",
      "Calculating Metrics: 100%|███████████████████████████████| 8/8 [00:00<00:00, 450.61it/s]\n",
      "Calculating Metrics: 100%|███████████████████████████████| 8/8 [00:00<00:00, 427.43it/s]\n",
      "Calculating Metrics: 100%|███████████████████████████████| 8/8 [00:00<00:00, 320.51it/s]\n",
      "Calculating Metrics: 100%|███████████████████████████████| 8/8 [00:00<00:00, 450.76it/s]\n",
      "Calculating Metrics: 100%|███████████████████████████████| 8/8 [00:00<00:00, 477.04it/s]\n",
      "Calculating Metrics: 100%|███████████████████████████████| 8/8 [00:00<00:00, 402.28it/s]\n",
      "Calculating Metrics: 100%|███████████████████████████████| 8/8 [00:00<00:00, 353.57it/s]\n",
      "Calculating Metrics: 100%|███████████████████████████████| 8/8 [00:00<00:00, 342.14it/s]\n",
      "Calculating Metrics: 100%|███████████████████████████████| 8/8 [00:00<00:00, 449.16it/s]\n",
      "Calculating Metrics: 100%|███████████████████████████████| 8/8 [00:00<00:00, 424.81it/s]\n",
      "Calculating Metrics: 100%|███████████████████████████████| 8/8 [00:00<00:00, 387.52it/s]\n",
      "Calculating Metrics: 100%|███████████████████████████████| 8/8 [00:00<00:00, 379.83it/s]\n",
      "Calculating Metrics: 100%|███████████████████████████████| 8/8 [00:00<00:00, 329.14it/s]\n",
      "Calculating Metrics: 100%|███████████████████████████████| 8/8 [00:00<00:00, 473.77it/s]\n",
      "Calculating Metrics: 100%|███████████████████████████████| 8/8 [00:00<00:00, 389.81it/s]\n",
      "Calculating Metrics: 100%|███████████████████████████████| 8/8 [00:00<00:00, 452.72it/s]\n",
      "Calculating Metrics: 100%|███████████████████████████████| 8/8 [00:00<00:00, 437.69it/s]\n",
      "Calculating Metrics: 100%|███████████████████████████████| 8/8 [00:00<00:00, 437.88it/s]\n",
      "Calculating Metrics: 100%|███████████████████████████████| 8/8 [00:00<00:00, 443.31it/s]\n",
      "Calculating Metrics: 100%|███████████████████████████████| 8/8 [00:00<00:00, 464.82it/s]\n",
      "Calculating Metrics: 100%|███████████████████████████████| 8/8 [00:00<00:00, 333.54it/s]\n",
      "Calculating Metrics: 100%|███████████████████████████████| 8/8 [00:00<00:00, 333.74it/s]\n",
      "Calculating Metrics: 100%|███████████████████████████████| 8/8 [00:00<00:00, 162.58it/s]\n"
     ]
    }
   ],
   "source": [
    "expectation_suite: ExpectationSuite = profiler.run(\n",
    "    expectation_suite_name=\"NewExpectationSuite\",\n",
    "    # what does a batch_quest do here? \n",
    "    batch_request=hero_batch,\n",
    "    include_citation=False,\n",
    "    \n",
    ")"
   ]
  },
  {
   "cell_type": "code",
   "execution_count": 21,
   "metadata": {},
   "outputs": [],
   "source": [
    "# TODO : output of which Expectations are being included?"
   ]
  },
  {
   "cell_type": "code",
   "execution_count": 22,
   "metadata": {},
   "outputs": [
    {
     "data": {
      "text/plain": [
       "'/Users/work/Development/great_expectations/tests/test_fixtures/rule_based_profiler/example_notebooks/great_expectations/expectations/NewExpectationSuite.json'"
      ]
     },
     "execution_count": 22,
     "metadata": {},
     "output_type": "execute_result"
    }
   ],
   "source": [
    "data_context.save_expectation_suite(expectation_suite)"
   ]
  },
  {
   "cell_type": "markdown",
   "metadata": {},
   "source": [
    "# Use Profiled ExpectationSuite to run Checkpoint"
   ]
  },
  {
   "cell_type": "code",
   "execution_count": 23,
   "metadata": {},
   "outputs": [],
   "source": [
    "checkpoint: SimpleCheckpoint = SimpleCheckpoint(\n",
    "    data_context=data_context,\n",
    "    name=\"hero_checkpoint\",\n",
    "    validations=[{\n",
    "         \"batch_request\": hero_batch,\n",
    "         \"expectation_suite_name\": \"NewExpectationSuite\"\n",
    "    }]\n",
    ")"
   ]
  },
  {
   "cell_type": "code",
   "execution_count": 24,
   "metadata": {},
   "outputs": [
    {
     "name": "stderr",
     "output_type": "stream",
     "text": [
      "Calculating Metrics: 100%|█████████████████████████████| 33/33 [00:00<00:00, 285.91it/s]\n"
     ]
    }
   ],
   "source": [
    "results = checkpoint.run()"
   ]
  },
  {
   "cell_type": "code",
   "execution_count": 25,
   "metadata": {},
   "outputs": [
    {
     "data": {
      "text/plain": [
       "{'local_site': 'file:///Users/work/Development/great_expectations/tests/test_fixtures/rule_based_profiler/example_notebooks/great_expectations/uncommitted/data_docs/local_site/index.html'}"
      ]
     },
     "execution_count": 25,
     "metadata": {},
     "output_type": "execute_result"
    }
   ],
   "source": [
    "data_context.build_data_docs()"
   ]
  },
  {
   "cell_type": "code",
   "execution_count": null,
   "metadata": {},
   "outputs": [],
   "source": []
  }
 ],
 "metadata": {
  "kernelspec": {
   "display_name": "Python 3 (ipykernel)",
   "language": "python",
   "name": "python3"
  },
  "language_info": {
   "codemirror_mode": {
    "name": "ipython",
    "version": 3
   },
   "file_extension": ".py",
   "mimetype": "text/x-python",
   "name": "python",
   "nbconvert_exporter": "python",
   "pygments_lexer": "ipython3",
   "version": "3.8.3"
  }
 },
 "nbformat": 4,
 "nbformat_minor": 4
}
